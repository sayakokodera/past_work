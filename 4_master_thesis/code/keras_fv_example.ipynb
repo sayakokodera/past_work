{
 "cells": [
  {
   "cell_type": "code",
   "execution_count": 1,
   "metadata": {},
   "outputs": [],
   "source": [
    "import numpy as np\n",
    "import matplotlib.pyplot as plt"
   ]
  },
  {
   "cell_type": "code",
   "execution_count": 2,
   "metadata": {},
   "outputs": [],
   "source": [
    "import tensorflow as tf\n",
    "from tensorflow import keras\n",
    "from keras import layers\n",
    "from keras import models"
   ]
  },
  {
   "cell_type": "markdown",
   "metadata": {},
   "source": [
    "## Dataset preparation"
   ]
  },
  {
   "cell_type": "code",
   "execution_count": 3,
   "metadata": {},
   "outputs": [],
   "source": [
    "# Dummy datasets to see how it works\n",
    "dummy_inputs = np.arange(6)\n",
    "dummy_outputs = np.array([0, 1, 0, 1, 0, 1])\n",
    "\n",
    "train_ds = tf.data.Dataset.from_tensor_slices((dummy_inputs, dummy_outputs))\n",
    "\n",
    "#for item in train_ds:\n",
    "#    print(item)\n",
    "\n",
    "# Random shuffle\n",
    "train_ds = train_ds.shuffle(buffer_size = 6) # buffer size = how many samples are included to shuffle\n",
    "\n",
    "#for item in train_ds:\n",
    "#    print(item)"
   ]
  },
  {
   "cell_type": "code",
   "execution_count": 4,
   "metadata": {},
   "outputs": [],
   "source": [
    "def load_dataset_into_tfdata(set_range, paths, batch_size, shuffle = False, buffer_size = None):\n",
    "    # set_range = set of setNo, i.e. which data should be loaded\n",
    "    # Load data\n",
    "    path_inputs, path_outputs = paths\n",
    "    inputs = load_multi_datasets(path_inputs, set_range)\n",
    "    outputs = load_multi_datasets(path_outputs, set_range)\n",
    "    print('inputs shape = {}'.format(inputs.shape))\n",
    "    print('outputs shape = {}'.format(outputs.shape))\n",
    "    \n",
    "    # Register in tfdata\n",
    "    dataset = tf.data.Dataset.from_tensor_slices((inputs, outputs))\n",
    "    # Random shufle\n",
    "    if shuffle == True:\n",
    "        dataset = dataset.shuffle(buffer_size = buffer_size) # buffer size = how many samples are included to shuffle\n",
    "    # Batching\n",
    "    dataset = dataset.batch(batch_size)\n",
    "    \n",
    "    return dataset\n",
    "    \n",
    "    \n",
    "def load_multi_datasets(path, set_range):\n",
    "    # set_range = set of setNo, i.e. which data should be loaded\n",
    "    fname_all = []\n",
    "    for setNo in set_range:\n",
    "        # Get the file names for the current dataset\n",
    "        curr_fname = '{}/setNo{}.npy'.format(path, setNo)\n",
    "        # Append\n",
    "        fname_all.append(curr_fname)\n",
    "    # Load data\n",
    "    dataset = np.array([np.load(fname) for fname in fname_all])\n",
    "    \n",
    "    return dataset\n",
    "    "
   ]
  },
  {
   "cell_type": "code",
   "execution_count": 5,
   "metadata": {},
   "outputs": [
    {
     "name": "stdout",
     "output_type": "stream",
     "text": [
      "inputs shape = (50, 9, 81)\n",
      "outputs shape = (50, 25)\n",
      "inputs shape = (20, 9, 81)\n",
      "outputs shape = (20, 25)\n"
     ]
    }
   ],
   "source": [
    "path_inputs = 'npy_data/ML/training/input_featuremapped'\n",
    "path_outputs = 'npy_data/ML/training/outputs/fv_norm'\n",
    "batch_size = 16\n",
    "\n",
    "train_ds = load_dataset_into_tfdata(np.arange(50), [path_inputs, path_outputs], batch_size, shuffle = True, buffer_size = 20)\n",
    "val_ds = load_dataset_into_tfdata(np.arange(100, 120), [path_inputs, path_outputs], batch_size)"
   ]
  },
  {
   "cell_type": "code",
   "execution_count": 6,
   "metadata": {},
   "outputs": [],
   "source": [
    "N_input = 81\n",
    "N_cddwindow = 3 # CNN window length = 10 neighboring bins are fed to estimate the FV of a single FV\n",
    "N_output = 25"
   ]
  },
  {
   "cell_type": "markdown",
   "metadata": {},
   "source": [
    "## Sequential graph with dense nets"
   ]
  },
  {
   "cell_type": "code",
   "execution_count": 7,
   "metadata": {},
   "outputs": [],
   "source": [
    "inputs = keras.Input(shape = (N_input, ), name = 'Raw semi-vari')\n",
    "x = layers.Dense(64, activation = \"relu\", kernel_regularizer = keras.regularizers.L1(0.01))(inputs)\n",
    "x = layers.Dense(64, activation = \"relu\", kernel_regularizer = keras.regularizers.L1(0.01))(x)\n",
    "outputs = layers.Dense(N_output)(x) # No activation"
   ]
  },
  {
   "cell_type": "code",
   "execution_count": 8,
   "metadata": {},
   "outputs": [],
   "source": [
    "#model = keras.Model(inputs = inputs, outputs = outputs, name = 'fv_estimation')\n",
    "#model.summary()"
   ]
  },
  {
   "cell_type": "markdown",
   "metadata": {},
   "source": [
    "## Sequential graph with con1D nets / or autoencoder?"
   ]
  },
  {
   "cell_type": "markdown",
   "metadata": {},
   "source": [
    "Idea: each frequency bin may not be totally independent, thus convolving the freq. resonse along the axis"
   ]
  },
  {
   "cell_type": "code",
   "execution_count": 9,
   "metadata": {},
   "outputs": [],
   "source": [
    "inputs = keras.Input(shape = (N_cddwindow, N_input))\n",
    "# (1) Mask to ignore the missing inputs\n",
    "x = layers.Masking(mask_value = -1.0, input_shape = (N_cddwindow, N_input))(inputs)\n",
    "# (2) 2-layer CNN\n",
    "x = layers.Conv1D(32, 3, activation = \"relu\", kernel_regularizer = keras.regularizers.L1(0.01))(x)\n",
    "#x = layers.MaxPooling1D()(x)\n",
    "x = layers.Conv1D(32, 3, activation = \"relu\", kernel_regularizer = keras.regularizers.L1(0.01))(x)\n",
    "#x = layers.MaxPooling1D()(x)\n",
    "x = layers.Flatten()(x)\n",
    "x = layers.Dense(32, activation = \"relu\", kernel_regularizer = keras.regularizers.L1(0.01))(x)\n",
    "outputs = layers.Dense(N_output)(x) # No activation"
   ]
  },
  {
   "cell_type": "code",
   "execution_count": 10,
   "metadata": {},
   "outputs": [
    {
     "name": "stdout",
     "output_type": "stream",
     "text": [
      "Model: \"fv_estimation\"\n",
      "_________________________________________________________________\n",
      "Layer (type)                 Output Shape              Param #   \n",
      "=================================================================\n",
      "input_1 (InputLayer)         [(None, 9, 81)]           0         \n",
      "_________________________________________________________________\n",
      "masking (Masking)            (None, 9, 81)             0         \n",
      "_________________________________________________________________\n",
      "conv1d (Conv1D)              (None, 7, 32)             7808      \n",
      "_________________________________________________________________\n",
      "conv1d_1 (Conv1D)            (None, 5, 32)             3104      \n",
      "_________________________________________________________________\n",
      "flatten (Flatten)            (None, 160)               0         \n",
      "_________________________________________________________________\n",
      "dense_3 (Dense)              (None, 32)                5152      \n",
      "_________________________________________________________________\n",
      "dense_4 (Dense)              (None, 25)                825       \n",
      "=================================================================\n",
      "Total params: 16,889\n",
      "Trainable params: 16,889\n",
      "Non-trainable params: 0\n",
      "_________________________________________________________________\n"
     ]
    }
   ],
   "source": [
    "model = keras.Model(inputs = inputs, outputs = outputs, name = 'fv_estimation')\n",
    "model.summary()"
   ]
  },
  {
   "cell_type": "markdown",
   "metadata": {},
   "source": [
    "## Model compile and fit"
   ]
  },
  {
   "cell_type": "code",
   "execution_count": 11,
   "metadata": {},
   "outputs": [],
   "source": [
    "# Plot history\n",
    "def plot_loss(history):\n",
    "    plt.plot(history.history['loss'], label = 'loss')\n",
    "    plt.plot(history.history['val_loss'], label = 'val_loss')\n",
    "    plt.xlabel('Epoch')\n",
    "    plt.ylabel('Error (MSE)')\n",
    "    plt.legend()\n",
    "    plt.grid(True)"
   ]
  },
  {
   "cell_type": "code",
   "execution_count": 12,
   "metadata": {},
   "outputs": [],
   "source": [
    "def compile_and_fit(model, train_ds, val_ds, epochs):\n",
    "    model.compile(\n",
    "        optimizer = keras.optimizers.Adam(),\n",
    "        loss = 'mean_squared_error'\n",
    "    )\n",
    "    \n",
    "    history = model.fit(\n",
    "        train_ds,\n",
    "        validation_data = val_ds,\n",
    "        epochs = epochs\n",
    "    )\n",
    "    return history\n"
   ]
  },
  {
   "cell_type": "code",
   "execution_count": 13,
   "metadata": {},
   "outputs": [
    {
     "name": "stdout",
     "output_type": "stream",
     "text": [
      "Epoch 1/50\n",
      "4/4 [==============================] - 1s 128ms/step - loss: 13.1329 - val_loss: 12.5192\n",
      "Epoch 2/50\n",
      "4/4 [==============================] - 0s 14ms/step - loss: 12.4053 - val_loss: 11.9762\n",
      "Epoch 3/50\n",
      "4/4 [==============================] - 0s 13ms/step - loss: 11.8180 - val_loss: 11.4501\n",
      "Epoch 4/50\n",
      "4/4 [==============================] - 0s 14ms/step - loss: 11.2680 - val_loss: 10.9254\n",
      "Epoch 5/50\n",
      "4/4 [==============================] - 0s 14ms/step - loss: 10.7367 - val_loss: 10.4028\n",
      "Epoch 6/50\n",
      "4/4 [==============================] - 0s 13ms/step - loss: 10.2082 - val_loss: 9.8890\n",
      "Epoch 7/50\n",
      "4/4 [==============================] - 0s 14ms/step - loss: 9.7039 - val_loss: 9.3902\n",
      "Epoch 8/50\n",
      "4/4 [==============================] - 0s 14ms/step - loss: 9.1829 - val_loss: 8.9047\n",
      "Epoch 9/50\n",
      "4/4 [==============================] - 0s 14ms/step - loss: 8.6859 - val_loss: 8.4176\n",
      "Epoch 10/50\n",
      "4/4 [==============================] - 0s 14ms/step - loss: 8.1930 - val_loss: 7.9403\n",
      "Epoch 11/50\n",
      "4/4 [==============================] - 0s 14ms/step - loss: 7.7115 - val_loss: 7.4912\n",
      "Epoch 12/50\n",
      "4/4 [==============================] - 0s 13ms/step - loss: 7.2452 - val_loss: 7.0610\n",
      "Epoch 13/50\n",
      "4/4 [==============================] - 0s 14ms/step - loss: 6.7979 - val_loss: 6.6389\n",
      "Epoch 14/50\n",
      "4/4 [==============================] - 0s 13ms/step - loss: 6.3620 - val_loss: 6.2311\n",
      "Epoch 15/50\n",
      "4/4 [==============================] - 0s 14ms/step - loss: 5.9426 - val_loss: 5.8361\n",
      "Epoch 16/50\n",
      "4/4 [==============================] - 0s 14ms/step - loss: 5.5447 - val_loss: 5.4490\n",
      "Epoch 17/50\n",
      "4/4 [==============================] - 0s 14ms/step - loss: 5.1641 - val_loss: 5.0777\n",
      "Epoch 18/50\n",
      "4/4 [==============================] - 0s 14ms/step - loss: 4.8004 - val_loss: 4.7337\n",
      "Epoch 19/50\n",
      "4/4 [==============================] - 0s 30ms/step - loss: 4.4523 - val_loss: 4.3951\n",
      "Epoch 20/50\n",
      "4/4 [==============================] - 0s 14ms/step - loss: 4.1219 - val_loss: 4.0801\n",
      "Epoch 21/50\n",
      "4/4 [==============================] - 0s 14ms/step - loss: 3.8090 - val_loss: 3.7738\n",
      "Epoch 22/50\n",
      "4/4 [==============================] - 0s 14ms/step - loss: 3.5108 - val_loss: 3.4844\n",
      "Epoch 23/50\n",
      "4/4 [==============================] - 0s 14ms/step - loss: 3.2282 - val_loss: 3.2115\n",
      "Epoch 24/50\n",
      "4/4 [==============================] - 0s 14ms/step - loss: 2.9593 - val_loss: 2.9577\n",
      "Epoch 25/50\n",
      "4/4 [==============================] - 0s 14ms/step - loss: 2.7066 - val_loss: 2.7205\n",
      "Epoch 26/50\n",
      "4/4 [==============================] - 0s 14ms/step - loss: 2.4663 - val_loss: 2.4885\n",
      "Epoch 27/50\n",
      "4/4 [==============================] - 0s 14ms/step - loss: 2.2381 - val_loss: 2.2716\n",
      "Epoch 28/50\n",
      "4/4 [==============================] - 0s 14ms/step - loss: 2.0275 - val_loss: 2.0700\n",
      "Epoch 29/50\n",
      "4/4 [==============================] - 0s 13ms/step - loss: 1.8299 - val_loss: 1.8768\n",
      "Epoch 30/50\n",
      "4/4 [==============================] - 0s 13ms/step - loss: 1.6479 - val_loss: 1.7050\n",
      "Epoch 31/50\n",
      "4/4 [==============================] - 0s 13ms/step - loss: 1.4822 - val_loss: 1.5723\n",
      "Epoch 32/50\n",
      "4/4 [==============================] - 0s 14ms/step - loss: 1.3351 - val_loss: 1.4298\n",
      "Epoch 33/50\n",
      "4/4 [==============================] - 0s 14ms/step - loss: 1.1969 - val_loss: 1.3010\n",
      "Epoch 34/50\n",
      "4/4 [==============================] - 0s 27ms/step - loss: 1.0735 - val_loss: 1.2043\n",
      "Epoch 35/50\n",
      "4/4 [==============================] - 0s 14ms/step - loss: 0.9647 - val_loss: 1.0913\n",
      "Epoch 36/50\n",
      "4/4 [==============================] - 0s 14ms/step - loss: 0.8616 - val_loss: 1.0061\n",
      "Epoch 37/50\n",
      "4/4 [==============================] - 0s 15ms/step - loss: 0.7709 - val_loss: 0.9130\n",
      "Epoch 38/50\n",
      "4/4 [==============================] - 0s 15ms/step - loss: 0.6884 - val_loss: 0.8390\n",
      "Epoch 39/50\n",
      "4/4 [==============================] - 0s 15ms/step - loss: 0.6170 - val_loss: 0.7646\n",
      "Epoch 40/50\n",
      "4/4 [==============================] - 0s 15ms/step - loss: 0.5544 - val_loss: 0.7019\n",
      "Epoch 41/50\n",
      "4/4 [==============================] - 0s 14ms/step - loss: 0.4988 - val_loss: 0.6637\n",
      "Epoch 42/50\n",
      "4/4 [==============================] - 0s 14ms/step - loss: 0.4516 - val_loss: 0.6158\n",
      "Epoch 43/50\n",
      "4/4 [==============================] - 0s 15ms/step - loss: 0.4108 - val_loss: 0.5764\n",
      "Epoch 44/50\n",
      "4/4 [==============================] - 0s 15ms/step - loss: 0.3777 - val_loss: 0.5457\n",
      "Epoch 45/50\n",
      "4/4 [==============================] - 0s 13ms/step - loss: 0.3520 - val_loss: 0.5056\n",
      "Epoch 46/50\n",
      "4/4 [==============================] - 0s 14ms/step - loss: 0.3269 - val_loss: 0.5029\n",
      "Epoch 47/50\n",
      "4/4 [==============================] - 0s 14ms/step - loss: 0.3075 - val_loss: 0.4528\n",
      "Epoch 48/50\n",
      "4/4 [==============================] - 0s 15ms/step - loss: 0.2852 - val_loss: 0.4454\n",
      "Epoch 49/50\n",
      "4/4 [==============================] - 0s 15ms/step - loss: 0.2704 - val_loss: 0.4109\n",
      "Epoch 50/50\n",
      "4/4 [==============================] - 0s 15ms/step - loss: 0.2528 - val_loss: 0.3991\n"
     ]
    }
   ],
   "source": [
    "epochs = 50\n",
    "history = compile_and_fit(model, train_ds, val_ds, epochs)"
   ]
  },
  {
   "cell_type": "code",
   "execution_count": 14,
   "metadata": {},
   "outputs": [
    {
     "data": {
      "image/png": "[encoded data removed]",
      "text/plain": [
       "<Figure size 432x288 with 1 Axes>"
      ]
     },
     "metadata": {
      "needs_background": "light"
     },
     "output_type": "display_data"
    }
   ],
   "source": [
    "plot_loss(history)"
   ]
  },
  {
   "cell_type": "code",
   "execution_count": 15,
   "metadata": {},
   "outputs": [
    {
     "name": "stdout",
     "output_type": "stream",
     "text": [
      "INFO:tensorflow:Assets written to: tf_models/dummy\\assets\n"
     ]
    }
   ],
   "source": [
    "model.save('tf_models/dummy')"
   ]
  },
  {
   "cell_type": "markdown",
   "metadata": {},
   "source": [
    "## Make predictions"
   ]
  },
  {
   "cell_type": "code",
   "execution_count": 16,
   "metadata": {},
   "outputs": [
    {
     "name": "stdout",
     "output_type": "stream",
     "text": [
      "inputs shape = (20, 9, 81)\n",
      "outputs shape = (20, 25)\n",
      "2/2 [==============================] - 0s 2ms/step - loss: 0.2782\n"
     ]
    }
   ],
   "source": [
    "# Load test datasets\n",
    "test_ds = load_dataset_into_tfdata(np.arange(200, 220), [path_inputs, path_outputs], batch_size)\n",
    "# Evaluation\n",
    "test_results = model.evaluate(test_ds, return_dict = True)"
   ]
  },
  {
   "cell_type": "code",
   "execution_count": 17,
   "metadata": {},
   "outputs": [
    {
     "data": {
      "text/plain": [
       "{'loss': 0.27815231680870056}"
      ]
     },
     "execution_count": 17,
     "metadata": {},
     "output_type": "execute_result"
    }
   ],
   "source": [
    "test_results"
   ]
  },
  {
   "cell_type": "code",
   "execution_count": 18,
   "metadata": {},
   "outputs": [],
   "source": [
    "# Datasets\n",
    "test_input = load_multi_datasets(path_inputs, np.arange(310, 320))\n",
    "test_output = load_multi_datasets(path_outputs, np.arange(310, 320))\n",
    "\n",
    "# prediction\n",
    "test_pred = model.predict(test_input) # shape = n_samples x N_output"
   ]
  },
  {
   "cell_type": "code",
   "execution_count": 19,
   "metadata": {},
   "outputs": [
    {
     "data": {
      "text/plain": [
       "Text(0, 0.5, 'Normalized FV')"
      ]
     },
     "execution_count": 19,
     "metadata": {},
     "output_type": "execute_result"
    },
    {
     "data": {
      "image/png": "[encoded data removed]",
      "text/plain": [
       "<Figure size 432x288 with 1 Axes>"
      ]
     },
     "metadata": {
      "needs_background": "light"
     },
     "output_type": "display_data"
    }
   ],
   "source": [
    "# true vs prediction\n",
    "idx = 0\n",
    "plt.plot(test_output[idx, :], label = 'y_true')\n",
    "plt.plot(test_pred[idx, :], label = 'y_pred')\n",
    "plt.legend()\n",
    "plt.xlabel('lag')\n",
    "plt.ylabel('Normalized FV')"
   ]
  },
  {
   "cell_type": "markdown",
   "metadata": {},
   "source": [
    "## Training data size"
   ]
  },
  {
   "cell_type": "code",
   "execution_count": 20,
   "metadata": {},
   "outputs": [
    {
     "name": "stdout",
     "output_type": "stream",
     "text": [
      "600000\n"
     ]
    }
   ],
   "source": [
    "sets_shallow = np.array([50, 30, 20]) # N_def = 2, 5, 10\n",
    "sets_bottom = np.array([40, 20, 10])\n",
    "n_batch = 5\n",
    "n_freq = 25\n",
    "n_ssmp = 20\n",
    "n = (np.sum(sets_shallow) + 2* np.sum(sets_bottom))* n_batch* n_freq* n_ssmp\n",
    "print(n)"
   ]
  },
  {
   "cell_type": "code",
   "execution_count": 21,
   "metadata": {},
   "outputs": [
    {
     "data": {
      "text/plain": [
       "'\\nwith n = 650000\\n(*) train_reco:\\n    n x 100 x 2 (because complex) = 1 GB\\n(*) train_input:\\n    n x 10 x 88 (for conv1D) = 4.5 GB\\n(*) train_output:\\n    n x 25 = 127 MB = 0.127GB        \\n'"
      ]
     },
     "execution_count": 21,
     "metadata": {},
     "output_type": "execute_result"
    }
   ],
   "source": [
    "# Find out training data size\n",
    "\"\"\"\n",
    "with n = 650000\n",
    "(*) train_reco:\n",
    "    n x 100 x 2 (because complex) = 1 GB\n",
    "(*) train_input:\n",
    "    n x 10 x 88 (for conv1D) = 4.5 GB\n",
    "(*) train_output:\n",
    "    n x 25 = 127 MB = 0.127GB        \n",
    "\"\"\"\n",
    "#rng = np.random.default_rng()\n",
    "#dummy_data = rng.random((n, 10, 88)) \n",
    "#np.save('dummy_data.npy', dummy_data)"
   ]
  },
  {
   "cell_type": "markdown",
   "metadata": {},
   "source": [
    "## Custom loss function"
   ]
  },
  {
   "cell_type": "code",
   "execution_count": 22,
   "metadata": {},
   "outputs": [],
   "source": [
    "def loss_fv_and_reco(y_true, y_pred):\n",
    "    # Loss w.r.t. the FV\n",
    "    loss_fv = np.linalg.norm(y_true - y_pred)**2\n",
    "    \n",
    "    # SAFT\n",
    "    \n",
    "    pass"
   ]
  }
 ],
 "metadata": {
  "kernelspec": {
   "display_name": "Python 3",
   "language": "python",
   "name": "python3"
  },
  "language_info": {
   "codemirror_mode": {
    "name": "ipython",
    "version": 3
   },
   "file_extension": ".py",
   "mimetype": "text/x-python",
   "name": "python",
   "nbconvert_exporter": "python",
   "pygments_lexer": "ipython3",
   "version": "3.7.4"
  }
 },
 "nbformat": 4,
 "nbformat_minor": 2
}
