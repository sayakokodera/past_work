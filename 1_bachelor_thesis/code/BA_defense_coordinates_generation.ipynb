{
 "cells": [
  {
   "cell_type": "markdown",
   "metadata": {},
   "source": [
    "# PGF plots coordinates for BA Defense"
   ]
  },
  {
   "cell_type": "code",
   "execution_count": 32,
   "metadata": {},
   "outputs": [],
   "source": [
    "import numpy as np\n",
    "import matplotlib.pyplot as plt"
   ]
  },
  {
   "cell_type": "code",
   "execution_count": 49,
   "metadata": {},
   "outputs": [],
   "source": [
    "# setup\n",
    "min_val = -4\n",
    "max_val = 4\n",
    "seed_value = 100\n",
    "n_point = 20\n",
    "err_range = 1\n",
    "\n",
    "path = '/Users/sayakokodera/2018_Sayako_Kodera_BA/BA_defense/figures/tikz'"
   ]
  },
  {
   "cell_type": "code",
   "execution_count": 50,
   "metadata": {},
   "outputs": [],
   "source": [
    "def write_file(file_name_tex, script):\n",
    "    f = open(file_name_tex, 'w')\n",
    "    f.write(script)\n",
    "    f.close() "
   ]
  },
  {
   "cell_type": "markdown",
   "metadata": {},
   "source": [
    "### select n_point scan positions"
   ]
  },
  {
   "cell_type": "code",
   "execution_count": 64,
   "metadata": {},
   "outputs": [
    {
     "name": "stdout",
     "output_type": "stream",
     "text": [
      "-3\n",
      "-2\n",
      "-1\n",
      "0\n",
      "1\n",
      "2\n",
      "3\n",
      "-4\n",
      "-3\n",
      "-2\n",
      "-1\n",
      "0\n",
      "1\n",
      "2\n",
      "3\n",
      "-4\n",
      "-3\n",
      "-2\n",
      "-1\n",
      "0\n"
     ]
    },
    {
     "data": {
      "text/plain": [
       "[[3.937525516121977, -2.7142480151844284],\n",
       " [2.0873020764708006, -1.9534728323338615],\n",
       " [-1.3397127478223467, -0.05544720897294264],\n",
       " [1.0921363300382287, 0.6018486061318925],\n",
       " [3.4254774517091713, 1.1816794107966135],\n",
       " [-3.8574145277878316, 2.1900721761341724],\n",
       " [0.1749743825967176, 3.4958219859036705],\n",
       " [2.4039296445532203, -3.1405636885550887],\n",
       " [-2.29635174207724, -2.5627311585523365],\n",
       " [-0.6270599274992836, -1.9452826229180582],\n",
       " [-3.9205304506321363, -0.2102343206639934],\n",
       " [-1.7974942496408133, 0.7177400045433364],\n",
       " [-0.6291526259475537, 1.1433358721689997],\n",
       " [-2.459826557984165, 2.3138152333176354],\n",
       " [2.4413613389383775, 3.01262583035748],\n",
       " [-3.607152218419553, -3.4339996150149066],\n",
       " [1.4944855692351684, -2.273189094948293],\n",
       " [-0.16244990958658434, -1.6323432782214715],\n",
       " [2.719760793614011, -0.5458364475489946],\n",
       " [-1.4290732897424103, 0.09271986717104153]]"
      ]
     },
     "execution_count": 64,
     "metadata": {},
     "output_type": "execute_result"
    }
   ],
   "source": [
    "# set file name\n",
    "fname1 = '{}/posscan_scan_positions_random.tex'.format(path)\n",
    "# script\n",
    "scr1 = r\"\"\"\n",
    "    \"\"\"\n",
    "coord_list = []\n",
    "\n",
    "curr_ymin = int(min_val)\n",
    "for idx in range(n_point):\n",
    "    # set y_range \n",
    "    curr_ymin += 1\n",
    "    if curr_ymin > 3:\n",
    "        curr_ymin = int(min_val)\n",
    "    print(curr_ymin)\n",
    "    # choose (x, y)\n",
    "    curr_x = 2*max_val*np.random.random() + min_val\n",
    "    curr_y = np.random.random() + curr_ymin  \n",
    "    # add coordinates to the list\n",
    "    coord_list.append([curr_x, curr_y])\n",
    "    scr1 += r\"\"\"\\draw[fill, tui_orange] ({}, {}) circle [radius=0.25];\n",
    "    \"\"\".format(curr_x, curr_y)\n",
    "\n",
    "write_file(fname1, scr1)\n",
    "coord_list"
   ]
  },
  {
   "cell_type": "code",
   "execution_count": 68,
   "metadata": {},
   "outputs": [
    {
     "data": {
      "text/plain": [
       "[[3.937525516121977, -2.7142480151844284],\n",
       " [2.0873020764708006, -1.9534728323338615],\n",
       " [-1.3397127478223467, -0.05544720897294264],\n",
       " [1.0921363300382287, 0.6018486061318925],\n",
       " [3.4254774517091713, 1.1816794107966135],\n",
       " [-3.4574145277878316, 3.3900721761341726],\n",
       " [0.1749743825967176, 3.4958219859036705],\n",
       " [2.4039296445532203, -3.1405636885550887],\n",
       " [-2.29635174207724, -2.5627311585523365],\n",
       " [-0.6270599274992836, -1.9452826229180582],\n",
       " [-3.9205304506321363, -0.2102343206639934],\n",
       " [-1.7974942496408133, 0.7177400045433364],\n",
       " [-0.6291526259475537, 1.1433358721689997],\n",
       " [-2.459826557984165, 2.3138152333176354],\n",
       " [2.4413613389383775, 3.01262583035748],\n",
       " [-3.607152218419553, -3.4339996150149066],\n",
       " [1.4944855692351684, -2.273189094948293],\n",
       " [-0.16244990958658434, -1.6323432782214715],\n",
       " [2.719760793614011, -0.5458364475489946],\n",
       " [-1.4290732897424103, 0.09271986717104153]]"
      ]
     },
     "execution_count": 68,
     "metadata": {},
     "output_type": "execute_result"
    }
   ],
   "source": [
    "coord_list[5] = [-3.4574145277878316, 3.3900721761341724]\n",
    "coord_list"
   ]
  },
  {
   "cell_type": "code",
   "execution_count": 70,
   "metadata": {},
   "outputs": [],
   "source": [
    "coord_list[-1] = [-1.4290732897424103, 2.79271986717104153]"
   ]
  },
  {
   "cell_type": "code",
   "execution_count": 77,
   "metadata": {},
   "outputs": [],
   "source": [
    "coord_list[9] = [-0.6270599274992836, -3.7452826229180582]"
   ]
  },
  {
   "cell_type": "code",
   "execution_count": 79,
   "metadata": {},
   "outputs": [],
   "source": [
    "coord_list[1] = [0.50873020764708006, -0.6534728323338615]"
   ]
  },
  {
   "cell_type": "code",
   "execution_count": 81,
   "metadata": {},
   "outputs": [],
   "source": [
    "coord_list[3] = [1.0921363300382287, 1.9018486061318925]"
   ]
  },
  {
   "cell_type": "code",
   "execution_count": 92,
   "metadata": {},
   "outputs": [
    {
     "data": {
      "text/plain": [
       "[[3.937525516121977, -2.7142480151844284],\n",
       " [0.5087302076470801, -0.6534728323338616],\n",
       " [-1.3397127478223467, -0.05544720897294264],\n",
       " [1.0921363300382287, 1.9018486061318924],\n",
       " [3.4254774517091713, 1.1816794107966135],\n",
       " [-3.4574145277878316, 3.3900721761341726],\n",
       " [0.1749743825967176, 3.4958219859036705],\n",
       " [2.4039296445532203, -3.1405636885550887],\n",
       " [-2.29635174207724, -2.5627311585523365],\n",
       " [-0.6270599274992836, -3.745282622918058],\n",
       " [-3.9205304506321363, -0.2102343206639934],\n",
       " [-1.7974942496408133, 0.7177400045433364],\n",
       " [-0.6291526259475537, 1.1433358721689997],\n",
       " [-2.459826557984165, 2.3138152333176354],\n",
       " [2.4413613389383775, 3.01262583035748],\n",
       " [-3.607152218419553, -3.4339996150149066],\n",
       " [1.4944855692351684, -2.273189094948293],\n",
       " [-0.16244990958658434, -1.6323432782214715],\n",
       " [2.719760793614011, -0.5458364475489946],\n",
       " [-1.4290732897424103, 2.7927198671710416]]"
      ]
     },
     "execution_count": 92,
     "metadata": {},
     "output_type": "execute_result"
    }
   ],
   "source": [
    "coord_list"
   ]
  },
  {
   "cell_type": "code",
   "execution_count": 98,
   "metadata": {},
   "outputs": [],
   "source": [
    "# create tex file for scan positions random\n",
    "# set file name\n",
    "fname1 = '{}/posscan_scan_positions_random.tex'.format(path)\n",
    "# script\n",
    "del scr1\n",
    "scr1 = r\"\"\"\n",
    "    \"\"\"\n",
    "for idx in range(len(coord_list)):\n",
    "    curr_x = coord_list[idx][0]\n",
    "    curr_y = coord_list[idx][1]\n",
    "    # add the coordinate to the script\n",
    "    scr1 += r\"\"\"\\draw[fill, tui_orange] ({}, {}) circle [radius=0.25];\n",
    "    \"\"\".format(curr_x, curr_y)\n",
    "\n",
    "write_file(fname1, scr1)"
   ]
  },
  {
   "cell_type": "code",
   "execution_count": 102,
   "metadata": {},
   "outputs": [],
   "source": [
    "# create tex file with the lighter color \n",
    "# set file name\n",
    "fname1_1 = '{}/posscan_scan_positions_random_light.tex'.format(path)\n",
    "# script\n",
    "scr1_1 = r\"\"\"\n",
    "    \"\"\"\n",
    "for idx in range(len(coord_list)):\n",
    "    curr_x = coord_list[idx][0]\n",
    "    curr_y = coord_list[idx][1]\n",
    "    # add the coordinate to the script\n",
    "    scr1_1 += r\"\"\"\\draw[fill, tui_orange!50] ({}, {}) circle [radius=0.25];\n",
    "    \"\"\".format(curr_x, curr_y)\n",
    "\n",
    "write_file(fname1_1, scr1_1)"
   ]
  },
  {
   "cell_type": "markdown",
   "metadata": {},
   "source": [
    "### Position manipulation"
   ]
  },
  {
   "cell_type": "code",
   "execution_count": 84,
   "metadata": {},
   "outputs": [
    {
     "data": {
      "text/plain": [
       "[[3.841175648952535, -2.179453069565761],\n",
       " [0.7468503806979153, -1.0049183729823221],\n",
       " [-1.336304863937668, -0.05218317294685051],\n",
       " [1.3998478316432403, 1.3058469564346789],\n",
       " [3.3037074037511682, 1.1195445004514963],\n",
       " [-3.2314265695220104, 4],\n",
       " [0.318969535334458, 3.612492226109284],\n",
       " [2.621648512112928, -3.16998278055717],\n",
       " [-1.9140238965471355, -1.846731889664533],\n",
       " [-0.7500516770842697, -2.938377504600802],\n",
       " [-3.519112283074723, -0.36908002235935156],\n",
       " [-2.2186185063351127, 1.4186000954585218],\n",
       " [-0.7514855452193719, 1.269047781487597],\n",
       " [-2.4599132772182633, 2.3195030796301443],\n",
       " [3.233371694929135, 3.088773209783155],\n",
       " [-4, -3.7974704328008233],\n",
       " [1.4169630098788173, -2.2021518614833435],\n",
       " [-0.134284594272153, -1.6555212358058435],\n",
       " [3.631929499923481, -0.18506785280788424],\n",
       " [-2.217668664322804, 2.3789694413551974]]"
      ]
     },
     "execution_count": 84,
     "metadata": {},
     "output_type": "execute_result"
    }
   ],
   "source": [
    "# set file name\n",
    "fname2 = '{}/posscan_scan_positions_manipulated.tex'.format(path)\n",
    "# script\n",
    "scr2 = r\"\"\"\n",
    "    \"\"\"\n",
    "coord_list2 = []\n",
    "\n",
    "# manipulation\n",
    "np.random.seed(seed_value)\n",
    "for idx in range(n_point):\n",
    "    # set radius and angle\n",
    "    curr_r = err_range* np.random.random()\n",
    "    curr_theta = np.deg2rad(360* np.random.random())\n",
    "    # add error\n",
    "    curr_x = coord_list[idx][0] + curr_r* np.cos(curr_theta)\n",
    "    curr_y = coord_list[idx][1] + curr_r* np.sin(curr_theta)\n",
    "    # check the range\n",
    "    if curr_x > max_val:\n",
    "        curr_x = max_val\n",
    "    elif curr_x < min_val:\n",
    "        curr_x = min_val\n",
    "    \n",
    "    if curr_y > max_val:\n",
    "        curr_y = max_val\n",
    "    elif curr_y < min_val:\n",
    "        curr_y = min_val\n",
    "        \n",
    "    # add coordinates to the list\n",
    "    coord_list2.append([curr_x, curr_y])\n",
    "    scr2 += r\"\"\"\\draw[fill, fri_green] ({}, {}) circle [radius=0.25];\n",
    "    \"\"\".format(curr_x, curr_y)\n",
    "    \n",
    "write_file(fname2, scr2)\n",
    "coord_list2"
   ]
  },
  {
   "cell_type": "code",
   "execution_count": 101,
   "metadata": {},
   "outputs": [],
   "source": [
    "# create tex file with the lighter color \n",
    "# set file name\n",
    "fname2_1 = '{}/posscan_scan_positions_manipulated_light.tex'.format(path)\n",
    "# script\n",
    "scr2_1 = r\"\"\"\n",
    "    \"\"\"\n",
    "for idx in range(len(coord_list2)):\n",
    "    curr_x = coord_list2[idx][0]\n",
    "    curr_y = coord_list2[idx][1]\n",
    "    # add the coordinate to the script\n",
    "    scr2_1 += r\"\"\"\\draw[fill, fri_green!50] ({}, {}) circle [radius=0.25];\n",
    "    \"\"\".format(curr_x, curr_y)\n",
    "\n",
    "write_file(fname2_1, scr2_1)"
   ]
  },
  {
   "cell_type": "markdown",
   "metadata": {},
   "source": [
    "### Position quantization"
   ]
  },
  {
   "cell_type": "code",
   "execution_count": 85,
   "metadata": {},
   "outputs": [
    {
     "data": {
      "text/plain": [
       "[[4.0, -2.0],\n",
       " [1.0, -1.0],\n",
       " [-1.0, -0.0],\n",
       " [1.0, 1.0],\n",
       " [3.0, 1.0],\n",
       " [-3.0, 4],\n",
       " [0.0, 4.0],\n",
       " [3.0, -3.0],\n",
       " [-2.0, -2.0],\n",
       " [-1.0, -3.0],\n",
       " [-4.0, -0.0],\n",
       " [-2.0, 1.0],\n",
       " [-1.0, 1.0],\n",
       " [-2.0, 2.0],\n",
       " [3.0, 3.0],\n",
       " [-4, -4.0],\n",
       " [1.0, -2.0],\n",
       " [-0.0, -2.0],\n",
       " [4.0, -0.0],\n",
       " [-2.0, 2.0]]"
      ]
     },
     "execution_count": 85,
     "metadata": {},
     "output_type": "execute_result"
    }
   ],
   "source": [
    "# set file name\n",
    "fname3 = '{}/posscan_scan_positions_quantized.tex'.format(path)\n",
    "# script\n",
    "scr3 = r\"\"\"\n",
    "    \"\"\"\n",
    "coord_list3 = []\n",
    "\n",
    "# manipulation\n",
    "np.random.seed(seed_value)\n",
    "for idx in range(n_point):\n",
    "    # quantize\n",
    "    curr_x = np.round(coord_list2[idx][0])\n",
    "    curr_y = np.round(coord_list2[idx][1])\n",
    "    # add coordinates to the list\n",
    "    coord_list3.append([curr_x, curr_y])\n",
    "    scr3 += r\"\"\"\\draw[fill, tui_blue] ({}, {}) circle [radius=0.25];\n",
    "    \"\"\".format(curr_x, curr_y)\n",
    "    \n",
    "write_file(fname3, scr3)\n",
    "coord_list3"
   ]
  },
  {
   "cell_type": "code",
   "execution_count": null,
   "metadata": {},
   "outputs": [],
   "source": []
  }
 ],
 "metadata": {
  "kernelspec": {
   "display_name": "Python 3",
   "language": "python",
   "name": "python3"
  },
  "language_info": {
   "codemirror_mode": {
    "name": "ipython",
    "version": 3
   },
   "file_extension": ".py",
   "mimetype": "text/x-python",
   "name": "python",
   "nbconvert_exporter": "python",
   "pygments_lexer": "ipython3",
   "version": "3.6.7"
  }
 },
 "nbformat": 4,
 "nbformat_minor": 2
}
