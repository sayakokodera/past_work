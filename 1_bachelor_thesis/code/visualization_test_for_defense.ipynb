{
 "cells": [
  {
   "cell_type": "code",
   "execution_count": 36,
   "metadata": {},
   "outputs": [],
   "source": [
    "import numpy as np\n",
    "import matplotlib.pyplot as plt"
   ]
  },
  {
   "cell_type": "code",
   "execution_count": 4,
   "metadata": {},
   "outputs": [],
   "source": [
    "cimg_np2_0 = np.load('npy_data/ESE/pos_scan/dim_4_posdef_0/dr/np_2/cimg_max_sigma_0_00.npy')\n",
    "cimg_np2_025 = np.load('npy_data/ESE/pos_scan/dim_4_posdef_0/dr/np_2/cimg_max_sigma_025_00.npy')"
   ]
  },
  {
   "cell_type": "code",
   "execution_count": 5,
   "metadata": {},
   "outputs": [
    {
     "name": "stdout",
     "output_type": "stream",
     "text": [
      "False\n"
     ]
    }
   ],
   "source": [
    "print(np.all(cimg_np2_0 == cimg_np2_025))"
   ]
  },
  {
   "cell_type": "code",
   "execution_count": 6,
   "metadata": {},
   "outputs": [],
   "source": [
    "# normalization\n",
    "ref_max = abs(cimg_np2_0).max()\n",
    "cimg_np2_0 = cimg_np2_0/ref_max\n",
    "cimg_np2_025 = cimg_np2_025/ref_max"
   ]
  },
  {
   "cell_type": "code",
   "execution_count": 8,
   "metadata": {},
   "outputs": [],
   "source": [
    "# calculate error\n",
    "err_arr = cimg_np2_0 - cimg_np2_025"
   ]
  },
  {
   "cell_type": "code",
   "execution_count": 19,
   "metadata": {},
   "outputs": [
    {
     "name": "stdout",
     "output_type": "stream",
     "text": [
      "Max value = 0.07983878667108624\n"
     ]
    },
    {
     "data": {
      "image/png": "[encoded data removed]",
      "text/plain": [
       "<Figure size 432x288 with 2 Axes>"
      ]
     },
     "metadata": {},
     "output_type": "display_data"
    }
   ],
   "source": [
    "plt.imshow(err_arr)\n",
    "plt.colorbar()\n",
    "print('Max value = {}'.format(err_arr.max()))"
   ]
  },
  {
   "cell_type": "code",
   "execution_count": 16,
   "metadata": {},
   "outputs": [],
   "source": [
    "np.save('npy_data/ESE/pos_scan/dim_4_posdef_0/dr/np_2/difference_tenth_lambda.npy', err_arr)"
   ]
  },
  {
   "cell_type": "code",
   "execution_count": 42,
   "metadata": {},
   "outputs": [],
   "source": [
    "# save err_arr as png\n",
    "import tools.tex_2D_visualization as pgf2d\n",
    "import tools.array2image as arr2img"
   ]
  },
  {
   "cell_type": "code",
   "execution_count": 49,
   "metadata": {},
   "outputs": [],
   "source": [
    "# setting\n",
    "colors = ['TUI_white','FRI_green_very_light']\n",
    "boundaries = np.array([0.00, 1.00])\n",
    "jsonFile = 'tools/TUI_FRI_colors.json'\n",
    "\n",
    "# set the file name\n",
    "path = '/Users/sayakokodera/2018_Sayako_Kodera_BA/BA_defense/figures/pytikz/2D/'\n",
    "fpng = '{}/texpngs/posscan/difference_tenth_lambda.png'.format(path)"
   ]
  },
  {
   "cell_type": "code",
   "execution_count": 50,
   "metadata": {},
   "outputs": [
    {
     "name": "stdout",
     "output_type": "stream",
     "text": [
      "image saved!\n"
     ]
    }
   ],
   "source": [
    "# convert array into png\n",
    "arr2img.get_image(err_arr, colors, boundaries, jsonFile, fpng, input_vmin_vmax = True, vmin_input = 0, \n",
    "                  vmax_input = 0.08)"
   ]
  },
  {
   "cell_type": "code",
   "execution_count": 51,
   "metadata": {},
   "outputs": [
    {
     "data": {
      "text/plain": [
       "'{mymap}{rgb(0.0pt) = (0.97, 0.97, 0.98) ; rgb(1.0pt) = (0.76, 0.95, 0.91) ; }'"
      ]
     },
     "execution_count": 51,
     "metadata": {},
     "output_type": "execute_result"
    }
   ],
   "source": [
    "# get color map\n",
    "texcmap = pgf2d.TeXcmap(colors, boundaries, jsonFile)\n",
    "texcmap"
   ]
  },
  {
   "cell_type": "markdown",
   "metadata": {},
   "source": [
    "### test with npy data"
   ]
  },
  {
   "cell_type": "code",
   "execution_count": null,
   "metadata": {},
   "outputs": [],
   "source": [
    "# setting\n",
    "colors = ['TUI_white','FRI_green_light', 'TUI_orange_dark', 'TUI_red_dark']\n",
    "boundaries = np.array([0.00, 0.45, 0.75, 1.00])\n",
    "jsonFile = 'tools/TUI_FRI_colors.json'"
   ]
  },
  {
   "cell_type": "code",
   "execution_count": 34,
   "metadata": {},
   "outputs": [
    {
     "name": "stdout",
     "output_type": "stream",
     "text": [
      "21.7287299685373\n",
      "844.4629450755652\n"
     ]
    }
   ],
   "source": [
    "# reference\n",
    "ref_data = np.load('npy_data/ESE/grid/cimg_max_05_oa_0.npy')\n",
    "grid_ref_max = abs(ref_data).max()\n",
    "# load data\n",
    "cimg_np2_400 = np.load('npy_data/ESE/pos_scan/dim_4_posdef_0/dr/np_2/cimg_max_sigma_400_00.npy')\n",
    "#cimg_np2_400 = cimg_np2_400 / grid_ref_max\n",
    "print(cimg_np2_400.max())\n",
    "print(grid_ref_max)"
   ]
  },
  {
   "cell_type": "code",
   "execution_count": 30,
   "metadata": {},
   "outputs": [],
   "source": [
    "cimg_test = cmap(norm(cimg_np2_400))\n",
    "# save image\n",
    "fname_png = '{}/texpngs/posscan/test_sigma400.png'.format(path)\n",
    "plt.imsave(fname_png, cimg_test, vmin = 0, vmax = 1)"
   ]
  },
  {
   "cell_type": "markdown",
   "metadata": {},
   "source": [
    "## visualize sigma = lambda"
   ]
  },
  {
   "cell_type": "code",
   "execution_count": 40,
   "metadata": {},
   "outputs": [],
   "source": [
    "# load data\n",
    "cimg_np2_252 = np.load('npy_data/ESE/pos_scan/dim_4_posdef_0/dr/np_2/cimg_max_sigma_252_1.npy')\n",
    "cimg_np2_252 = cimg_np2_252 / grid_ref_max"
   ]
  },
  {
   "cell_type": "code",
   "execution_count": 44,
   "metadata": {},
   "outputs": [
    {
     "name": "stdout",
     "output_type": "stream",
     "text": [
      "image saved!\n"
     ]
    }
   ],
   "source": [
    "fpng_np2_252 = '{}/texpngs/posscan/dr_np_2_cimg_max_sigma_252_00.png.png'.format(path)\n",
    "\n",
    "# convert array into png\n",
    "arr2img.get_image(cimg_np2_252, colors, boundaries, jsonFile, fpng_np2_252, input_vmin_vmax = True, \n",
    "                  vmin_input = 0, vmax_input = 1)   "
   ]
  },
  {
   "cell_type": "code",
   "execution_count": 45,
   "metadata": {},
   "outputs": [],
   "source": [
    "# load data\n",
    "cimg_np2_210 = np.load('npy_data/ESE/pos_scan/dim_4_posdef_0/dr/np_2/cimg_max_sigma_210_1.npy')\n",
    "cimg_np2_210 = cimg_np2_210 / grid_ref_max\n",
    "\n",
    "cimg_np2_220 = np.load('npy_data/ESE/pos_scan/dim_4_posdef_0/dr/np_2/cimg_max_sigma_220_1.npy')\n",
    "cimg_np2_220 = cimg_np2_220 / grid_ref_max\n",
    "\n",
    "cimg_np2_230 = np.load('npy_data/ESE/pos_scan/dim_4_posdef_0/dr/np_2/cimg_max_sigma_230_1.npy')\n",
    "cimg_np2_230 = cimg_np2_230 / grid_ref_max"
   ]
  },
  {
   "cell_type": "code",
   "execution_count": 46,
   "metadata": {},
   "outputs": [
    {
     "name": "stdout",
     "output_type": "stream",
     "text": [
      "image saved!\n",
      "image saved!\n",
      "image saved!\n"
     ]
    }
   ],
   "source": [
    "# set file names\n",
    "fpng_np2_210 = '{}/texpngs/posscan/dr_np_2_cimg_max_sigma_210_00.png.png'.format(path)\n",
    "fpng_np2_220 = '{}/texpngs/posscan/dr_np_2_cimg_max_sigma_220_00.png.png'.format(path)\n",
    "fpng_np2_230 = '{}/texpngs/posscan/dr_np_2_cimg_max_sigma_230_00.png.png'.format(path)\n",
    "\n",
    "# convert arrays into png\n",
    "arr2img.get_image(cimg_np2_210, colors, boundaries, jsonFile, fpng_np2_210, input_vmin_vmax = True, \n",
    "                  vmin_input = 0, vmax_input = 1)   \n",
    "\n",
    "arr2img.get_image(cimg_np2_220, colors, boundaries, jsonFile, fpng_np2_220, input_vmin_vmax = True, \n",
    "                  vmin_input = 0, vmax_input = 1)   \n",
    "\n",
    "arr2img.get_image(cimg_np2_230, colors, boundaries, jsonFile, fpng_np2_230, input_vmin_vmax = True, \n",
    "                  vmin_input = 0, vmax_input = 1)   "
   ]
  },
  {
   "cell_type": "code",
   "execution_count": null,
   "metadata": {},
   "outputs": [],
   "source": []
  }
 ],
 "metadata": {
  "kernelspec": {
   "display_name": "Python 3",
   "language": "python",
   "name": "python3"
  },
  "language_info": {
   "codemirror_mode": {
    "name": "ipython",
    "version": 3
   },
   "file_extension": ".py",
   "mimetype": "text/x-python",
   "name": "python",
   "nbconvert_exporter": "python",
   "pygments_lexer": "ipython3",
   "version": "3.6.7"
  }
 },
 "nbformat": 4,
 "nbformat_minor": 2
}
