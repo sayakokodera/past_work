{
 "cells": [
  {
   "cell_type": "code",
   "execution_count": 1,
   "metadata": {
    "collapsed": true
   },
   "outputs": [],
   "source": [
    "import numpy as np\n",
    "import matplotlib.pyplot as plt\n",
    "from image_quality_analyzer import ImageQualityAnalyzerGCNR"
   ]
  },
  {
   "cell_type": "markdown",
   "metadata": {},
   "source": [
    "### load data"
   ]
  },
  {
   "cell_type": "code",
   "execution_count": 3,
   "metadata": {
    "collapsed": false
   },
   "outputs": [],
   "source": [
    "cimg_np3_005_3 = np.load('H:/2018_Sayako_Kodera_BA_Daten/npy_data/ESE/pos_scan/dim_4_posdef_0/dr/dx_np_3/cimg_max_sigma_005_3.npy')\n",
    "cimg_ref = np.load('npy_data/ESE/grid/cimg_max_05_oa_0.npy')\n"
   ]
  },
  {
   "cell_type": "code",
   "execution_count": 17,
   "metadata": {
    "collapsed": false
   },
   "outputs": [],
   "source": [
    "plt.figure(1)\n",
    "plt.imshow(cimg_ref)\n",
    "plt.title('Reference')\n",
    "plt.show()"
   ]
  },
  {
   "cell_type": "code",
   "execution_count": 18,
   "metadata": {
    "collapsed": false
   },
   "outputs": [],
   "source": [
    "plt.figure(2)\n",
    "plt.imshow(cimg_np3_005_3)\n",
    "plt.title('Np3 sigma 005 sam 3')\n",
    "plt.show()"
   ]
  },
  {
   "cell_type": "code",
   "execution_count": 4,
   "metadata": {
    "collapsed": true
   },
   "outputs": [],
   "source": [
    "cimg_ref = np.load('npy_data/ESE/grid/cimg_max_05_oa_0.npy')\n",
    "#cimg_posscan_7mm = np.load('npy_data/ESE/pos_scan/dim_4_posdef_0/dr/np_3/cimg_max_sigma_700_0.npy')\n",
    "#cimg_posscan_2mm = np.load('npy_data/ESE/pos_scan/dim_4_posdef_0/dr/np_3/20181115_0_2_mm/cimg_max_sigma_20_0.npy')"
   ]
  },
  {
   "cell_type": "markdown",
   "metadata": {},
   "source": [
    "### ROI setting with 3dB circle"
   ]
  },
  {
   "cell_type": "code",
   "execution_count": 5,
   "metadata": {
    "collapsed": false
   },
   "outputs": [
    {
     "ename": "TypeError",
     "evalue": "super() takes at least 1 argument (0 given)",
     "output_type": "error",
     "traceback": [
      "\u001b[1;31m---------------------------------------------------------------------------\u001b[0m",
      "\u001b[1;31mTypeError\u001b[0m                                 Traceback (most recent call last)",
      "\u001b[1;32m<ipython-input-5-36b7c881b1ae>\u001b[0m in \u001b[0;36m<module>\u001b[1;34m()\u001b[0m\n\u001b[1;32m----> 1\u001b[1;33m \u001b[0manalyzer1\u001b[0m \u001b[1;33m=\u001b[0m \u001b[0mImageQualityAnalyzerGCNR\u001b[0m\u001b[1;33m(\u001b[0m\u001b[0mcimg_ref\u001b[0m\u001b[1;33m)\u001b[0m\u001b[1;33m\u001b[0m\u001b[0m\n\u001b[0m\u001b[0;32m      2\u001b[0m \u001b[0manalyzer1\u001b[0m\u001b[1;33m.\u001b[0m\u001b[0mset_roi\u001b[0m\u001b[1;33m(\u001b[0m\u001b[0mcimg_ref\u001b[0m\u001b[1;33m,\u001b[0m \u001b[0mnp\u001b[0m\u001b[1;33m.\u001b[0m\u001b[0marray\u001b[0m\u001b[1;33m(\u001b[0m\u001b[1;33m[\u001b[0m\u001b[1;33m[\u001b[0m\u001b[1;36m10\u001b[0m\u001b[1;33m,\u001b[0m \u001b[1;36m9\u001b[0m\u001b[1;33m]\u001b[0m\u001b[1;33m,\u001b[0m \u001b[1;33m[\u001b[0m\u001b[1;36m16\u001b[0m\u001b[1;33m,\u001b[0m \u001b[1;36m18\u001b[0m\u001b[1;33m]\u001b[0m\u001b[1;33m,\u001b[0m \u001b[1;33m[\u001b[0m\u001b[1;36m20\u001b[0m\u001b[1;33m,\u001b[0m \u001b[1;36m23\u001b[0m\u001b[1;33m]\u001b[0m\u001b[1;33m,\u001b[0m \u001b[1;33m[\u001b[0m\u001b[1;36m29\u001b[0m\u001b[1;33m,\u001b[0m \u001b[1;36m32\u001b[0m\u001b[1;33m]\u001b[0m\u001b[1;33m]\u001b[0m\u001b[1;33m)\u001b[0m\u001b[1;33m,\u001b[0m \u001b[1;36m0.5\u001b[0m\u001b[1;33m)\u001b[0m\u001b[1;33m\u001b[0m\u001b[0m\n\u001b[0;32m      3\u001b[0m \u001b[0mroi\u001b[0m \u001b[1;33m=\u001b[0m \u001b[0manalyzer1\u001b[0m\u001b[1;33m.\u001b[0m\u001b[0mroi\u001b[0m\u001b[1;33m\u001b[0m\u001b[0m\n",
      "\u001b[1;32mC:\\Users\\sako5821\\Desktop\\git\\2018_Sayako_Kodera_BA\\Code\\image_quality_analyzer.pyc\u001b[0m in \u001b[0;36m__init__\u001b[1;34m(self, data, roi)\u001b[0m\n\u001b[0;32m     80\u001b[0m \u001b[1;33m\u001b[0m\u001b[0m\n\u001b[0;32m     81\u001b[0m         \"\"\"\n\u001b[1;32m---> 82\u001b[1;33m         \u001b[0msuper\u001b[0m\u001b[1;33m(\u001b[0m\u001b[1;33m)\u001b[0m\u001b[1;33m.\u001b[0m\u001b[0m__init__\u001b[0m\u001b[1;33m(\u001b[0m\u001b[1;33m)\u001b[0m\u001b[1;33m\u001b[0m\u001b[0m\n\u001b[0m\u001b[0;32m     83\u001b[0m \u001b[1;33m\u001b[0m\u001b[0m\n\u001b[0;32m     84\u001b[0m         \u001b[0mself\u001b[0m\u001b[1;33m.\u001b[0m\u001b[0mdata\u001b[0m \u001b[1;33m=\u001b[0m \u001b[0mnp\u001b[0m\u001b[1;33m.\u001b[0m\u001b[0marray\u001b[0m\u001b[1;33m(\u001b[0m\u001b[0mdata\u001b[0m\u001b[1;33m)\u001b[0m \u001b[1;33m/\u001b[0m \u001b[0mnp\u001b[0m\u001b[1;33m.\u001b[0m\u001b[0mabs\u001b[0m\u001b[1;33m(\u001b[0m\u001b[0mdata\u001b[0m\u001b[1;33m)\u001b[0m\u001b[1;33m.\u001b[0m\u001b[0mmax\u001b[0m\u001b[1;33m(\u001b[0m\u001b[1;33m)\u001b[0m \u001b[1;31m# normalized with its maximal\u001b[0m\u001b[1;33m\u001b[0m\u001b[0m\n",
      "\u001b[1;31mTypeError\u001b[0m: super() takes at least 1 argument (0 given)"
     ]
    }
   ],
   "source": [
    "analyzer1 = ImageQualityAnalyzerGCNR(cimg_ref)\n",
    "analyzer1.set_roi(cimg_ref, np.array([[10, 9], [16, 18], [20, 23], [29, 32]]), \n",
    "                  0.5)\n",
    "roi = analyzer1.roi"
   ]
  },
  {
   "cell_type": "code",
   "execution_count": 4,
   "metadata": {
    "collapsed": false
   },
   "outputs": [
    {
     "data": {
      "text/plain": [
       "<matplotlib.image.AxesImage at 0x11c4cd898>"
      ]
     },
     "execution_count": 4,
     "metadata": {},
     "output_type": "execute_result"
    },
    {
     "data": {
      "image/png": "[encoded data removed]",
      "text/plain": [
       "<Figure size 432x288 with 1 Axes>"
      ]
     },
     "metadata": {},
     "output_type": "display_data"
    }
   ],
   "source": [
    "plt.imshow(roi)"
   ]
  },
  {
   "cell_type": "code",
   "execution_count": 5,
   "metadata": {
    "collapsed": false
   },
   "outputs": [
    {
     "data": {
      "text/plain": [
       "<matplotlib.image.AxesImage at 0x11c640b38>"
      ]
     },
     "execution_count": 5,
     "metadata": {},
     "output_type": "execute_result"
    },
    {
     "data": {
      "image/png": "[encoded data removed]",
      "text/plain": [
       "<Figure size 432x288 with 1 Axes>"
      ]
     },
     "metadata": {},
     "output_type": "display_data"
    }
   ],
   "source": [
    "plt.imshow(cimg_posscan_7mm)"
   ]
  },
  {
   "cell_type": "markdown",
   "metadata": {},
   "source": [
    "### GCNR with the rerence data & ROI(3dB)"
   ]
  },
  {
   "cell_type": "code",
   "execution_count": 6,
   "metadata": {
    "collapsed": false
   },
   "outputs": [
    {
     "data": {
      "text/plain": [
       "0.85"
      ]
     },
     "execution_count": 6,
     "metadata": {},
     "output_type": "execute_result"
    }
   ],
   "source": [
    "GCNR1 = analyzer1.get_gcnr()\n",
    "GCNR1"
   ]
  },
  {
   "cell_type": "code",
   "execution_count": 7,
   "metadata": {
    "collapsed": false
   },
   "outputs": [
    {
     "name": "stdout",
     "output_type": "stream",
     "text": [
      "error pixels inside : 1\n",
      "error pixels ourside : 2\n",
      "epsilon : 0.4207123831461666\n",
      "pixels inside : 20\n",
      "PDF inside : [0.4207123831461666, 0.4282806272579949, 0.4334295679552889, 0.43740837000045446, 0.5153300040342834, 0.5224525380732077, 0.5510469650723994, 0.5680036241387272, 0.5802104073468614, 0.5821598320957939, 0.583524257036578, 0.5835709705982481, 0.630505307419418, 0.639369029101538, 0.6414712204770715, 0.6427046321208841, 0.6428820209051337, 0.7372816618945175, 0.9175113930705355, 1.0]\n"
     ]
    }
   ],
   "source": [
    "print('error pixels inside : {}'.format(analyzer1.pix_missed))\n",
    "print('error pixels ourside : {}'.format(analyzer1.pix_false))\n",
    "print('epsilon : {}'.format(analyzer1.epsilon))\n",
    "print('pixels inside : {}'.format(len(analyzer1.pdf_inside)))\n",
    "print('PDF inside : {}'.format(analyzer1.pdf_inside))"
   ]
  },
  {
   "cell_type": "markdown",
   "metadata": {},
   "source": [
    "### GCNR with the pos_scan 7mm & ROI(3dB)"
   ]
  },
  {
   "cell_type": "code",
   "execution_count": 8,
   "metadata": {
    "collapsed": false
   },
   "outputs": [
    {
     "data": {
      "text/plain": [
       "0.09999999999999998"
      ]
     },
     "execution_count": 8,
     "metadata": {},
     "output_type": "execute_result"
    }
   ],
   "source": [
    "analyzer2 = ImageQualityAnalyzerGCNR(cimg_posscan_7mm, roi)\n",
    "GCNR2 = analyzer2.get_gcnr()\n",
    "GCNR2"
   ]
  },
  {
   "cell_type": "code",
   "execution_count": 9,
   "metadata": {
    "collapsed": false
   },
   "outputs": [
    {
     "name": "stdout",
     "output_type": "stream",
     "text": [
      "error pixels inside : 17\n",
      "error pixels ourside : 1\n",
      "epsilon : 0.9380540315118716\n",
      "pixels inside : 20\n",
      "PDF inside : [0.4980567774105622, 0.5446568122644178, 0.5681441435038712, 0.6126767122160055, 0.6323147361781243, 0.6422671263576956, 0.6638036615920535, 0.6979239255993768, 0.7128991735979784, 0.7291017589613256, 0.7617731445528217, 0.7831275365347804, 0.8178003943315426, 0.8618320448008407, 0.8663778247960652, 0.8792874645045228, 0.8848164505258298, 0.9568232204082481, 0.9706378573008264, 1.0]\n"
     ]
    }
   ],
   "source": [
    "print('error pixels inside : {}'.format(analyzer2.pix_missed))\n",
    "print('error pixels ourside : {}'.format(analyzer2.pix_false))\n",
    "print('epsilon : {}'.format(analyzer2.epsilon))\n",
    "print('pixels inside : {}'.format(len(analyzer2.pdf_inside)))\n",
    "print('PDF inside : {}'.format(analyzer2.pdf_inside))"
   ]
  },
  {
   "cell_type": "markdown",
   "metadata": {},
   "source": [
    "### test with different epsilon to check if this is the optimized epsion "
   ]
  },
  {
   "cell_type": "code",
   "execution_count": 10,
   "metadata": {
    "collapsed": false
   },
   "outputs": [
    {
     "name": "stdout",
     "output_type": "stream",
     "text": [
      "error pixels inside : 10\n",
      "error pixels ourside : 61\n"
     ]
    }
   ],
   "source": [
    "dum_epsilon = 0.7291017589613256\n",
    "pix_missed = len([x for x in analyzer2.pdf_inside if x <= dum_epsilon])\n",
    "pix_false = len([x for x in analyzer2.pdf_outside if x >= dum_epsilon])\n",
    "print('error pixels inside : {}'.format(pix_missed))\n",
    "print('error pixels ourside : {}'.format(pix_false))"
   ]
  },
  {
   "cell_type": "markdown",
   "metadata": {},
   "source": [
    "### ROI setting with 0dB"
   ]
  },
  {
   "cell_type": "code",
   "execution_count": 11,
   "metadata": {
    "collapsed": false
   },
   "outputs": [
    {
     "data": {
      "text/plain": [
       "(array([10, 16, 19, 20, 29]), array([ 9, 18, 23, 23, 32]))"
      ]
     },
     "execution_count": 11,
     "metadata": {},
     "output_type": "execute_result"
    }
   ],
   "source": [
    "analyzer3 = ImageQualityAnalyzerGCNR(cimg_ref)\n",
    "analyzer3.set_roi(cimg_ref, np.array([[10, 9], [16, 18], [20, 23], [19, 32]]), 1)\n",
    "roi_0dB = analyzer3.roi\n",
    "np.where(roi_0dB == 1)"
   ]
  },
  {
   "cell_type": "markdown",
   "metadata": {},
   "source": [
    "### GCNR with the reference data & ROI(0dB)"
   ]
  },
  {
   "cell_type": "code",
   "execution_count": 12,
   "metadata": {
    "collapsed": false
   },
   "outputs": [
    {
     "data": {
      "text/plain": [
       "1.0"
      ]
     },
     "execution_count": 12,
     "metadata": {},
     "output_type": "execute_result"
    }
   ],
   "source": [
    "GCNR3 = analyzer3.get_gcnr()\n",
    "GCNR3"
   ]
  },
  {
   "cell_type": "code",
   "execution_count": 13,
   "metadata": {
    "collapsed": false
   },
   "outputs": [
    {
     "name": "stdout",
     "output_type": "stream",
     "text": [
      "error pixels inside : 3\n",
      "error pixels ourside : 0\n",
      "epsilon : 0.7372816618945175\n",
      "pixels inside : 5\n",
      "PDF inside : [0.630505307419418, 0.6414712204770715, 0.7372816618945175, 0.9175113930705355, 1.0]\n"
     ]
    }
   ],
   "source": [
    "print('error pixels inside : {}'.format(analyzer3.pix_missed))\n",
    "print('error pixels ourside : {}'.format(analyzer3.pix_false))\n",
    "print('epsilon : {}'.format(analyzer3.epsilon))\n",
    "print('pixels inside : {}'.format(len(analyzer3.pdf_inside)))\n",
    "print('PDF inside : {}'.format(analyzer3.pdf_inside))"
   ]
  },
  {
   "cell_type": "markdown",
   "metadata": {},
   "source": [
    "### GCNR with the pos_scan 7mm & ROI(0dB)"
   ]
  },
  {
   "cell_type": "code",
   "execution_count": 14,
   "metadata": {
    "collapsed": false
   },
   "outputs": [
    {
     "data": {
      "text/plain": [
       "0.0"
      ]
     },
     "execution_count": 14,
     "metadata": {},
     "output_type": "execute_result"
    }
   ],
   "source": [
    "analyzer4 = ImageQualityAnalyzerGCNR(cimg_posscan_7mm, roi_0dB)\n",
    "GCNR4 = analyzer4.get_gcnr()\n",
    "GCNR4"
   ]
  },
  {
   "cell_type": "code",
   "execution_count": 15,
   "metadata": {
    "collapsed": false
   },
   "outputs": [
    {
     "name": "stdout",
     "output_type": "stream",
     "text": [
      "error pixels inside : 3\n",
      "error pixels ourside : 2\n",
      "epsilon : 0.9380540315118716\n",
      "pixels inside : 5\n",
      "PDF inside : [0.6323147361781243, 0.7831275365347804, 0.8848164505258298, 0.9568232204082481, 0.9706378573008264]\n"
     ]
    }
   ],
   "source": [
    "print('error pixels inside : {}'.format(analyzer4.pix_missed))\n",
    "print('error pixels ourside : {}'.format(analyzer4.pix_false))\n",
    "print('epsilon : {}'.format(analyzer4.epsilon))\n",
    "print('pixels inside : {}'.format(len(analyzer4.pdf_inside)))\n",
    "print('PDF inside : {}'.format(analyzer4.pdf_inside))"
   ]
  },
  {
   "cell_type": "code",
   "execution_count": 16,
   "metadata": {
    "collapsed": false
   },
   "outputs": [
    {
     "data": {
      "text/plain": [
       "[0.9380540315118716, 1.0]"
      ]
     },
     "execution_count": 16,
     "metadata": {},
     "output_type": "execute_result"
    }
   ],
   "source": [
    "[x for x in analyzer4.pdf_outside if x >= analyzer4.epsilon]"
   ]
  },
  {
   "cell_type": "markdown",
   "metadata": {},
   "source": [
    "### GCNR with pos_scan 2mm & ROI(0dB)"
   ]
  },
  {
   "cell_type": "code",
   "execution_count": 17,
   "metadata": {
    "collapsed": false
   },
   "outputs": [
    {
     "data": {
      "text/plain": [
       "0.19999999999999996"
      ]
     },
     "execution_count": 17,
     "metadata": {},
     "output_type": "execute_result"
    }
   ],
   "source": [
    "analyzer5 = ImageQualityAnalyzerGCNR(cimg_posscan_2mm, roi_0dB)\n",
    "GCNR5 = analyzer5.get_gcnr()\n",
    "GCNR5"
   ]
  },
  {
   "cell_type": "code",
   "execution_count": 18,
   "metadata": {
    "collapsed": false
   },
   "outputs": [
    {
     "name": "stdout",
     "output_type": "stream",
     "text": [
      "error pixels inside : 3\n",
      "error pixels ourside : 1\n",
      "epsilon : 0.9218592617431043\n",
      "pixels inside : 5\n",
      "PDF inside : [0.6776453980562585, 0.8218314516728686, 0.8530977507998714, 0.9278648787639748, 1.0]\n"
     ]
    }
   ],
   "source": [
    "print('error pixels inside : {}'.format(analyzer5.pix_missed))\n",
    "print('error pixels ourside : {}'.format(analyzer5.pix_false))\n",
    "print('epsilon : {}'.format(analyzer5.epsilon))\n",
    "print('pixels inside : {}'.format(len(analyzer5.pdf_inside)))\n",
    "print('PDF inside : {}'.format(analyzer5.pdf_inside))"
   ]
  },
  {
   "cell_type": "code",
   "execution_count": 19,
   "metadata": {
    "collapsed": false
   },
   "outputs": [
    {
     "data": {
      "text/plain": [
       "<matplotlib.image.AxesImage at 0x11c77ecf8>"
      ]
     },
     "execution_count": 19,
     "metadata": {},
     "output_type": "execute_result"
    },
    {
     "data": {
      "image/png": "[encoded data removed]",
      "text/plain": [
       "<Figure size 432x288 with 1 Axes>"
      ]
     },
     "metadata": {},
     "output_type": "display_data"
    }
   ],
   "source": [
    "plt.imshow(cimg_posscan_2mm)"
   ]
  },
  {
   "cell_type": "markdown",
   "metadata": {},
   "source": [
    "### GCNR with pos_scan 1mm & ROI(0dB)"
   ]
  },
  {
   "cell_type": "code",
   "execution_count": 20,
   "metadata": {
    "collapsed": false
   },
   "outputs": [
    {
     "data": {
      "text/plain": [
       "1.0"
      ]
     },
     "execution_count": 20,
     "metadata": {},
     "output_type": "execute_result"
    }
   ],
   "source": [
    "cimg_posscan_1mm = np.load('npy_data/ESE/pos_scan/dim_4_posdef_0/dr/np_3/20181115_0_2_mm/cimg_max_sigma_10_0.npy')\n",
    "analyzer6 = ImageQualityAnalyzerGCNR(cimg_posscan_1mm, roi_0dB)\n",
    "GCNR6 = analyzer6.get_gcnr()\n",
    "GCNR6"
   ]
  },
  {
   "cell_type": "code",
   "execution_count": 21,
   "metadata": {
    "collapsed": false
   },
   "outputs": [
    {
     "data": {
      "text/plain": [
       "<matplotlib.image.AxesImage at 0x11c5e6b00>"
      ]
     },
     "execution_count": 21,
     "metadata": {},
     "output_type": "execute_result"
    },
    {
     "data": {
      "image/png": "[encoded data removed]",
      "text/plain": [
       "<Figure size 432x288 with 1 Axes>"
      ]
     },
     "metadata": {},
     "output_type": "display_data"
    }
   ],
   "source": [
    "plt.imshow(cimg_posscan_1mm)"
   ]
  },
  {
   "cell_type": "code",
   "execution_count": null,
   "metadata": {
    "collapsed": true
   },
   "outputs": [],
   "source": []
  }
 ],
 "metadata": {
  "kernelspec": {
   "display_name": "Python 2",
   "language": "python",
   "name": "python2"
  },
  "language_info": {
   "codemirror_mode": {
    "name": "ipython",
    "version": 2
   },
   "file_extension": ".py",
   "mimetype": "text/x-python",
   "name": "python",
   "nbconvert_exporter": "python",
   "pygments_lexer": "ipython2",
   "version": "2.7.10"
  }
 },
 "nbformat": 4,
 "nbformat_minor": 2
}
