{
 "cells": [
  {
   "cell_type": "markdown",
   "metadata": {},
   "source": [
    "## Visualization 2d run script"
   ]
  },
  {
   "cell_type": "code",
   "execution_count": 4,
   "metadata": {},
   "outputs": [],
   "source": [
    "import tools.tex_2D_visualization as pgf2d\n",
    "import numpy as np"
   ]
  },
  {
   "cell_type": "code",
   "execution_count": 5,
   "metadata": {},
   "outputs": [],
   "source": [
    "# labels and co\n",
    "x_label = '$x$'\n",
    "#y_label = 'y'\n",
    "# for bscan\n",
    "y_label = '$t$'\n",
    "label_size = 'LARGE'\n",
    "tick_size = 'LARGE'\n",
    "# WGOR = white green orange red\n",
    "# colors = ['TUI_white', 'FRI_green', 'TUI_orange_light', 'TUI_red_dark']\n",
    "# WOR\n",
    "#colors = ['TUI_white', 'TUI_orange_light', 'TUI_orange_dark', 'TUI_red_dark']\n",
    "# WOGB\n",
    "# colors = ['TUI_white', 'TUI_orange_light', 'FRI_green', 'TUI_blue_dark']\n",
    "# WGOR\n",
    "colors = ['TUI_white','FRI_green_light', 'TUI_orange_dark', 'TUI_red_dark']\n",
    "#boundaries = np.array([0.00, 0.45, 0.55, 1.00])\n",
    "boundaries = np.array([0.00, 0.45, 0.75, 1.00])\n",
    "jsonFile = 'tools/TUI_FRI_colors.json'"
   ]
  },
  {
   "cell_type": "markdown",
   "metadata": {},
   "source": [
    "## Grid (ver 04.01.19)"
   ]
  },
  {
   "cell_type": "code",
   "execution_count": 16,
   "metadata": {},
   "outputs": [
    {
     "name": "stdout",
     "output_type": "stream",
     "text": [
      "image saved!\n",
      "image saved!\n",
      "image saved!\n",
      "image saved!\n",
      "image saved!\n",
      "image saved!\n"
     ]
    }
   ],
   "source": [
    "# NEW : 2018.12.29 !!!! #\n",
    "############################################################################################################ grid ######\n",
    "fname_var = ['oa_0', 'oa_1', 'oa_2']\n",
    "oa_list = ['20', '15', '10']\n",
    "\n",
    "# reference\n",
    "ref_reco_max = np.load('npy_data/ESE/grid/cimg_max_05_oa_0.npy')\n",
    "ref_data_max = np.load('npy_data/ESE/grid/cimg_max_05_oa_0.npy')\n",
    "# get the maximal values\n",
    "ref_max_reco_max = ref_reco_max.max()\n",
    "ref_max_data_max = ref_data_max.max()\n",
    "\n",
    "\n",
    "path = '/Users/sayakokodera/2018_Sayako_Kodera_BA/BA/figures/pytikz/2D'\n",
    "\n",
    "\n",
    "for curr_var in fname_var:\n",
    "    fname_cimg_reco_max = 'npy_data/ESE/grid/cimg_max_05_{}.npy'.format(curr_var)\n",
    "    fname_cimg_data_max = 'npy_data/ESE/grid/data_cimg_max_05_{}.npy'.format(curr_var)\n",
    "    \n",
    "    # load data    \n",
    "    reco_max = np.load(fname_cimg_reco_max)/ref_max_reco_max\n",
    "    data_max = np.load(fname_cimg_data_max)/ref_max_data_max\n",
    "    \n",
    "    # file names of png images\n",
    "    fpng_reco_max = '{}/texpngs/grid/cimg_reco_max_{}_new.png'.format(path, curr_var)\n",
    "    fpng_data_max = '{}/texpngs/grid/cimg_data_max_{}_new.png'.format(path, curr_var)\n",
    "    \n",
    "    # file names of tex files\n",
    "    ftex_reco_max = '{}/grid_cimg_reco_max_{}.tex'.format(path, curr_var)\n",
    "    ftex_data_max = '{}/grid_cimg_data_max_{}.tex'.format(path, curr_var)\n",
    "    \n",
    "                            \n",
    "    pgf2d.create_pgf_2D(reco_max, fpng_reco_max, ftex_reco_max, x_label, y_label, label_size, tick_size, \n",
    "                        custom_color = True, colors = colors, boundaries = boundaries, jsonFile = jsonFile,\n",
    "                        input_vmin_vmax = True, vmin_input = 0, vmax_input = 1)\n",
    "    pgf2d.create_pgf_2D(data_max, fpng_data_max, ftex_data_max, x_label, y_label, label_size, tick_size, \n",
    "                        custom_color = True, colors = colors, boundaries = boundaries, jsonFile = jsonFile,\n",
    "                        input_vmin_vmax = True, vmin_input = 0, vmax_input = 1)\n",
    "\n"
   ]
  },
  {
   "cell_type": "markdown",
   "metadata": {},
   "source": [
    "## B-scan"
   ]
  },
  {
   "cell_type": "code",
   "execution_count": 14,
   "metadata": {},
   "outputs": [
    {
     "name": "stdout",
     "output_type": "stream",
     "text": [
      "image saved!\n",
      "image saved!\n",
      "image saved!\n"
     ]
    }
   ],
   "source": [
    "############################################################################################################ grid ######\n",
    "fname_var = ['oa_0', 'oa_1', 'oa_2']\n",
    "oa_list = ['20', '15', '10']\n",
    "colors = ['TUI_blue_dark', 'TUI_blue_light', 'TUI_white','TUI_orange_light', 'TUI_orange_light', 'TUI_red_dark']\n",
    "boundaries = np.array([0.00, 0.47, 0.50, 0.53, 0.6, 1.00])\n",
    "x_label = '$x/ \\dx$'\n",
    "y_label = '$t/ \\dt$'\n",
    "label_size = 'LARGE'\n",
    "tick_size = 'LARGE'\n",
    "\n",
    "jsonFile = 'tools/TUI_FRI_colors.json'\n",
    "\n",
    "path = '/Users/sayakokodera/2018_Sayako_Kodera_BA/BA/figures/pytikz/2D'\n",
    "\n",
    "\n",
    "for curr_var in fname_var:\n",
    "    fname_bscan = 'npy_data/ESE/grid/data_05_{}.npy'.format(curr_var)\n",
    "    \n",
    "    # load data    \n",
    "    bscan = np.load(fname_bscan)\n",
    "    # normalize \n",
    "    bscan = bscan / (np.abs(bscan).max())\n",
    "    data = bscan[0:250, 760:800]\n",
    "    \n",
    "    # file names of png images\n",
    "    fpng_bscan = '{}/texpngs/grid/bscan_{}.png'.format(path, curr_var)\n",
    "    \n",
    "    # file names of tex files\n",
    "    ftex_bscan = '{}/bscan_{}.tex'.format(path, curr_var)\n",
    "                            \n",
    "    pgf2d.create_pgf_2D(data, fpng_bscan, ftex_bscan, x_label, y_label, label_size, tick_size, \n",
    "                        custom_color = True, colors = colors, boundaries = boundaries, jsonFile = jsonFile,\n",
    "                        input_vmin_vmax = True, vmin_input = -1, vmax_input = 1)"
   ]
  },
  {
   "cell_type": "code",
   "execution_count": 36,
   "metadata": {},
   "outputs": [
    {
     "data": {
      "text/plain": [
       "<matplotlib.image.AxesImage at 0x11694ff60>"
      ]
     },
     "execution_count": 36,
     "metadata": {},
     "output_type": "execute_result"
    },
    {
     "data": {
      "image/png": "[encoded data removed]",
      "text/plain": [
       "<Figure size 504x288 with 1 Axes>"
      ]
     },
     "metadata": {},
     "output_type": "display_data"
    },
    {
     "data": {
      "image/png": "[encoded data removed]",
      "text/plain": [
       "<Figure size 504x288 with 1 Axes>"
      ]
     },
     "metadata": {},
     "output_type": "display_data"
    }
   ],
   "source": [
    "import matplotlib.pyplot as plt\n",
    "test_bscan = np.load('npy_data/ESE/grid/data_05_oa_0.npy')\n",
    "plt.figure(1)\n",
    "plt.imshow(test_bscan[0:250, 760:800], aspect = 0.1)\n",
    "plt.imsave()"
   ]
  },
  {
   "cell_type": "code",
   "execution_count": 31,
   "metadata": {},
   "outputs": [
    {
     "name": "stdout",
     "output_type": "stream",
     "text": [
      "Object `plt.set_aspect` not found.\n"
     ]
    }
   ],
   "source": [
    "plt.set_aspect?"
   ]
  },
  {
   "cell_type": "markdown",
   "metadata": {},
   "source": [
    "## CMAP"
   ]
  },
  {
   "cell_type": "code",
   "execution_count": 13,
   "metadata": {},
   "outputs": [
    {
     "data": {
      "text/plain": [
       "'{mymap}{rgb(0.0pt) = (0, 0.22, 0.39) ; rgb(0.47pt) = (0.91, 0.93, 0.96) ; rgb(0.5pt) = (0.97, 0.97, 0.98) ; rgb(0.53pt) = (0.99, 0.93, 0.87) ; rgb(0.65pt) = (0.99, 0.93, 0.87) ; rgb(1.0pt) = (0.75, 0.12, 0.06) ; }'"
      ]
     },
     "execution_count": 13,
     "metadata": {},
     "output_type": "execute_result"
    }
   ],
   "source": [
    "# get cmap\n",
    "texcmap = pgf2d.TeXcmap(colors, boundaries, jsonFile)\n",
    "texcmap"
   ]
  },
  {
   "cell_type": "code",
   "execution_count": 3,
   "metadata": {},
   "outputs": [
    {
     "data": {
      "text/plain": [
       "'{mymap}{rgb(0.0pt) = (0.97, 0.97, 0.98) ; rgb(0.25pt) = (0.99, 0.93, 0.87) ; rgb(0.65pt) = (0.94, 0.49, 0) ; rgb(1.0pt) = (0.75, 0.12, 0.06) ; }'"
      ]
     },
     "execution_count": 3,
     "metadata": {},
     "output_type": "execute_result"
    }
   ],
   "source": [
    "# get cmap for figure (4.1) : automatic vs manual (zscan)\n",
    "colors = ['TUI_white', 'TUI_orange_light', 'TUI_orange_dark', 'TUI_red_dark']\n",
    "boundaries = np.array([0.00, 0.25, 0.65, 1.00])\n",
    "texcmap = pgf2d.TeXcmap(colors, boundaries, jsonFile)\n",
    "texcmap"
   ]
  },
  {
   "cell_type": "code",
   "execution_count": 15,
   "metadata": {},
   "outputs": [
    {
     "data": {
      "text/plain": [
       "'{mymap}{rgb(0.0pt) = (0.97, 0.97, 0.98) ; rgb(0.45pt) = (0.51, 0.87, 0.78) ; rgb(0.75pt) = (0.94, 0.49, 0) ; rgb(1.0pt) = (0.75, 0.12, 0.06) ; }'"
      ]
     },
     "execution_count": 15,
     "metadata": {},
     "output_type": "execute_result"
    }
   ],
   "source": [
    "# ccmap for cimgs\n",
    "colors = ['TUI_white','FRI_green_light', 'TUI_orange_dark', 'TUI_red_dark']\n",
    "boundaries = np.array([0.00, 0.45, 0.75, 1.00])\n",
    "texcmap = pgf2d.TeXcmap(colors, boundaries, jsonFile)\n",
    "texcmap"
   ]
  },
  {
   "cell_type": "markdown",
   "metadata": {},
   "source": [
    "## posscan (ver 04.01.19)"
   ]
  },
  {
   "cell_type": "code",
   "execution_count": 8,
   "metadata": {},
   "outputs": [
    {
     "name": "stdout",
     "output_type": "stream",
     "text": [
      "/Users/sayakokodera/2018_Sayako_Kodera_BA/BA/figures/pytikz/2D/texpngs/posscan/dr_np_2_cimg_max_sigma_0_00.png\n",
      "image saved!\n",
      "image saved!\n",
      "/Users/sayakokodera/2018_Sayako_Kodera_BA/BA/figures/pytikz/2D/texpngs/posscan/dr_np_2_cimg_max_sigma_025_00.png\n",
      "image saved!\n",
      "image saved!\n",
      "/Users/sayakokodera/2018_Sayako_Kodera_BA/BA/figures/pytikz/2D/texpngs/posscan/dr_np_2_cimg_max_sigma_050_00.png\n",
      "image saved!\n",
      "image saved!\n",
      "/Users/sayakokodera/2018_Sayako_Kodera_BA/BA/figures/pytikz/2D/texpngs/posscan/dr_np_2_cimg_max_sigma_100_00.png\n",
      "image saved!\n",
      "image saved!\n",
      "/Users/sayakokodera/2018_Sayako_Kodera_BA/BA/figures/pytikz/2D/texpngs/posscan/dr_np_2_cimg_max_sigma_200_00.png\n",
      "image saved!\n",
      "image saved!\n",
      "/Users/sayakokodera/2018_Sayako_Kodera_BA/BA/figures/pytikz/2D/texpngs/posscan/dr_np_2_cimg_max_sigma_400_00.png\n",
      "image saved!\n",
      "image saved!\n",
      "/Users/sayakokodera/2018_Sayako_Kodera_BA/BA/figures/pytikz/2D/texpngs/posscan/dr_np_3_cimg_max_sigma_0_00.png\n",
      "image saved!\n",
      "image saved!\n",
      "/Users/sayakokodera/2018_Sayako_Kodera_BA/BA/figures/pytikz/2D/texpngs/posscan/dr_np_3_cimg_max_sigma_025_00.png\n",
      "image saved!\n",
      "image saved!\n",
      "/Users/sayakokodera/2018_Sayako_Kodera_BA/BA/figures/pytikz/2D/texpngs/posscan/dr_np_3_cimg_max_sigma_050_00.png\n",
      "image saved!\n",
      "image saved!\n",
      "/Users/sayakokodera/2018_Sayako_Kodera_BA/BA/figures/pytikz/2D/texpngs/posscan/dr_np_3_cimg_max_sigma_100_00.png\n",
      "image saved!\n",
      "image saved!\n",
      "/Users/sayakokodera/2018_Sayako_Kodera_BA/BA/figures/pytikz/2D/texpngs/posscan/dr_np_3_cimg_max_sigma_200_00.png\n",
      "image saved!\n",
      "image saved!\n",
      "/Users/sayakokodera/2018_Sayako_Kodera_BA/BA/figures/pytikz/2D/texpngs/posscan/dr_np_3_cimg_max_sigma_400_00.png\n",
      "image saved!\n",
      "image saved!\n",
      "/Users/sayakokodera/2018_Sayako_Kodera_BA/BA/figures/pytikz/2D/texpngs/posscan/dr_np_4_cimg_max_sigma_0_00.png\n",
      "image saved!\n",
      "image saved!\n",
      "/Users/sayakokodera/2018_Sayako_Kodera_BA/BA/figures/pytikz/2D/texpngs/posscan/dr_np_4_cimg_max_sigma_025_00.png\n",
      "image saved!\n",
      "image saved!\n",
      "/Users/sayakokodera/2018_Sayako_Kodera_BA/BA/figures/pytikz/2D/texpngs/posscan/dr_np_4_cimg_max_sigma_050_00.png\n",
      "image saved!\n",
      "image saved!\n",
      "/Users/sayakokodera/2018_Sayako_Kodera_BA/BA/figures/pytikz/2D/texpngs/posscan/dr_np_4_cimg_max_sigma_100_00.png\n",
      "image saved!\n",
      "image saved!\n",
      "/Users/sayakokodera/2018_Sayako_Kodera_BA/BA/figures/pytikz/2D/texpngs/posscan/dr_np_4_cimg_max_sigma_200_00.png\n",
      "image saved!\n",
      "image saved!\n",
      "/Users/sayakokodera/2018_Sayako_Kodera_BA/BA/figures/pytikz/2D/texpngs/posscan/dr_np_4_cimg_max_sigma_400_00.png\n",
      "image saved!\n",
      "image saved!\n",
      "/Users/sayakokodera/2018_Sayako_Kodera_BA/BA/figures/pytikz/2D/texpngs/posscan/dr_np_5_cimg_max_sigma_0_00.png\n",
      "image saved!\n",
      "image saved!\n",
      "/Users/sayakokodera/2018_Sayako_Kodera_BA/BA/figures/pytikz/2D/texpngs/posscan/dr_np_5_cimg_max_sigma_025_00.png\n",
      "image saved!\n",
      "image saved!\n",
      "/Users/sayakokodera/2018_Sayako_Kodera_BA/BA/figures/pytikz/2D/texpngs/posscan/dr_np_5_cimg_max_sigma_050_00.png\n",
      "image saved!\n",
      "image saved!\n",
      "/Users/sayakokodera/2018_Sayako_Kodera_BA/BA/figures/pytikz/2D/texpngs/posscan/dr_np_5_cimg_max_sigma_100_00.png\n",
      "image saved!\n",
      "image saved!\n",
      "/Users/sayakokodera/2018_Sayako_Kodera_BA/BA/figures/pytikz/2D/texpngs/posscan/dr_np_5_cimg_max_sigma_200_00.png\n",
      "image saved!\n",
      "image saved!\n",
      "/Users/sayakokodera/2018_Sayako_Kodera_BA/BA/figures/pytikz/2D/texpngs/posscan/dr_np_5_cimg_max_sigma_400_00.png\n",
      "image saved!\n",
      "image saved!\n"
     ]
    }
   ],
   "source": [
    "################################################################################################### pos_scan : dr ######\n",
    "# NEW : 04.01.19 #\n",
    "\n",
    "fname_sigma = ['sigma_0_00', 'sigma_025_00', 'sigma_050_00', 'sigma_100_00', 'sigma_200_00', 'sigma_400_00']\n",
    "var_sub_list = ['np_2', 'np_3', 'np_4', 'np_5']\n",
    "\n",
    "# reference\n",
    "ref_data = np.load('npy_data/ESE/grid/cimg_max_05_oa_0.npy')\n",
    "\n",
    "# get the maximal values\n",
    "ref_max = ref_data.max()\n",
    "\n",
    "# path\n",
    "npypath = 'npy_data/ESE/pos_scan/dim_4_posdef_0/dr'\n",
    "path = '/Users/sayakokodera/2018_Sayako_Kodera_BA/BA/figures/pytikz/2D'\n",
    "\n",
    "for curr_np in var_sub_list:\n",
    "    for curr_sigma in fname_sigma:\n",
    "        # file names\n",
    "        # for npy files\n",
    "        curr_fnpy = '{}/{}/cimg_max_{}.npy'.format(npypath, curr_np, curr_sigma)\n",
    "        # for png files\n",
    "        curr_fpng = '{}/texpngs/posscan/dr_{}_cimg_max_{}.png'.format(path, curr_np, curr_sigma)\n",
    "        print(curr_fpng)\n",
    "        # for tex files\n",
    "        curr_ftex = '{}/posscan_dr_{}_cimg_reco_max_{}.tex'.format(path, curr_np, curr_sigma)\n",
    "        \n",
    "        curr_cimg = np.load(curr_fnpy)/ref_max\n",
    "        \n",
    "        pgf2d.create_pgf_2D(curr_cimg, curr_fpng, curr_ftex, x_label, y_label, label_size, tick_size, \n",
    "                            custom_color = True, colors = colors, boundaries = boundaries, jsonFile = jsonFile,\n",
    "                            input_vmin_vmax = True, vmin_input = 0, vmax_input = 1)\n",
    "    "
   ]
  },
  {
   "cell_type": "markdown",
   "metadata": {},
   "source": [
    "## zscan (ver 04.01.19)"
   ]
  },
  {
   "cell_type": "code",
   "execution_count": 13,
   "metadata": {},
   "outputs": [
    {
     "name": "stdout",
     "output_type": "stream",
     "text": [
      "/Users/sayakokodera/2018_Sayako_Kodera_BA/BA/figures/pytikz/2D/texpngs/zscan/oa_0_cimg_reco_max_004.png\n",
      "image saved!\n",
      "image saved!\n",
      "/Users/sayakokodera/2018_Sayako_Kodera_BA/BA/figures/pytikz/2D/texpngs/zscan/oa_0_cimg_reco_max_008.png\n",
      "image saved!\n",
      "image saved!\n",
      "/Users/sayakokodera/2018_Sayako_Kodera_BA/BA/figures/pytikz/2D/texpngs/zscan/oa_0_cimg_reco_max_012.png\n",
      "image saved!\n",
      "image saved!\n",
      "/Users/sayakokodera/2018_Sayako_Kodera_BA/BA/figures/pytikz/2D/texpngs/zscan/oa_0_cimg_reco_max_016.png\n",
      "image saved!\n",
      "image saved!\n",
      "/Users/sayakokodera/2018_Sayako_Kodera_BA/BA/figures/pytikz/2D/texpngs/zscan/oa_0_cimg_reco_max_020.png\n",
      "image saved!\n",
      "image saved!\n",
      "/Users/sayakokodera/2018_Sayako_Kodera_BA/BA/figures/pytikz/2D/texpngs/zscan/oa_0_cimg_reco_max_030.png\n",
      "image saved!\n",
      "image saved!\n",
      "/Users/sayakokodera/2018_Sayako_Kodera_BA/BA/figures/pytikz/2D/texpngs/zscan/oa_1_cimg_reco_max_004.png\n",
      "image saved!\n",
      "image saved!\n",
      "/Users/sayakokodera/2018_Sayako_Kodera_BA/BA/figures/pytikz/2D/texpngs/zscan/oa_1_cimg_reco_max_008.png\n",
      "image saved!\n",
      "image saved!\n",
      "/Users/sayakokodera/2018_Sayako_Kodera_BA/BA/figures/pytikz/2D/texpngs/zscan/oa_1_cimg_reco_max_012.png\n",
      "image saved!\n",
      "image saved!\n",
      "/Users/sayakokodera/2018_Sayako_Kodera_BA/BA/figures/pytikz/2D/texpngs/zscan/oa_1_cimg_reco_max_016.png\n",
      "image saved!\n",
      "image saved!\n",
      "/Users/sayakokodera/2018_Sayako_Kodera_BA/BA/figures/pytikz/2D/texpngs/zscan/oa_1_cimg_reco_max_020.png\n",
      "image saved!\n",
      "image saved!\n",
      "/Users/sayakokodera/2018_Sayako_Kodera_BA/BA/figures/pytikz/2D/texpngs/zscan/oa_1_cimg_reco_max_030.png\n",
      "image saved!\n",
      "image saved!\n",
      "/Users/sayakokodera/2018_Sayako_Kodera_BA/BA/figures/pytikz/2D/texpngs/zscan/oa_2_cimg_reco_max_004.png\n",
      "image saved!\n",
      "image saved!\n",
      "/Users/sayakokodera/2018_Sayako_Kodera_BA/BA/figures/pytikz/2D/texpngs/zscan/oa_2_cimg_reco_max_008.png\n",
      "image saved!\n",
      "image saved!\n",
      "/Users/sayakokodera/2018_Sayako_Kodera_BA/BA/figures/pytikz/2D/texpngs/zscan/oa_2_cimg_reco_max_012.png\n",
      "image saved!\n",
      "image saved!\n",
      "/Users/sayakokodera/2018_Sayako_Kodera_BA/BA/figures/pytikz/2D/texpngs/zscan/oa_2_cimg_reco_max_016.png\n",
      "image saved!\n",
      "image saved!\n",
      "/Users/sayakokodera/2018_Sayako_Kodera_BA/BA/figures/pytikz/2D/texpngs/zscan/oa_2_cimg_reco_max_020.png\n",
      "image saved!\n",
      "image saved!\n",
      "/Users/sayakokodera/2018_Sayako_Kodera_BA/BA/figures/pytikz/2D/texpngs/zscan/oa_2_cimg_reco_max_030.png\n",
      "image saved!\n",
      "image saved!\n"
     ]
    }
   ],
   "source": [
    "fname_oa = ['oa_0', 'oa_1', 'oa_2']\n",
    "oa_list = ['20', '15', '10']\n",
    "fname_sigma = ['004', '008', '012', '016', '020', '030'] #['0']\n",
    "\n",
    "# path\n",
    "npypath = 'npy_data/ESE/zscan/dim4_dm0_grid0'\n",
    "path = '/Users/sayakokodera/2018_Sayako_Kodera_BA/BA/figures/pytikz/2D'\n",
    "\n",
    "for curr_oa in fname_oa:\n",
    "    for curr_sigma in fname_sigma:\n",
    "        # for npy files\n",
    "        curr_fnpy = '{}/{}/cimg_max_sigma_{}_1.npy'.format(npypath, curr_oa, curr_sigma)\n",
    "        # for png files\n",
    "        \n",
    "        curr_fpng = '{}/texpngs/zscan/{}_cimg_reco_max_{}.png'.format(path, curr_oa, curr_sigma)\n",
    "        print(curr_fpng)\n",
    "        # for tex files\n",
    "        curr_ftex = '{}/zscan_{}_cimg_reco_max_sigma_{}.tex'.format(path, curr_oa, curr_sigma)\n",
    "        # load data\n",
    "        curr_cimg = np.load(curr_fnpy)/ref_max\n",
    "    \n",
    "        pgf2d.create_pgf_2D(curr_cimg, curr_fpng, curr_ftex, x_label, y_label, label_size, tick_size, \n",
    "                            custom_color = True, colors = colors, boundaries = boundaries, jsonFile = jsonFile,\n",
    "                            input_vmin_vmax = True, vmin_input = 0, vmax_input = 1)"
   ]
  },
  {
   "cell_type": "markdown",
   "metadata": {},
   "source": [
    "## scan_map visualization"
   ]
  },
  {
   "cell_type": "code",
   "execution_count": 13,
   "metadata": {},
   "outputs": [
    {
     "name": "stdout",
     "output_type": "stream",
     "text": [
      "image saved!\n",
      "image saved!\n",
      "image saved!\n",
      "image saved!\n"
     ]
    }
   ],
   "source": [
    "new_colors = ['TUI_white','TUI_red_dark']\n",
    "new_boundaries = np.array([0.00, 1.00])\n",
    "\n",
    "var_sub_list = ['np_3', 'np_2', 'np_1', 'np_0']\n",
    "\n",
    "for curr_np in var_sub_list:\n",
    "    if curr_np == 'np_3':\n",
    "        fname = 'npy_data/ESE/pos_scan/dim_4_posdef_0/dr/{}/scanmap_{}.npy'.format(curr_np, curr_np)\n",
    "    else:\n",
    "        fname = 'npy_data/ESE/pos_scan/dim_4_posdef_0/dr/{}/scanmap.npy'.format(curr_np)\n",
    "    png_name = 'tex_figures/pos_scan/dr_{}_scanmap.png'.format(curr_np)\n",
    "    tex_name = 'tex_file/tikz_posscan_dr_{}_scanmap.tex'.format(curr_np)\n",
    "    \n",
    "    scanmap = np.load(fname)\n",
    "    \n",
    "    pgf2d.create_pgf_2D(scanmap, png_name, tex_name, x_label, y_label, label_size, tick_size, \n",
    "                        custom_color = True, colors = new_colors, boundaries = new_boundaries, \n",
    "                        jsonFile = jsonFile,\n",
    "                        input_vmin_vmax = True, vmin_input = 0, vmax_input = 1)\n"
   ]
  },
  {
   "cell_type": "code",
   "execution_count": 14,
   "metadata": {
    "collapsed": true
   },
   "outputs": [],
   "source": [
    "nonzero = np.nonzero(scanmap)"
   ]
  },
  {
   "cell_type": "code",
   "execution_count": 17,
   "metadata": {},
   "outputs": [
    {
     "data": {
      "text/plain": [
       "159"
      ]
     },
     "execution_count": 17,
     "metadata": {},
     "output_type": "execute_result"
    }
   ],
   "source": [
    "len(nonzero[0])"
   ]
  },
  {
   "cell_type": "markdown",
   "metadata": {},
   "source": [
    "## 1D plot test"
   ]
  },
  {
   "cell_type": "code",
   "execution_count": 31,
   "metadata": {
    "collapsed": true
   },
   "outputs": [],
   "source": [
    "import tools.tex_1D_visualization as pgf1d"
   ]
  },
  {
   "cell_type": "code",
   "execution_count": 32,
   "metadata": {},
   "outputs": [
    {
     "ename": "NameError",
     "evalue": "name 'y_values' is not defined",
     "output_type": "error",
     "traceback": [
      "\u001b[0;31m---------------------------------------------------------------------------\u001b[0m",
      "\u001b[0;31mNameError\u001b[0m                                 Traceback (most recent call last)",
      "\u001b[0;32m<ipython-input-32-4b2a1e311df0>\u001b[0m in \u001b[0;36m<module>\u001b[0;34m()\u001b[0m\n\u001b[1;32m      1\u001b[0m \u001b[0mtest_arr\u001b[0m \u001b[0;34m=\u001b[0m \u001b[0mnp\u001b[0m\u001b[0;34m.\u001b[0m\u001b[0marray\u001b[0m\u001b[0;34m(\u001b[0m\u001b[0;34m[\u001b[0m\u001b[0;34m[\u001b[0m\u001b[0;36m2\u001b[0m\u001b[0;34m,\u001b[0m \u001b[0;36m4\u001b[0m\u001b[0;34m]\u001b[0m\u001b[0;34m,\u001b[0m \u001b[0;34m[\u001b[0m\u001b[0;36m3\u001b[0m\u001b[0;34m,\u001b[0m \u001b[0;36m7\u001b[0m\u001b[0;34m]\u001b[0m\u001b[0;34m,\u001b[0m \u001b[0;34m[\u001b[0m\u001b[0;36m33\u001b[0m\u001b[0;34m,\u001b[0m \u001b[0;36m20\u001b[0m\u001b[0;34m]\u001b[0m\u001b[0;34m]\u001b[0m\u001b[0;34m)\u001b[0m\u001b[0;34m\u001b[0m\u001b[0m\n\u001b[0;32m----> 2\u001b[0;31m \u001b[0mpgf1d\u001b[0m\u001b[0;34m.\u001b[0m\u001b[0mgenerate_coordinates_for_scatter_plot\u001b[0m\u001b[0;34m(\u001b[0m\u001b[0mtest_arr\u001b[0m\u001b[0;34m,\u001b[0m \u001b[0;34m'test_scatter_plot.tex'\u001b[0m\u001b[0;34m)\u001b[0m\u001b[0;34m\u001b[0m\u001b[0m\n\u001b[0m",
      "\u001b[0;32m~/2018_Sayako_Kodera_BA/Code/tools/tex_1D_visualization.py\u001b[0m in \u001b[0;36mgenerate_coordinates_for_scatter_plot\u001b[0;34m(x_y_coord, file_name)\u001b[0m\n\u001b[1;32m    147\u001b[0m         coord += r\"\"\" ({0}, {1})\n\u001b[1;32m    148\u001b[0m                  \"\"\".format(curr_x, curr_y)\n\u001b[0;32m--> 149\u001b[0;31m \u001b[0;34m\u001b[0m\u001b[0m\n\u001b[0m\u001b[1;32m    150\u001b[0m     text = r\"\"\"\\addplot[add_color_here, mark = add_mark_here] coordinates{{\n\u001b[1;32m    151\u001b[0m                 \u001b[0;34m{\u001b[0m\u001b[0;36m0\u001b[0m\u001b[0;34m}\u001b[0m\u001b[0;34m\u001b[0m\u001b[0m\n",
      "\u001b[0;31mNameError\u001b[0m: name 'y_values' is not defined"
     ]
    }
   ],
   "source": [
    "test_arr = np.array([[2, 4], [3, 7], [33, 20]])\n",
    "pgf1d.generate_coordinates_for_scatter_plot(test_arr, 'test_scatter_plot.tex')"
   ]
  },
  {
   "cell_type": "code",
   "execution_count": 22,
   "metadata": {
    "collapsed": true
   },
   "outputs": [],
   "source": [
    "test_arr = np.array([[2, 4], [3, 7], [33, 20]])"
   ]
  },
  {
   "cell_type": "code",
   "execution_count": 23,
   "metadata": {},
   "outputs": [
    {
     "data": {
      "text/plain": [
       "2"
      ]
     },
     "execution_count": 23,
     "metadata": {},
     "output_type": "execute_result"
    }
   ],
   "source": [
    "test_arr[0,0]"
   ]
  },
  {
   "cell_type": "code",
   "execution_count": null,
   "metadata": {
    "collapsed": true
   },
   "outputs": [],
   "source": []
  }
 ],
 "metadata": {
  "kernelspec": {
   "display_name": "Python 3",
   "language": "python",
   "name": "python3"
  },
  "language_info": {
   "codemirror_mode": {
    "name": "ipython",
    "version": 3
   },
   "file_extension": ".py",
   "mimetype": "text/x-python",
   "name": "python",
   "nbconvert_exporter": "python",
   "pygments_lexer": "ipython3",
   "version": "3.6.7"
  }
 },
 "nbformat": 4,
 "nbformat_minor": 2
}
