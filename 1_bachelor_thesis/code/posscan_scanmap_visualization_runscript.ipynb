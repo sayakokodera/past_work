{
 "cells": [
  {
   "cell_type": "code",
   "execution_count": 1,
   "metadata": {},
   "outputs": [],
   "source": [
    "import tools.tex_1D_visualization as vis\n",
    "import numpy as np\n",
    "import matplotlib.pyplot as plt"
   ]
  },
  {
   "cell_type": "code",
   "execution_count": 2,
   "metadata": {},
   "outputs": [],
   "source": [
    "fpath = 'npy_data/ESE/pos_scan/dim_4_posdef_0'\n",
    "scanmap_np2 = 0.05* np.load('{}/scanmap_np_{}.npy'.format(fpath, 2))\n",
    "scanmap_np3 = 0.05* np.load('{}/scanmap_np_{}.npy'.format(fpath, 3))\n",
    "scanmap_np4 = 0.05* np.load('{}/scanmap_np_{}.npy'.format(fpath, 4))\n",
    "scanmap_np5 = 0.05* np.load('{}/scanmap_np_{}.npy'.format(fpath, 5))"
   ]
  },
  {
   "cell_type": "code",
   "execution_count": 3,
   "metadata": {},
   "outputs": [
    {
     "data": {
      "text/plain": [
       "[<matplotlib.lines.Line2D at 0x114a196d8>]"
      ]
     },
     "execution_count": 3,
     "metadata": {},
     "output_type": "execute_result"
    },
    {
     "data": {
      "image/png": "[encoded data removed]",
      "text/plain": [
       "<Figure size 432x288 with 1 Axes>"
      ]
     },
     "metadata": {},
     "output_type": "display_data"
    }
   ],
   "source": [
    "plt.plot(scanmap_np2[:, 0], scanmap_np2[:, 1], 'x')"
   ]
  },
  {
   "cell_type": "code",
   "execution_count": 4,
   "metadata": {},
   "outputs": [],
   "source": [
    "# settings\n",
    "fname_json = 'tools/TUI_FRI_colors.json'\n",
    "colors = ['TUI_blue_dark']\n",
    "mark = ['x']\n",
    "xlabel = 'x [mm]'\n",
    "ylabel = 'y [mm]'"
   ]
  },
  {
   "cell_type": "code",
   "execution_count": 7,
   "metadata": {},
   "outputs": [],
   "source": [
    "# np5\n",
    "vis.generate_tex_file_with_scatter_plot(scanmap_np5[:, 0], fname_json, ['TUI_blue_dark'], mark, xlabel, ylabel, \n",
    "                                       'pytikz/1D/scanmap_np5.tex', scanmap_np5[:, 1])\n",
    "# np4\n",
    "vis.generate_tex_file_with_scatter_plot(scanmap_np4[:, 0], fname_json, ['TUI_orange_dark'], mark, xlabel, ylabel, \n",
    "                                       'pytikz/1D/scanmap_np4.tex', scanmap_np4[:, 1])\n",
    "# np3\n",
    "vis.generate_tex_file_with_scatter_plot(scanmap_np3[:, 0], fname_json, ['FRI_green'], mark, xlabel, ylabel, \n",
    "                                       'pytikz/1D/scanmap_np3.tex', scanmap_np3[:, 1])\n",
    "# np2\n",
    "vis.generate_tex_file_with_scatter_plot(scanmap_np2[:, 0], fname_json, ['TUI_red_dark'], mark, xlabel, ylabel, \n",
    "                                       'pytikz/1D/scanmap_np2.tex', scanmap_np2[:, 1])"
   ]
  },
  {
   "cell_type": "code",
   "execution_count": null,
   "metadata": {},
   "outputs": [],
   "source": []
  }
 ],
 "metadata": {
  "kernelspec": {
   "display_name": "Python 3",
   "language": "python",
   "name": "python3"
  },
  "language_info": {
   "codemirror_mode": {
    "name": "ipython",
    "version": 3
   },
   "file_extension": ".py",
   "mimetype": "text/x-python",
   "name": "python",
   "nbconvert_exporter": "python",
   "pygments_lexer": "ipython3",
   "version": "3.6.7"
  }
 },
 "nbformat": 4,
 "nbformat_minor": 2
}
