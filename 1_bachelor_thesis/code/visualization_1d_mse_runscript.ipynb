{
 "cells": [
  {
   "cell_type": "markdown",
   "metadata": {},
   "source": [
    "## 1D TeX visualization for ESE analysis : pos_scan"
   ]
  },
  {
   "cell_type": "code",
   "execution_count": 1,
   "metadata": {},
   "outputs": [],
   "source": [
    "import tools.tex_1D_visualization as vis\n",
    "import numpy as np\n",
    "import matplotlib.pyplot as plt"
   ]
  },
  {
   "cell_type": "code",
   "execution_count": 2,
   "metadata": {},
   "outputs": [],
   "source": [
    "#fpath = 'H:/2018_Sayako_Kodera_BA_Daten/npy_data/ESE/pos_scan/dim_4_posdef_0/dr/analysis'\n",
    "fpath = 'npy_data/ESE/pos_scan/dim_4_posdef_0/dr/analysis'\n",
    "mse_pos_np2 = np.load('{}/mse_np_{}.npy'.format(fpath, 2))\n",
    "mse_pos_np3 = np.load('{}/mse_np_{}.npy'.format(fpath, 3))\n",
    "mse_pos_np4 = np.load('{}/mse_np_{}.npy'.format(fpath, 4))\n",
    "mse_pos_np5 = np.load('{}/mse_np_{}.npy'.format(fpath, 5))"
   ]
  },
  {
   "cell_type": "code",
   "execution_count": 3,
   "metadata": {},
   "outputs": [
    {
     "name": "stdout",
     "output_type": "stream",
     "text": [
      "Np5 MSE for sigma = : [0.005      0.12625346]\n",
      "Np4 MSE for sigma = : [0.005      0.18459487]\n",
      "Np3 MSE for sigma = : [0.005      0.27297827]\n",
      "Np2 MSE for sigma = : [0.005      0.43397317]\n"
     ]
    }
   ],
   "source": [
    "print('Np5 MSE for sigma = : {}'.format(mse_pos_np5[0]))\n",
    "print('Np4 MSE for sigma = : {}'.format(mse_pos_np4[0]))\n",
    "print('Np3 MSE for sigma = : {}'.format(mse_pos_np3[0]))\n",
    "print('Np2 MSE for sigma = : {}'.format(mse_pos_np2[0]))"
   ]
  },
  {
   "cell_type": "code",
   "execution_count": 57,
   "metadata": {},
   "outputs": [
    {
     "name": "stdout",
     "output_type": "stream",
     "text": [
      "(array([248, 250, 251, 253]),)\n",
      "[1.62       0.51010694]\n",
      "(array([226, 227, 230, 231, 233]),)\n",
      "[1.35       0.51091928]\n",
      "(array([193, 199]),)\n",
      "[1.02       0.50119408]\n",
      "(array([82, 86, 87, 88, 89, 90, 92, 93, 94]),)\n",
      "[0.48       0.50090456]\n"
     ]
    }
   ],
   "source": [
    "# MSE krit\n",
    "# np5\n",
    "print(np.where(np.logical_and(0.49 < mse_pos_np5[:, 1],  mse_pos_np5[:, 1]<= 0.5)))\n",
    "print(mse_pos_np5[254])\n",
    "# np4\n",
    "print(np.where(np.logical_and(0.49 < mse_pos_np4[:, 1],  mse_pos_np4[:, 1]<= 0.5)))\n",
    "print(mse_pos_np4[234])\n",
    "# np3\n",
    "print(np.where(np.logical_and(0.49 < mse_pos_np3[:, 1],  mse_pos_np3[:, 1]<= 0.5)))\n",
    "print(mse_pos_np3[201])\n",
    "# np2\n",
    "print(np.where(np.logical_and(0.49 < mse_pos_np2[:, 1],  mse_pos_np2[:, 1]<= 0.5)))\n",
    "print(mse_pos_np2[95])"
   ]
  },
  {
   "cell_type": "code",
   "execution_count": 19,
   "metadata": {},
   "outputs": [],
   "source": [
    "# settings\n",
    "fname_json = 'tools/TUI_FRI_colors.json'\n",
    "colors = ['TUI_blue_dark', 'TUI_orange_dark', 'FRI_green', 'TUI_red_dark']\n",
    "mark = ['', '', '', '']\n",
    "xlabel = 'Standardabweichung $\\sigma$[\\SI{}{\\milli\\metre}]'\n",
    "ylabel = 'Mean Squared Error'\n",
    "fname_tex = 'tex_file/tikz_mse_posscan.tex'"
   ]
  },
  {
   "cell_type": "code",
   "execution_count": 20,
   "metadata": {},
   "outputs": [],
   "source": [
    "xvalues = mse_pos_np2[:, 0]"
   ]
  },
  {
   "cell_type": "code",
   "execution_count": 21,
   "metadata": {},
   "outputs": [],
   "source": [
    "vis.generate_tex_file_with_1D_plot(xvalues, fname_json, colors, mark, xlabel, ylabel, \n",
    "                                   fname_tex, mse_pos_np5[:, 1], mse_pos_np4[:, 1], \n",
    "                                   mse_pos_np3[:, 1], mse_pos_np2[:, 1])"
   ]
  },
  {
   "cell_type": "markdown",
   "metadata": {},
   "source": [
    "## 1D Tex visualization for ESE analysis : z_scan"
   ]
  },
  {
   "cell_type": "code",
   "execution_count": 70,
   "metadata": {},
   "outputs": [],
   "source": [
    "fpath = 'npy_data/ESE/zscan/dim4_dm0_grid0/analysis'\n",
    "mse_z_oa0_old = np.load('{}/181123_dz/mse_oa_0.npy'.format(fpath))\n",
    "mse_z_oa0_new = np.load('{}/181211_mm/mse_oa_0.npy'.format(fpath))\n",
    "#mse_z_oa1 = np.load('npy_data/ESE/zscan/dim4_dm0_grid0/analysis/181115/mse_oa_1.npy')\n",
    "#mse_z_oa2 = np.load('npy_data/ESE/zscan/dim4_dm0_grid0/analysis/181115/mse_oa_2.npy')"
   ]
  },
  {
   "cell_type": "code",
   "execution_count": 61,
   "metadata": {},
   "outputs": [
    {
     "data": {
      "text/plain": [
       "[<matplotlib.lines.Line2D at 0x111244c50>]"
      ]
     },
     "execution_count": 61,
     "metadata": {},
     "output_type": "execute_result"
    },
    {
     "data": {
      "image/png": "[encoded data removed]",
      "text/plain": [
       "<Figure size 432x288 with 1 Axes>"
      ]
     },
     "metadata": {},
     "output_type": "display_data"
    }
   ],
   "source": [
    "plt.plot(mse_z_oa0_old[:, 0], mse_z_oa0_old[:, 1]) #181115"
   ]
  },
  {
   "cell_type": "code",
   "execution_count": 63,
   "metadata": {},
   "outputs": [
    {
     "data": {
      "text/plain": [
       "[<matplotlib.lines.Line2D at 0x1112cff28>]"
      ]
     },
     "execution_count": 63,
     "metadata": {},
     "output_type": "execute_result"
    },
    {
     "data": {
      "image/png": "[encoded data removed]",
      "text/plain": [
       "<Figure size 432x288 with 1 Axes>"
      ]
     },
     "metadata": {},
     "output_type": "display_data"
    }
   ],
   "source": [
    "plt.plot(mse_z_oa0_old[:, 0], mse_z_oa0_old[:, 1]) #181123"
   ]
  },
  {
   "cell_type": "code",
   "execution_count": 75,
   "metadata": {},
   "outputs": [
    {
     "name": "stdout",
     "output_type": "stream",
     "text": [
      "[0.6        0.68699485]\n"
     ]
    },
    {
     "data": {
      "text/plain": [
       "[<matplotlib.lines.Line2D at 0x118830cc0>]"
      ]
     },
     "execution_count": 75,
     "metadata": {},
     "output_type": "execute_result"
    },
    {
     "data": {
      "image/png": "[encoded data removed]",
      "text/plain": [
       "<Figure size 432x288 with 1 Axes>"
      ]
     },
     "metadata": {},
     "output_type": "display_data"
    }
   ],
   "source": [
    "print(mse_z_oa0_new[10])\n",
    "plt.plot(mse_z_oa0_new[:, 0], mse_z_oa0_new[:, 1])"
   ]
  },
  {
   "cell_type": "code",
   "execution_count": 71,
   "metadata": {},
   "outputs": [],
   "source": [
    "# adjust the x values of mse_oa0_old\n",
    "dz = 10**3* 6300/(2* 80*10**6)\n",
    "mse_z_oa0_old[:, 0] = dz* mse_z_oa0_old[:, 0]\n",
    "# concatenate\n",
    "mse_oa0_total = np.concatenate((mse_z_oa0_old, mse_z_oa0_new), axis = 0)"
   ]
  },
  {
   "cell_type": "code",
   "execution_count": 72,
   "metadata": {},
   "outputs": [
    {
     "data": {
      "text/plain": [
       "[<matplotlib.lines.Line2D at 0x118661668>]"
      ]
     },
     "execution_count": 72,
     "metadata": {},
     "output_type": "execute_result"
    },
    {
     "data": {
      "image/png": "[encoded data removed]",
      "text/plain": [
       "<Figure size 432x288 with 1 Axes>"
      ]
     },
     "metadata": {},
     "output_type": "display_data"
    }
   ],
   "source": [
    "plt.plot(mse_oa0_total[:, 0], mse_oa0_total[:, 1])"
   ]
  },
  {
   "cell_type": "code",
   "execution_count": 11,
   "metadata": {},
   "outputs": [],
   "source": [
    "# settings\n",
    "fname_json = 'tools/TUI_FRI_colors.json'\n",
    "colors_zscan = ['TUI_blue_dark', 'TUI_orange_dark', 'FRI_green']\n",
    "mark = ['', '', '']\n",
    "xlabel = '$\\sigma$ [mm]'\n",
    "ylabel = 'Mean Squared Error'\n",
    "fname_tex_zscan = 'tex_file/tikz_mse_zscan.tex'"
   ]
  },
  {
   "cell_type": "code",
   "execution_count": 12,
   "metadata": {},
   "outputs": [],
   "source": [
    "xvalues = mse_z_oa0[:, 0]"
   ]
  },
  {
   "cell_type": "code",
   "execution_count": 13,
   "metadata": {},
   "outputs": [],
   "source": [
    "vis.generate_tex_file_with_1D_plot(xvalues, fname_json, colors_zscan, mark, xlabel, ylabel, \n",
    "                                   fname_tex_zscan, mse_z_oa0[:, 1], mse_z_oa1[:, 1], \n",
    "                                   mse_z_oa2[:, 1])"
   ]
  },
  {
   "cell_type": "code",
   "execution_count": 16,
   "metadata": {},
   "outputs": [
    {
     "data": {
      "text/plain": [
       "0.19687499999999997"
      ]
     },
     "execution_count": 16,
     "metadata": {},
     "output_type": "execute_result"
    }
   ],
   "source": [
    "dz = 39.375* 10**-6\n",
    "dz*5*10**3"
   ]
  },
  {
   "cell_type": "code",
   "execution_count": null,
   "metadata": {},
   "outputs": [],
   "source": []
  }
 ],
 "metadata": {
  "kernelspec": {
   "display_name": "Python 3",
   "language": "python",
   "name": "python3"
  },
  "language_info": {
   "codemirror_mode": {
    "name": "ipython",
    "version": 3
   },
   "file_extension": ".py",
   "mimetype": "text/x-python",
   "name": "python",
   "nbconvert_exporter": "python",
   "pygments_lexer": "ipython3",
   "version": "3.6.7"
  }
 },
 "nbformat": 4,
 "nbformat_minor": 2
}
