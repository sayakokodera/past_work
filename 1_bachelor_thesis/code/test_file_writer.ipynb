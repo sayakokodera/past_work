{
 "cells": [
  {
   "cell_type": "code",
   "execution_count": 1,
   "metadata": {},
   "outputs": [],
   "source": [
    "import numpy as np\n",
    "import tools.txt_file_writer as fwriter"
   ]
  },
  {
   "cell_type": "code",
   "execution_count": 13,
   "metadata": {},
   "outputs": [
    {
     "data": {
      "text/plain": [
       "array([[[0., 0., 0., 0.],\n",
       "        [0., 0., 0., 0.],\n",
       "        [0., 0., 0., 0.]],\n",
       "\n",
       "       [[0., 0., 0., 0.],\n",
       "        [0., 0., 0., 0.],\n",
       "        [0., 0., 0., 0.]]])"
      ]
     },
     "execution_count": 13,
     "metadata": {},
     "output_type": "execute_result"
    }
   ],
   "source": [
    "arr = np.zeros((2, 3, 4)) #Nz = 3, Xx = 4, Ny = 2\n",
    "arr"
   ]
  },
  {
   "cell_type": "code",
   "execution_count": 14,
   "metadata": {},
   "outputs": [
    {
     "data": {
      "text/plain": [
       "array([[[0., 1., 0., 0.],\n",
       "        [0., 0., 1., 0.],\n",
       "        [0., 0., 0., 1.]],\n",
       "\n",
       "       [[1., 0., 0., 0.],\n",
       "        [0., 1., 0., 0.],\n",
       "        [0., 0., 1., 0.]]])"
      ]
     },
     "execution_count": 14,
     "metadata": {},
     "output_type": "execute_result"
    }
   ],
   "source": [
    "arr[0, 0, 1] = 1\n",
    "arr[0, 1, 2] = 1\n",
    "arr[0, 2, 3] = 1\n",
    "arr[1, 0, 0] = 1\n",
    "arr[1, 1, 1] = 1\n",
    "arr[1, 2, 2] = 1\n",
    "\n",
    "arr"
   ]
  },
  {
   "cell_type": "code",
   "execution_count": 15,
   "metadata": {},
   "outputs": [
    {
     "name": "stdout",
     "output_type": "stream",
     "text": [
      "[[0. 1. 0. 0.]\n",
      " [0. 0. 1. 0.]\n",
      " [0. 0. 0. 1.]]\n",
      "[[1. 0. 0. 0.]\n",
      " [0. 1. 0. 0.]\n",
      " [0. 0. 1. 0.]]\n"
     ]
    }
   ],
   "source": [
    "copy = np.array(arr)\n",
    "for slice_data in copy:\n",
    "    print(slice_data)"
   ]
  },
  {
   "cell_type": "code",
   "execution_count": 16,
   "metadata": {},
   "outputs": [],
   "source": [
    "##### save data ######\n",
    "\n",
    "import numpy as np\n",
    "\n",
    "def write_txt_file(data, dimension, file_name):\n",
    "    r\"\"\"\n",
    "    this funtion serves to save a 3D array as a txt file.\n",
    "    \n",
    "    Parameters\n",
    "    ----------\n",
    "        data : np.ndarray[N, M, K] 3D!!!\n",
    "        dimension : str,\n",
    "            describing the detail about dimension to put in the .txt-file\n",
    "            e.g.) 'Nz, Nx, Ny' in this case N = Nz, M = Nx, K = Ny\n",
    "        file_name : string (should include path)\n",
    "        \n",
    "    \"\"\"\n",
    "    copy_data = np.array(data)\n",
    "    \n",
    "    if file_name == None:\n",
    "            raise AttributeError('write_txt_file : File name should be set to save data.')\n",
    "    else :\n",
    "        f = open(file_name, 'w')\n",
    "        f.write('# Array in shape: ({}) = {}\\n'.format(dimension, copy_data.shape))\n",
    "        \n",
    "        for slice_data in copy_data:\n",
    "            np.savetxt(f, slice_data)\n",
    "            # add comment for better visualization\n",
    "            f.write('# New slice \\n')          \n",
    "\n",
    "\n",
    "\n",
    "write_txt_file(arr, 'Nz, Nx, Ny', 'file_writer_runtest')"
   ]
  },
  {
   "cell_type": "code",
   "execution_count": 19,
   "metadata": {},
   "outputs": [],
   "source": [
    "data = np.loadtxt('/Users/sayakokodera/2018_Sayako_Kodera_BA/txt_data/manual_data_without_err.txt', dtype = float)"
   ]
  },
  {
   "cell_type": "code",
   "execution_count": 20,
   "metadata": {},
   "outputs": [
    {
     "data": {
      "text/plain": [
       "<matplotlib.image.AxesImage at 0x1169c3860>"
      ]
     },
     "execution_count": 20,
     "metadata": {},
     "output_type": "execute_result"
    }
   ],
   "source": [
    "import matplotlib.pyplot as plt\n",
    "plt.imshow(data)"
   ]
  },
  {
   "cell_type": "code",
   "execution_count": 21,
   "metadata": {},
   "outputs": [
    {
     "data": {
      "text/plain": [
       "<matplotlib.image.AxesImage at 0x116befd30>"
      ]
     },
     "execution_count": 21,
     "metadata": {},
     "output_type": "execute_result"
    },
    {
     "data": {
      "image/png": "[encoded data removed]",
      "text/plain": [
       "<Figure size 432x288 with 1 Axes>"
      ]
     },
     "metadata": {},
     "output_type": "display_data"
    }
   ],
   "source": [
    "plt.figure()\n",
    "plt.imshow(data)"
   ]
  },
  {
   "cell_type": "code",
   "execution_count": 22,
   "metadata": {},
   "outputs": [],
   "source": [
    "import tools.txt_file_reader as freader\n",
    "\n",
    "reco1 = freader.load_txt_data('/Users/sayakokodera/2018_Sayako_Kodera_BA/txt_data/manual_reco_pos_err_1.txt')"
   ]
  },
  {
   "cell_type": "code",
   "execution_count": 26,
   "metadata": {},
   "outputs": [
    {
     "data": {
      "text/plain": [
       "<matplotlib.image.AxesImage at 0x1197da780>"
      ]
     },
     "execution_count": 26,
     "metadata": {},
     "output_type": "execute_result"
    },
    {
     "data": {
      "image/png": "[encoded data removed]",
      "text/plain": [
       "<Figure size 432x288 with 1 Axes>"
      ]
     },
     "metadata": {},
     "output_type": "display_data"
    }
   ],
   "source": [
    "plt.imshow(reco1[:, :, 30])"
   ]
  },
  {
   "cell_type": "code",
   "execution_count": 30,
   "metadata": {},
   "outputs": [
    {
     "data": {
      "text/plain": [
       "(200, 100, 100)"
      ]
     },
     "execution_count": 30,
     "metadata": {},
     "output_type": "execute_result"
    }
   ],
   "source": [
    "reco1.shape"
   ]
  },
  {
   "cell_type": "code",
   "execution_count": 31,
   "metadata": {},
   "outputs": [],
   "source": [
    "fwriter.write_txt_file(reco1, 'Nzreco, Nxreco, Nyreco', 'file_writer_test.txt')"
   ]
  },
  {
   "cell_type": "code",
   "execution_count": null,
   "metadata": {},
   "outputs": [],
   "source": []
  }
 ],
 "metadata": {
  "kernelspec": {
   "display_name": "Python 3",
   "language": "python",
   "name": "python3"
  },
  "language_info": {
   "codemirror_mode": {
    "name": "ipython",
    "version": 3
   },
   "file_extension": ".py",
   "mimetype": "text/x-python",
   "name": "python",
   "nbconvert_exporter": "python",
   "pygments_lexer": "ipython3",
   "version": "3.6.5"
  }
 },
 "nbformat": 4,
 "nbformat_minor": 2
}
