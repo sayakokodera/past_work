{
 "cells": [
  {
   "cell_type": "code",
   "execution_count": 1,
   "id": "164d213e-e73e-40f5-8475-533edb53b76d",
   "metadata": {},
   "outputs": [],
   "source": [
    "import numpy as np\n",
    "import matplotlib.pyplot as plt\n",
    "import matplotlib.gridspec as gridspec # For customizing the suabplots spacing\n",
    "import pandas as pd\n",
    "import os"
   ]
  },
  {
   "cell_type": "code",
   "execution_count": 2,
   "id": "5623c433-e748-4c89-b5b3-7146c14ebb30",
   "metadata": {},
   "outputs": [],
   "source": [
    "from sklearn.decomposition import FastICA\n",
    "import scipy\n",
    "import scipy.signal as scsig"
   ]
  },
  {
   "cell_type": "code",
   "execution_count": 3,
   "id": "b027c9f5-56eb-407d-81cc-7ef985812d02",
   "metadata": {},
   "outputs": [],
   "source": [
    "from synchronization import Synchronizer"
   ]
  },
  {
   "cell_type": "markdown",
   "id": "94594b3c-1146-4cfb-aac3-7f89ce2254b9",
   "metadata": {},
   "source": [
    "## Steps for synchronization\n",
    "- (0) Load the metadata (Versuchstabelle) -> to identify the file names (soundbook, QASS)\n",
    "- (1) Load the synchro signals \n",
    "    - Dewetron\n",
    "    - IDMT data, ch3 \n",
    "- (2) Interpolate the Dewetron signal (to compensate the different sampling rate)\n",
    "    - (2-0) ICA to increase the SNR\n",
    "    - (2-1) Linear interpolation\n",
    "- (3) Cross-correlate the interpolated Dewetron signal and the IDMT data\n",
    "- (4) Identify the delay (i.e. peak)"
   ]
  },
  {
   "cell_type": "markdown",
   "id": "96ba441f-f0e7-44c2-b8a8-b1412327e2c1",
   "metadata": {},
   "source": [
    "## (0) Load the meta data (Versuchstabelle) -> for file names"
   ]
  },
  {
   "cell_type": "code",
   "execution_count": 4,
   "id": "f8858507-9d12-4e48-9305-ce28aa731a26",
   "metadata": {},
   "outputs": [],
   "source": [
    "path_meta = '/Volumes/Sandisk_SD/Work/IZFP/Laser/2023_iHub/00_Versuchsplan_iHub.xlsx'\n",
    "metadf = pd.read_excel(\n",
    "    path_meta,\n",
    "    sheet_name=1,\n",
    "    usecols=\"B:F\",\n",
    "    nrows=71\n",
    ")"
   ]
  },
  {
   "cell_type": "markdown",
   "id": "02d0d7df-b580-4b7e-bdf0-ec2c27ff6c87",
   "metadata": {},
   "source": [
    "## Example"
   ]
  },
  {
   "cell_type": "code",
   "execution_count": 5,
   "id": "508df32f-e4b1-4162-a614-3524ef4e2076",
   "metadata": {},
   "outputs": [],
   "source": [
    "# Path to the data\n",
    "path_dew = '/Volumes/Sandisk_SD/Work/IZFP/Laser/2023_iHub/01_DEWETRON_csv'\n",
    "path_idmt = '/Volumes/Sandisk_SD/Work/IZFP/Laser/2023_iHub/03_Soundbook'\n",
    "\n",
    "# Example trial\n",
    "dataID = 14\n",
    "row = dataID - 1\n",
    "fname_dew = metadf['DEWETRON'][row]\n",
    "fname_idmt = metadf['SoundBook'][row]\n",
    "fname_izfp = metadf['QASS'][row]"
   ]
  },
  {
   "cell_type": "markdown",
   "id": "c760c3a7-1328-4772-94c5-8297a57b97ee",
   "metadata": {},
   "source": [
    "## Load the synch signals"
   ]
  },
  {
   "cell_type": "code",
   "execution_count": 6,
   "id": "2a41e945-3fe5-48ec-b4a4-b75be0d78baa",
   "metadata": {},
   "outputs": [],
   "source": [
    "#---- Synchronize\n",
    "synch = Synchronizer()\n",
    "# (1) Load\n",
    "# IDMT data\n",
    "t_idmt, s_idmt = synch.load_hd5(path_idmt, fname_idmt) # zero-meaned and normalized\n",
    "# Dewetron data\n",
    "t_dew, s_dew = synch.load_dew(path_dew, fname_dew)\n",
    "# Zero-mean and normalize\n",
    "s_dew = s_dew - np.mean(s_dew)\n",
    "s_dew = s_dew/np.abs(s_dew).max()\n",
    "    "
   ]
  },
  {
   "cell_type": "markdown",
   "id": "5de109f1-dca8-4337-8068-d30f9a5ac3d7",
   "metadata": {},
   "source": [
    "## (1) Synchronization by downsampling the SoundBook signal"
   ]
  },
  {
   "cell_type": "markdown",
   "id": "b1b8007c-9555-4250-8f9e-6a3c0d8b03e6",
   "metadata": {},
   "source": [
    "### Check the frequency response of the SoundBook synchsignal"
   ]
  },
  {
   "cell_type": "code",
   "execution_count": null,
   "id": "f7e700f6-312a-4d48-bba5-a75819808017",
   "metadata": {},
   "outputs": [],
   "source": [
    "# Check the frequency spectra\n",
    "#%matplotlib widget\n",
    "#%matplotlib inline\n",
    "\n",
    "fig = plt.figure(figsize=(7, 9), layout='constrained')\n",
    "axs = fig.subplot_mosaic([\n",
    "    [\"signal\", \"signal\"],\n",
    "    [\"magnitude\", \"log_magnitude\"],\n",
    "    [\"phase\", \"angle\"]\n",
    "])\n",
    "plt.rcParams['axes.grid'] = True\n",
    "plt.rcParams['legend.loc'] = 'upper right'\n",
    "\n",
    "plt.suptitle(f'SoundBook synch signal: trial = {fname_dew}')\n",
    "\n",
    "# plot IDMT synch signal\n",
    "axs[\"signal\"].set_title(f'Signal {fname_dew}')\n",
    "axs[\"signal\"].plot(t_idmt, s_idmt, color='C0')\n",
    "axs[\"signal\"].set_xlabel(\"Time (s)\")\n",
    "axs[\"signal\"].set_ylabel(\"Amplitude\")\n",
    "\n",
    "# plot different spectrum types:\n",
    "axs[\"magnitude\"].set_title(\"Magnitude Spectrum\")\n",
    "axs[\"magnitude\"].magnitude_spectrum(s_dew, Fs=synch.fs_dew, color='C0', label='DEW')\n",
    "axs[\"magnitude\"].magnitude_spectrum(s_idmt, Fs=synch.fs_idmt, color='C1', alpha=0.7, label='SoundBook')\n",
    "\n",
    "axs[\"log_magnitude\"].set_title(\"Log. Magnitude Spectrum\")\n",
    "axs[\"log_magnitude\"].magnitude_spectrum(s_dew, Fs=synch.fs_dew, color='C0', label='DEW', scale='dB')\n",
    "axs[\"log_magnitude\"].magnitude_spectrum(s_idmt, Fs=synch.fs_idmt, color='C1', alpha=0.7, label='SoundBook', scale='dB')\n",
    "\n",
    "axs[\"phase\"].set_title(\"Phase Spectrum \")\n",
    "axs[\"phase\"].phase_spectrum(s_dew, Fs=synch.fs_dew, color='C0', label='DEW')\n",
    "axs[\"phase\"].phase_spectrum(s_idmt, Fs=synch.fs_idmt, color='C1', alpha=0.7, label='SoundBook')\n",
    "\n",
    "axs[\"angle\"].set_title(\"Angle Spectrum\")\n",
    "axs[\"angle\"].angle_spectrum(s_dew, Fs=synch.fs_dew, color='C0', label='DEW')\n",
    "axs[\"angle\"].angle_spectrum(s_idmt, Fs=synch.fs_idmt, color='C1', alpha=0.7, label='SoundBook')\n",
    "\n",
    "#fig.legend(labels=['DEW', 'QASS'])\n",
    "plt.show()"
   ]
  },
  {
   "cell_type": "markdown",
   "id": "601cbc49-725c-49f7-b2e3-62b9aeb02d41",
   "metadata": {},
   "source": [
    "## Downsampling + Remarks\n",
    "* Downsampling is done in the frequency domain\n",
    "    * (1) Low-passed to avoid aliasing\n",
    "        * Butterworth, cut-off = 5kHz = 0.5* fs of Dewetron\n",
    "    * (2) Resampled via scipy.signal.resample (frequency domain resampling)\n",
    "* Low-passed SoudBook synchsignal seems to have peaks in slightly different time points than in the original signal\n",
    "    * shown as a green signal in Figure (b)\n",
    "    * huge peak-form differences \n",
    "* Downsampled SoundBook synchsignal\n",
    "    * Peaks seem to occur little earlier than the original? \n",
    "    * -> may be critical for determining the delay?\n",
    "* Interpolated Dewetron synch signal seems okay-ish \n",
    "    * It is just noisy as the original\n",
    "    * but, I used the linear interpolator, so probably not very accurate\n",
    "    * question is, how critical the inaccuracy here is? "
   ]
  },
  {
   "cell_type": "code",
   "execution_count": 14,
   "id": "d96451ac-e5fc-456b-9507-7238a77ca76a",
   "metadata": {},
   "outputs": [],
   "source": [
    "s_ds_idmt, t_ds_idmt, fs_ds_idmt = synch.downsample(\n",
    "    s=s_idmt, \n",
    "    t=t_idmt, \n",
    "    fs=synch.fs_idmt, \n",
    "    ret_signal_only=False\n",
    ")"
   ]
  },
  {
   "cell_type": "markdown",
   "id": "3dd50bd3-4d11-4ded-b89e-491514708038",
   "metadata": {},
   "source": [
    "## Cross-correlation to determine the delay"
   ]
  },
  {
   "cell_type": "code",
   "execution_count": 15,
   "id": "bf16beb1-67f8-4804-b98c-9c44c17feaad",
   "metadata": {},
   "outputs": [
    {
     "name": "stdout",
     "output_type": "stream",
     "text": [
      "Synchronizer: returning the correlation results\n"
     ]
    }
   ],
   "source": [
    "# !!! Don't forget to trip the Dewetron signal to T_synch (i.e. 1s)\n",
    "N = int(synch.T_synch* synch.fs_dew)\n",
    "\n",
    "delay, N_offset, corr, tau = synch.identify_delay(s_dew[:N], s_ds_idmt, fs=synch.fs_dew, ret_corr=True)"
   ]
  },
  {
   "cell_type": "code",
   "execution_count": 16,
   "id": "031dbdaf-0b5b-42aa-8328-1b7d1d39078f",
   "metadata": {},
   "outputs": [
    {
     "data": {
      "text/plain": [
       "0.0252"
      ]
     },
     "execution_count": 16,
     "metadata": {},
     "output_type": "execute_result"
    }
   ],
   "source": [
    "delay"
   ]
  },
  {
   "cell_type": "markdown",
   "id": "e04534b9-7111-4681-b982-881398536475",
   "metadata": {},
   "source": [
    "## Plot"
   ]
  },
  {
   "cell_type": "code",
   "execution_count": null,
   "id": "06e41c0f-d92c-4814-ab98-1814e88cc2d8",
   "metadata": {},
   "outputs": [],
   "source": [
    "# Correct the delay and overlap the signals \n",
    "#%matplotlib widget\n",
    "%matplotlib inline\n",
    "\n",
    "def save_allplots(save, fname=None):\n",
    "\n",
    "    # Subplots spacing\n",
    "    plt.rcParams[\"figure.figsize\"] = [6.50, 4.50]\n",
    "    plt.rcParams[\"figure.autolayout\"] = True\n",
    "    gs1 = gridspec.GridSpec(3, 1)\n",
    "    gs1.update(wspace=0.0, hspace=0.15)\n",
    "\n",
    "    # Axis labels\n",
    "    plt.rcParams['axes.titlesize'] = 12\n",
    "    plt.rcParams['axes.labelsize'] = 12\n",
    "    plt.rcParams['xtick.labelsize'] = 12\n",
    "    plt.rcParams['ytick.labelsize'] = 12\n",
    "\n",
    "    fig, (ax0, ax1, ax2) = plt.subplots(nrows=3, sharex=False)\n",
    "    #plt.suptitle(f'Delay correction of {fname_dew}: {round(delay*10**3, 3)}ms delay')\n",
    "    plt.subplots_adjust(hspace=0.6) # more spacing between rows\n",
    "\n",
    "    # Before\n",
    "    ax0.plot(t_dew, s_dew, label='DEW')\n",
    "    ax0.plot(t_idmt, s_idmt, label='SB')\n",
    "    ax0.set_xlabel('Aufnahmezeit [s]')\n",
    "    ax0.set_ylabel('[V]')\n",
    "    ax0.legend(loc='upper right')\n",
    "    ax0.grid(True)\n",
    "    ax0.set_xlim(-0.5, 2.5)\n",
    "\n",
    "    # After\n",
    "    ax1.sharex(ax0)\n",
    "    ax1.plot(t_dew, s_dew, label='DEW')\n",
    "    #ax1.plot(t_idmt-delay, s_idmt, label= f'SB-ds')\n",
    "    ax1.plot(t_ds_idmt-delay, s_ds_idmt, label= f'SB-ds')\n",
    "    ax1.set_xlabel('Aufnahmezeit [s]')\n",
    "    ax1.set_ylabel('[V]')\n",
    "    ax1.legend(loc='upper right')\n",
    "    ax1.grid(True)\n",
    "\n",
    "    # Cross-correlation results\n",
    "    _corr = corr/np.abs(corr).max()\n",
    "    ax2.plot(tau, _corr, label='cross correlation')\n",
    "    peaks = delay\n",
    "    ax2.vlines(x=peaks, ymin=_corr.min(), ymax=_corr.max(), linestyles='--', color='r')\n",
    "    ax2.set_xlabel('Versatz [s]')\n",
    "    ax2.set_ylabel(r\"[$V^2$]\")\n",
    "    #ax2.legend(loc='upper right')\n",
    "    xticks = np.sort(np.concatenate((np.array([peaks]), np.array([-1.0, 1.0, 2.0, 3.0, 4.0]))))\n",
    "    ax2.set_xticks(xticks)\n",
    "    ax2.grid(True)\n",
    "\n",
    "    if save == True:\n",
    "        # Parameters for savefig\n",
    "        # dpi > 150 does not yield any perceptible difference in resolution \n",
    "        # bbox_inches: bounding box to determine the area to be saved => use 'tight', otherwise including a weird white space\n",
    "        # pad_inches: margine to be padded, if bbox_inches == 'tight'\n",
    "        plt.savefig(\n",
    "            fname, \n",
    "            dpi=250, \n",
    "            bbox_inches = 'tight', \n",
    "            pad_inches = 0.1 #pad_inches = 0.05\n",
    "        ) \n",
    "\n",
    "    plt.show()\n",
    "    "
   ]
  },
  {
   "cell_type": "code",
   "execution_count": null,
   "id": "1a073fba-f215-4883-b7db-234567169ff5",
   "metadata": {},
   "outputs": [],
   "source": [
    "plt.close('all')\n",
    "save_allplots(save=False, fname='plots/SoundBook_synchronization.png')"
   ]
  },
  {
   "cell_type": "markdown",
   "id": "6eaa484e-10e2-4ec5-8b21-3600ca56ddbf",
   "metadata": {},
   "source": [
    "## (2) Determine the delays for all trials via downsampling\n",
    "**info**:<br>\n",
    "* 27, 28, 29 -> no pre and post in the dewetron!"
   ]
  },
  {
   "cell_type": "code",
   "execution_count": 55,
   "id": "ee64e8b3-1d88-405b-8fbf-c41eadf73420",
   "metadata": {},
   "outputs": [
    {
     "name": "stdout",
     "output_type": "stream",
     "text": [
      "dataID = 27, name = 27_0_1_Spalt_pneu\n",
      "dataID = 28, name = 28_0_1_Spalt_pneu\n",
      "dataID = 29, name = 29_0_1_Spalt_pneu\n"
     ]
    }
   ],
   "source": [
    "# Path to the data\n",
    "path_dew = '/Volumes/Sandisk_SD/Work/IZFP/Laser/2023_iHub/01_DEWETRON_csv'\n",
    "path_idmt = '/Volumes/Sandisk_SD/Work/IZFP/Laser/2023_iHub/03_Soundbook'\n",
    "# Base\n",
    "info_dict = {\n",
    "    'dataID' : [],\n",
    "    'DEWETRON': [],\n",
    "    'SoundBook': [],\n",
    "    'delay[s]': []\n",
    "}\n",
    "\n",
    "for dataID in [27, 28, 29]: #np.arange(1, 27), np.arange(30, len(metadf)+1)\n",
    "    #---- Specify the name\n",
    "    row = dataID - 1\n",
    "    fname_dew = metadf['DEWETRON'][row]\n",
    "    fname_idmt = metadf['SoundBook'][row]\n",
    "    print(f'dataID = {dataID}, name = {fname_dew}')\n",
    "    \n",
    "    #---- Synchronize\n",
    "    synch = Synchronizer()\n",
    "    # Load the Dewetron data \n",
    "    t_dew, s_dew = synch.load_dew(path_dew, fname_dew)\n",
    "    # Load the IDMT data\n",
    "    t_idmt, s_idmt = synch.load_hd5(path_idmt, fname_idmt)\n",
    "    # Downsample \n",
    "    s_ds_idmt = synch.downsample(s=s_idmt, t=t_idmt, fs=synch.fs_idmt)\n",
    "    \n",
    "    # Identify the delay\n",
    "    # !!! Don't forget to trip the Dewetron signal to T_synch (i.e. 1s)\n",
    "    N = int(synch.T_synch* synch.fs_dew)\n",
    "    delay, N_offset = synch.identify_delay(s_dew[:N], s_ds_idmt, fs=synch.fs_dew)\n",
    "    \n",
    "    #-------------\n",
    "    # -> for the trials without pre- and post-triger (27, 28, 29) => use noisy dewetron signal\n",
    "    # Dewetron data\n",
    "    # t_dew, s_dew = synch.load_dew(path_dew, fname_dew)\n",
    "    # # Zero-mean and normalize\n",
    "    # s_dew = s_dew - np.mean(s_dew)\n",
    "    # s_dew = s_dew/np.abs(s_dew).max()\n",
    "    # s_ica = s_dew[:synch.N+1]\n",
    "    # t_interp, s_interp = synch.interpolate(t_dew, s_ica, t_idmt[int(1.0*synch.fs_idmt)+1:], synch.fs_idmt)\n",
    "    # # Identify the delay\n",
    "    # delay, N_offset = synch.identify_delay(s_interp, s_idmt, synch.fs_idmt)\n",
    "    #-------------\n",
    "    \n",
    "    #---- Update the info dictionary\n",
    "    info_dict['dataID'].append(dataID)\n",
    "    info_dict['DEWETRON'].append(fname_dew)\n",
    "    info_dict['SoundBook'].append(fname_idmt)\n",
    "    info_dict['delay[s]'].append(delay)\n",
    "    "
   ]
  },
  {
   "cell_type": "code",
   "execution_count": 58,
   "id": "a23c1410-f75a-49ec-9eb6-c2ac0a51af7e",
   "metadata": {},
   "outputs": [
    {
     "data": {
      "text/html": [
       "<div>\n",
       "<style scoped>\n",
       "    .dataframe tbody tr th:only-of-type {\n",
       "        vertical-align: middle;\n",
       "    }\n",
       "\n",
       "    .dataframe tbody tr th {\n",
       "        vertical-align: top;\n",
       "    }\n",
       "\n",
       "    .dataframe thead th {\n",
       "        text-align: right;\n",
       "    }\n",
       "</style>\n",
       "<table border=\"1\" class=\"dataframe\">\n",
       "  <thead>\n",
       "    <tr style=\"text-align: right;\">\n",
       "      <th></th>\n",
       "      <th>dataID</th>\n",
       "      <th>DEWETRON</th>\n",
       "      <th>SoundBook</th>\n",
       "      <th>delay[s]</th>\n",
       "    </tr>\n",
       "  </thead>\n",
       "  <tbody>\n",
       "    <tr>\n",
       "      <th>0</th>\n",
       "      <td>27</td>\n",
       "      <td>27_0_1_Spalt_pneu</td>\n",
       "      <td>iHub2023_030</td>\n",
       "      <td>0.0263</td>\n",
       "    </tr>\n",
       "    <tr>\n",
       "      <th>1</th>\n",
       "      <td>28</td>\n",
       "      <td>28_0_1_Spalt_pneu</td>\n",
       "      <td>iHub2023_031</td>\n",
       "      <td>0.0263</td>\n",
       "    </tr>\n",
       "    <tr>\n",
       "      <th>2</th>\n",
       "      <td>29</td>\n",
       "      <td>29_0_1_Spalt_pneu</td>\n",
       "      <td>iHub2023_032</td>\n",
       "      <td>0.0253</td>\n",
       "    </tr>\n",
       "  </tbody>\n",
       "</table>\n",
       "</div>"
      ],
      "text/plain": [
       "   dataID           DEWETRON     SoundBook  delay[s]\n",
       "0      27  27_0_1_Spalt_pneu  iHub2023_030    0.0263\n",
       "1      28  28_0_1_Spalt_pneu  iHub2023_031    0.0263\n",
       "2      29  29_0_1_Spalt_pneu  iHub2023_032    0.0253"
      ]
     },
     "execution_count": 58,
     "metadata": {},
     "output_type": "execute_result"
    }
   ],
   "source": [
    "# Convert the dictionary to a dataframe\n",
    "info_df = pd.DataFrame.from_dict(info_dict, orient='columns')\n",
    "# Print\n",
    "info_df"
   ]
  },
  {
   "cell_type": "code",
   "execution_count": 50,
   "id": "73dbe19f-2ec6-44af-a9ee-48b75e080cf4",
   "metadata": {},
   "outputs": [],
   "source": [
    "info_df1 = info_df.copy() # dataID: 1 ... 26"
   ]
  },
  {
   "cell_type": "code",
   "execution_count": 31,
   "id": "b166aed3-7777-4b1e-94db-e1e25ec486a0",
   "metadata": {},
   "outputs": [],
   "source": [
    "info_df2 = info_df.copy() # dataID: 30 ... last"
   ]
  },
  {
   "cell_type": "code",
   "execution_count": 59,
   "id": "a3a1564a-f7a9-41c0-8ecf-ef702f9f2ba7",
   "metadata": {},
   "outputs": [],
   "source": [
    "info_df3 = info_df.copy() # dataID: 27, 28, 29"
   ]
  },
  {
   "cell_type": "code",
   "execution_count": 61,
   "id": "5eae06af-63fe-4ed8-ad11-4d5c6356c176",
   "metadata": {},
   "outputs": [],
   "source": [
    "complete_df = pd.concat((info_df1, info_df3, info_df2), ignore_index=True)"
   ]
  },
  {
   "cell_type": "code",
   "execution_count": 63,
   "id": "10486503-1ef5-42e0-85c6-120ad799b64b",
   "metadata": {},
   "outputs": [
    {
     "data": {
      "text/html": [
       "<div>\n",
       "<style scoped>\n",
       "    .dataframe tbody tr th:only-of-type {\n",
       "        vertical-align: middle;\n",
       "    }\n",
       "\n",
       "    .dataframe tbody tr th {\n",
       "        vertical-align: top;\n",
       "    }\n",
       "\n",
       "    .dataframe thead th {\n",
       "        text-align: right;\n",
       "    }\n",
       "</style>\n",
       "<table border=\"1\" class=\"dataframe\">\n",
       "  <thead>\n",
       "    <tr style=\"text-align: right;\">\n",
       "      <th></th>\n",
       "      <th>dataID</th>\n",
       "      <th>DEWETRON</th>\n",
       "      <th>SoundBook</th>\n",
       "      <th>delay[s]</th>\n",
       "    </tr>\n",
       "  </thead>\n",
       "  <tbody>\n",
       "    <tr>\n",
       "      <th>0</th>\n",
       "      <td>1</td>\n",
       "      <td>01_0_1_Spalt_pneu</td>\n",
       "      <td>iHub2023_001</td>\n",
       "      <td>0.0157</td>\n",
       "    </tr>\n",
       "    <tr>\n",
       "      <th>1</th>\n",
       "      <td>2</td>\n",
       "      <td>02_0_1_Spalt_pneu</td>\n",
       "      <td>iHub2023_002</td>\n",
       "      <td>0.0244</td>\n",
       "    </tr>\n",
       "    <tr>\n",
       "      <th>2</th>\n",
       "      <td>3</td>\n",
       "      <td>03_0_1_Spalt_pneu</td>\n",
       "      <td>iHub2023_003</td>\n",
       "      <td>0.0260</td>\n",
       "    </tr>\n",
       "    <tr>\n",
       "      <th>3</th>\n",
       "      <td>4</td>\n",
       "      <td>04_0_1_Spalt_pneu</td>\n",
       "      <td>iHub2023_004</td>\n",
       "      <td>0.0267</td>\n",
       "    </tr>\n",
       "    <tr>\n",
       "      <th>4</th>\n",
       "      <td>5</td>\n",
       "      <td>05_0_1_Spalt_pneu</td>\n",
       "      <td>iHub2023_005</td>\n",
       "      <td>0.0267</td>\n",
       "    </tr>\n",
       "    <tr>\n",
       "      <th>...</th>\n",
       "      <td>...</td>\n",
       "      <td>...</td>\n",
       "      <td>...</td>\n",
       "      <td>...</td>\n",
       "    </tr>\n",
       "    <tr>\n",
       "      <th>66</th>\n",
       "      <td>67</td>\n",
       "      <td>67_0_2_Spalt_pneu_CJ_X2</td>\n",
       "      <td>iHub2023_075</td>\n",
       "      <td>0.0283</td>\n",
       "    </tr>\n",
       "    <tr>\n",
       "      <th>67</th>\n",
       "      <td>68</td>\n",
       "      <td>68_0_2_Spalt_pneu_CJ_X2</td>\n",
       "      <td>iHub2023_076</td>\n",
       "      <td>0.0259</td>\n",
       "    </tr>\n",
       "    <tr>\n",
       "      <th>68</th>\n",
       "      <td>69</td>\n",
       "      <td>69_0_2_Spalt_pneu_CJ_X2</td>\n",
       "      <td>iHub2023_077</td>\n",
       "      <td>0.0170</td>\n",
       "    </tr>\n",
       "    <tr>\n",
       "      <th>69</th>\n",
       "      <td>70</td>\n",
       "      <td>70_0_2_Spalt_pneu_CJ_X2</td>\n",
       "      <td>iHub2023_078</td>\n",
       "      <td>0.0289</td>\n",
       "    </tr>\n",
       "    <tr>\n",
       "      <th>70</th>\n",
       "      <td>71</td>\n",
       "      <td>71_0_2_Spalt_pneu_CJ_X2</td>\n",
       "      <td>iHub2023_079</td>\n",
       "      <td>0.0228</td>\n",
       "    </tr>\n",
       "  </tbody>\n",
       "</table>\n",
       "<p>71 rows × 4 columns</p>\n",
       "</div>"
      ],
      "text/plain": [
       "    dataID                 DEWETRON     SoundBook  delay[s]\n",
       "0        1        01_0_1_Spalt_pneu  iHub2023_001    0.0157\n",
       "1        2        02_0_1_Spalt_pneu  iHub2023_002    0.0244\n",
       "2        3        03_0_1_Spalt_pneu  iHub2023_003    0.0260\n",
       "3        4        04_0_1_Spalt_pneu  iHub2023_004    0.0267\n",
       "4        5        05_0_1_Spalt_pneu  iHub2023_005    0.0267\n",
       "..     ...                      ...           ...       ...\n",
       "66      67  67_0_2_Spalt_pneu_CJ_X2  iHub2023_075    0.0283\n",
       "67      68  68_0_2_Spalt_pneu_CJ_X2  iHub2023_076    0.0259\n",
       "68      69  69_0_2_Spalt_pneu_CJ_X2  iHub2023_077    0.0170\n",
       "69      70  70_0_2_Spalt_pneu_CJ_X2  iHub2023_078    0.0289\n",
       "70      71  71_0_2_Spalt_pneu_CJ_X2  iHub2023_079    0.0228\n",
       "\n",
       "[71 rows x 4 columns]"
      ]
     },
     "execution_count": 63,
     "metadata": {},
     "output_type": "execute_result"
    }
   ],
   "source": [
    "complete_df"
   ]
  },
  {
   "cell_type": "code",
   "execution_count": 64,
   "id": "6b1cc86d-6ab7-47cb-9989-d56d9afc3484",
   "metadata": {},
   "outputs": [],
   "source": [
    "# Save the dataframe as csv\n",
    "path2save = '/Volumes/Sandisk_SD/Work/IZFP/Laser/2023_iHub/04_Delays'\n",
    "complete_df.to_csv(f'{path2save}/delays_SoundBook_downsampled.csv', index=False)"
   ]
  },
  {
   "cell_type": "markdown",
   "id": "8fb7d269-5c0d-4224-badd-3194a495d4c1",
   "metadata": {},
   "source": [
    "### Statstics"
   ]
  },
  {
   "cell_type": "code",
   "execution_count": 65,
   "id": "8f6f4ca6-9666-4090-b63a-1e7238f56bce",
   "metadata": {},
   "outputs": [
    {
     "name": "stdout",
     "output_type": "stream",
     "text": [
      "Mean:\n",
      "0.030795774647887332\n",
      "Std:\n",
      "0.056733500903333046\n"
     ]
    }
   ],
   "source": [
    "print('Mean:')\n",
    "print(complete_df['delay[s]'].mean())\n",
    "print('Std:')\n",
    "print(complete_df['delay[s]'].std())"
   ]
  },
  {
   "cell_type": "code",
   "execution_count": 70,
   "id": "55389d53-f3ae-48a1-8703-f3fb48dfa427",
   "metadata": {},
   "outputs": [
    {
     "data": {
      "image/png": "[encoded data removed]",
      "text/plain": [
       "<Figure size 640x480 with 1 Axes>"
      ]
     },
     "metadata": {},
     "output_type": "display_data"
    }
   ],
   "source": [
    "plt.figure()\n",
    "plt.hist(np.array(complete_df['delay[s]']), bins=20)\n",
    "plt.show()"
   ]
  },
  {
   "cell_type": "code",
   "execution_count": 72,
   "id": "173e9cc3-6996-4bb8-8836-570c298c2a51",
   "metadata": {},
   "outputs": [
    {
     "name": "stdout",
     "output_type": "stream",
     "text": [
      "Outlier:\n",
      "64_0_2_Spalt_pneu_CJ_X1\n",
      "0.5\n"
     ]
    }
   ],
   "source": [
    "print('Outlier:')\n",
    "print(complete_df['DEWETRON'][63])\n",
    "print(complete_df['delay[s]'][63])"
   ]
  },
  {
   "cell_type": "code",
   "execution_count": 73,
   "id": "7a2c3cc0-242d-45e8-a5a4-7c96559bc35d",
   "metadata": {},
   "outputs": [
    {
     "name": "stdout",
     "output_type": "stream",
     "text": [
      "Mean without the outlier\n",
      "0.02409285714285714\n",
      "Std without the outlier\n",
      "0.005398156460098379\n"
     ]
    }
   ],
   "source": [
    "# Exclude the outlier\n",
    "new_df = complete_df.drop(index=63)\n",
    "# Average delay without the outlier\n",
    "print('Mean without the outlier')\n",
    "print(new_df['delay[s]'].mean())\n",
    "print('Std without the outlier')\n",
    "print(new_df['delay[s]'].std())"
   ]
  },
  {
   "cell_type": "code",
   "execution_count": null,
   "id": "fdfb1d31-9cec-4ddf-9e0e-14d29ab04be7",
   "metadata": {},
   "outputs": [],
   "source": []
  }
 ],
 "metadata": {
  "kernelspec": {
   "display_name": "Python 3 (ipykernel)",
   "language": "python",
   "name": "python3"
  },
  "language_info": {
   "codemirror_mode": {
    "name": "ipython",
    "version": 3
   },
   "file_extension": ".py",
   "mimetype": "text/x-python",
   "name": "python",
   "nbconvert_exporter": "python",
   "pygments_lexer": "ipython3",
   "version": "3.10.10"
  }
 },
 "nbformat": 4,
 "nbformat_minor": 5
}
