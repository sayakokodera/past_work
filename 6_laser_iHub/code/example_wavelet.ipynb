{
 "cells": [
  {
   "cell_type": "markdown",
   "id": "0c2a0db6-0478-46bc-81d3-adb269bb1fd9",
   "metadata": {},
   "source": [
    "# Wavelet"
   ]
  },
  {
   "cell_type": "code",
   "execution_count": 2,
   "id": "2ce9826e-5fdb-483b-8fa0-c1ecbf00dfa3",
   "metadata": {},
   "outputs": [],
   "source": [
    "import numpy as np\n",
    "import matplotlib.pyplot as plt\n",
    "import scipy.signal as scsig"
   ]
  },
  {
   "cell_type": "code",
   "execution_count": null,
   "id": "952fe204-8341-47f5-bc4e-caee56ec54b4",
   "metadata": {},
   "outputs": [],
   "source": [
    "# Test scipy implementation\n",
    "M = 100\n",
    "s = 9.5 # = wavelet scale\n",
    "w = 5.0 # = number of cycles within the window, NO unit!!\n",
    "wavelet = scsig.morlet2(M, s, w)\n",
    "plt.plot(wavelet.real)\n",
    "plt.plot(wavelet.imag)\n",
    "plt.grid(True)\n",
    "plt.show()"
   ]
  },
  {
   "cell_type": "code",
   "execution_count": null,
   "id": "3864a888-15d5-4314-99cb-c1829efd068d",
   "metadata": {},
   "outputs": [],
   "source": [
    "def morlet(t, fc, sigma):\n",
    "    \"\"\"\n",
    "    Parameters\n",
    "    ----------\n",
    "        t: array in [s]\n",
    "        fc: float [Hz]\n",
    "            center frequency of the modulation [Hz]\n",
    "        sigma: float [s] \n",
    "            standard deviation of Gaussian window, corresponding to the duration \n",
    "    \"\"\"\n",
    "    print(f'number of cycles in a window w = {2*3* sigma* fc / sigma}')\n",
    "    # Wavelet\n",
    "    # (Cf1) Eq. (4.60) to (4.62) in \"A wavelet tour of signal processing\" by Mallat\n",
    "    # (Cf2) https://docs.scipy.org/doc/scipy/reference/generated/scipy.signal.morlet.html\n",
    "    # Gaussian window\n",
    "    g = np.pi**(-0.25)* np.sqrt(1/sigma) * np.exp(-0.5* (t/sigma)**2)\n",
    "    # Base wavelet: t/sigma ensures that the number of cycles remain the same within the window\n",
    "    psi = np.exp(1j* 2*np.pi* fc* (t/sigma))* g\n",
    "    # Zero-mean \n",
    "    psi = psi - psi.mean()\n",
    "    # Normalize, s.t. the energy abs(psi)**2 == 1\n",
    "    energy = np.sum(np.abs(psi)**2)\n",
    "    psi = psi / np.sqrt(energy)\n",
    "    return psi\n",
    "   "
   ]
  },
  {
   "cell_type": "code",
   "execution_count": null,
   "id": "4b1b6ee8-2f0e-456d-8308-a529831cea1a",
   "metadata": {},
   "outputs": [],
   "source": [
    "t, dt = np.linspace(-10.0, 10.0, 1001, retstep=True)\n",
    "t = t[:-1] # make it the length 100\n",
    "fs = 1/dt # [Hz]\n",
    "fc = 1.3 #[Hz]\n",
    "s = 1.8 # [s], standard deviation of Gaussian, corresponds to the wavelet scale (= width)\n",
    "fbin = 2*np.pi*fc *fs / (2*s*np.pi) #[Hz], frequency bin of interest (\"fundamental frequency\")\n",
    "psi = morlet(t, fc, s)\n",
    "print(f'fs = {fs}Hz')\n",
    "print(f'Current bin = {fbin}Hz')"
   ]
  },
  {
   "cell_type": "code",
   "execution_count": null,
   "id": "a343b2f4-8568-4cd9-9851-935d6fa845ad",
   "metadata": {},
   "outputs": [],
   "source": [
    "plt.plot(np.abs(psi))\n",
    "plt.plot(psi.real)\n",
    "plt.plot(psi.imag)\n",
    "plt.show()"
   ]
  },
  {
   "cell_type": "code",
   "execution_count": null,
   "id": "107be6fc-0b84-413a-bda6-92239e401cda",
   "metadata": {},
   "outputs": [],
   "source": [
    "# Scipy\n",
    "t, dt = np.linspace(0.0, 5.0, 5001, retstep=True)\n",
    "t = t[:-1]\n",
    "fs = 1/dt\n",
    "print(f'fs = {fs}Hz')\n",
    "\n",
    "w = 7.8\n",
    "sig = np.cos(2*np.pi*(50 + 10*t)*t) + np.sin(40*np.pi*t)\n",
    "freq = np.linspace(1, fs/2, 250)\n",
    "widths = w*fs / (2*freq*np.pi)"
   ]
  },
  {
   "cell_type": "code",
   "execution_count": null,
   "id": "242e3cc1-2332-4edd-abe7-627fd199e46c",
   "metadata": {},
   "outputs": [],
   "source": [
    "cwtm = scsig.cwt(sig, scsig.morlet2, widths, w=w)"
   ]
  },
  {
   "cell_type": "code",
   "execution_count": null,
   "id": "fca0e548-f2a6-4cd7-a028-a82fd21a6024",
   "metadata": {},
   "outputs": [],
   "source": [
    "fig, axs = plt.subplots(1, 3)\n",
    "axs[0].plot(t[:100], sig[:100])\n",
    "axs[0].set_title('Time domain')\n",
    "\n",
    "# Magnitude\n",
    "# Use pcolormesh to specify the y-axis\n",
    "axs[1].pcolormesh(t, freq, np.abs(cwtm), cmap='viridis', shading='gouraud')\n",
    "axs[1].set_xlim(left=0.0)\n",
    "axs[1].set_ylim(top=200.0)\n",
    "axs[1].set_title('Magnitude')\n",
    "\n",
    "# Phase\n",
    "axs[2].pcolormesh(t, freq, np.angle(cwtm), cmap='viridis', shading='gouraud')\n",
    "axs[2].set_xlim(left=0.0)\n",
    "axs[2].set_ylim(top=200.0)\n",
    "axs[2].set_title('Phase')\n",
    "\n",
    "plt.show()"
   ]
  },
  {
   "cell_type": "code",
   "execution_count": null,
   "id": "3a1508bc-cf11-4d65-a7dd-be10fc46338f",
   "metadata": {},
   "outputs": [],
   "source": []
  }
 ],
 "metadata": {
  "kernelspec": {
   "display_name": "Python 3 (ipykernel)",
   "language": "python",
   "name": "python3"
  },
  "language_info": {
   "codemirror_mode": {
    "name": "ipython",
    "version": 3
   },
   "file_extension": ".py",
   "mimetype": "text/x-python",
   "name": "python",
   "nbconvert_exporter": "python",
   "pygments_lexer": "ipython3",
   "version": "3.10.10"
  }
 },
 "nbformat": 4,
 "nbformat_minor": 5
}
