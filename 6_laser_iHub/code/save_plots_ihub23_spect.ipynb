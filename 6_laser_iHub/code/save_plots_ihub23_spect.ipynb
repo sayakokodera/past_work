{
 "cells": [
  {
   "cell_type": "code",
   "execution_count": 102,
   "id": "73376abe-7f48-48ea-b1da-9ccf569abe26",
   "metadata": {},
   "outputs": [],
   "source": [
    "import numpy as np\n",
    "import matplotlib.pyplot as plt\n",
    "from matplotlib.ticker import AutoMinorLocator, MultipleLocator #-> for major + minor ticks (Cf: https://matplotlib.org/stable/gallery/ticks/major_minor_demo.html#major-and-minor-ticks)\n",
    "import pandas as pd\n",
    "from copy import deepcopy\n",
    "import time"
   ]
  },
  {
   "cell_type": "code",
   "execution_count": 103,
   "id": "efcc9017-f043-4024-9b8d-ca945ceca906",
   "metadata": {},
   "outputs": [],
   "source": [
    "from laser_dataset import FileReader, LaserDataInteractor"
   ]
  },
  {
   "cell_type": "code",
   "execution_count": 219,
   "id": "01f63017-db5a-425b-9e0a-033a7335e91a",
   "metadata": {},
   "outputs": [],
   "source": [
    "\"\"\"\n",
    "!!! This is a modified version for iHub 2023 data !!!\n",
    "\n",
    "It does following:\n",
    "    * Load the desired dataset\n",
    "    * Compute the groudtruth segmentation (based on the Versuchstabelle and proper synchronization)\n",
    "    * Plot all signals (ch1, ch2, ch3 and groundtruth)\n",
    "    * Save the plot \n",
    "\"\"\"\n",
    "\n",
    "def save_plots_single_trial(_interactor, trialNo, path_qass, path_plots, path_delay, fontsize=16):\n",
    "    \"\"\"\n",
    "    \n",
    "    The plot is saved as png, i.e. axis labels and titles should be scaled/modified in this function \n",
    "    (these settings cannot be changed in Latex once the plot is generated).\n",
    "    \n",
    "    Parameters\n",
    "    ----------\n",
    "        _interactor: laser data interactor class\n",
    "        trialNo: str\n",
    "            Trial number used to save the plots (same as DEWETRON name)\n",
    "        path_data: str\n",
    "            Path to the raw data\n",
    "        path_plots: str\n",
    "            Path to the directory for saving the plot\n",
    "    \n",
    "    Comments\n",
    "    --------\n",
    "        * Saving plots as pgfplots coordinates (for Latex) failed due to the large number of data points \n",
    "          (thus data size, 1.5GB per channel)\n",
    "        * Some settings should be adjusted and modified depending on the usage \n",
    "          (e.g. line width, font size for axis labels etc)\n",
    "        * Higher resolution does not yield perceptible improvement in resolution, yet this can be also \n",
    "          increased/decreased \n",
    "        * Resulting data size (per channel) with the current setup = around 100KB \n",
    "    \n",
    "    \"\"\"    \n",
    "    # Params\n",
    "    fs_qass = 6.25*10**6 # [Hz]\n",
    "    nfft = 2048\n",
    "    l_seg = nfft # Length of each STFT segment\n",
    "    l_overlap = int(l_seg/2)\n",
    "    fmin = 0 # [Hz]\n",
    "    fmax = 400*10**3#1000*10**3 # [Hz]\n",
    "    \n",
    "    # Load the raw data -> spedify the row\n",
    "    _interactor.df_row = trialNo\n",
    "    #--- load the raw data\n",
    "    # !!! Ch.2 of trial 01_0_1_Spalt_pneu is not available !!!!!\n",
    "    s1 = _interactor.load(chNo=1, path=path_qass)    \n",
    "    s2 = _interactor.load(chNo=2, path=path_qass)\n",
    "    s3 = _interactor.load(chNo=3, path=path_qass)\n",
    "    S = [s1, s2, s3]\n",
    "    \n",
    "    # t_start & t_end and the system delay\n",
    "    t_start_camera = _interactor.df_row['tstart [s]'].item() #[s]\n",
    "    t_end_camera = _interactor.df_row['tend [s]'].item() #[s]\n",
    "    delay_df = pd.read_csv(f'{path_delay}/delays_QASS.csv')\n",
    "    delay = 26*10**-3 + delay_df['delay[s]'][delay_df['DEWETRON'] == trialNo].item() #[s]\n",
    "    t_start_qass = t_start_camera - delay\n",
    "    t_end_qass = t_end_camera - delay\n",
    "    print(f'delay = {round(delay*10**3, 2)}ms')\n",
    "    print(f't_start_qass = {round((t_start_qass)*10**3, 2)}ms')\n",
    "    print(f't_end_qass = {round((t_end_qass)*10**3, 2)}ms')\n",
    "    \n",
    "    # Iterate\n",
    "    for idx in [2]:#range(3):\n",
    "        \n",
    "        # Channel number\n",
    "        chNo = idx + 1\n",
    "        \n",
    "        # Instantiate\n",
    "        fig, ax = plt.subplots(1, 1, sharex = False, sharey = False)\n",
    "        # Figure size\n",
    "        fig.set_figwidth(8.8*0.45)#(6.5)\n",
    "        fig.set_figheight(3.5*0.45)#(4)\n",
    "\n",
    "        # Spectrogram\n",
    "        Pxx, freqs, bins, im = ax.specgram(\n",
    "            S[idx], \n",
    "            NFFT=nfft, \n",
    "            Fs = fs_qass, \n",
    "            noverlap = l_overlap, \n",
    "            mode='psd', scale='dB',\n",
    "            cmap = 'rainbow', \n",
    "            sides = 'onesided', \n",
    "            scale_by_freq=True, # same as matlab apparently \n",
    "            vmax = 10, vmin = -140\n",
    "        )\n",
    "        \n",
    "        #----- Make the plot prettier\n",
    "        # Limit the time range\n",
    "        ax.set_xlim(t_start_qass, t_end_qass)#(0.1, 1.2)\n",
    "        ax.set_xticks(np.arange(t_start_qass, t_end_qass+0.05, 0.2))\n",
    "        ax.set_xticklabels([])#(np.around(np.arange(0, t_end_qass-t_start_qass+0.05, 0.2), 2))\n",
    "        # Limit the freq. range\n",
    "        ax.set_ylim(fmin, fmax)\n",
    "        # Ticks + labels: y\n",
    "        # -> (a) for up to 1 MHz\n",
    "        # ax.set_yticks(np.array([0, 50, 250, 500, 750, 1000])* 10**3)\n",
    "        # ax.set_yticklabels(['0', '50k', '250k', '500k', '750k', '1M'], fontsize=fontsize)\n",
    "        # -> (b) for up to 400 kHz\n",
    "        ax.set_yticks(10**3* np.arange(0, 401, 100))\n",
    "        ax.set_yticklabels([])#(['0', '100k', '200k', '300k', '400k'], fontsize=fontsize)\n",
    "        ax.yaxis.set_minor_locator(AutoMinorLocator(2)) #-> creates a single minor tick between major ticks        \n",
    "        \n",
    "        # Title\n",
    "        #ax.set_title(f'Ch.{chNo}', fontsize=fontsize)\n",
    "        ax.grid(True)\n",
    "\n",
    "        # Color bar:Cf. https://matplotlib.org/stable/gallery/ticks/colorbar_tick_labelling_demo.html\n",
    "        cbar = fig.colorbar(im, ax = ax)\n",
    "        cbar.set_ticks(ticks=[-135, -90, -45, 0], labels=[])\n",
    "    \n",
    "        # Margins (add an offset to the figure)\n",
    "        plt.margins(x = 0.0, y = 0.03)\n",
    "\n",
    "        # (4) Save\n",
    "        fname_plots = '{}/{}_ch{}.png'.format(path_plots, trialNo, chNo)\n",
    "        # Parameters for savefig\n",
    "        # dpi > 150 does not yield any perceptible difference in resolution \n",
    "        # bbox_inches: bounding box to determine the area to be saved => use 'tight', otherwise including a weird white space\n",
    "        # pad_inches: margine to be padded, if bbox_inches == 'tight'\n",
    "        plt.savefig(fname_plots, dpi = 300, bbox_inches = 'tight', pad_inches = 0.05) \n",
    "\n",
    "        # Close the figure\n",
    "        plt.close()\n",
    "        #plt.show()\n",
    "        \n",
    "    print('Saved!')\n",
    "    \n",
    "    "
   ]
  },
  {
   "cell_type": "markdown",
   "id": "6c039334-2bb0-41e5-abc3-272b29a7c836",
   "metadata": {},
   "source": [
    "## (0) Load the meta data"
   ]
  },
  {
   "cell_type": "code",
   "execution_count": 220,
   "id": "b8d24dcc-bd9c-403f-bbea-62b24e62b026",
   "metadata": {},
   "outputs": [],
   "source": [
    "path_meta = '/Volumes/Sandisk_SD/Work/IZFP/Laser/05_2023_iHub/00_Versuchsplan_iHub.xlsx'\n",
    "metadf = pd.read_excel(\n",
    "    path_meta,\n",
    "    sheet_name=1,\n",
    "    usecols=\"C:G, I, R,S\",\n",
    "    nrows=71\n",
    ")\n",
    "# Keep only the ones / rows for which the QASS data are available\n",
    "metadf = metadf[metadf['QASS'].notna()]"
   ]
  },
  {
   "cell_type": "markdown",
   "id": "4372ded4-11fb-41f3-8c6f-573ab9fe485f",
   "metadata": {},
   "source": [
    "## Save the spectrograms"
   ]
  },
  {
   "cell_type": "code",
   "execution_count": 221,
   "id": "5dae9842-e5e8-440c-b2de-6873c0ebec40",
   "metadata": {},
   "outputs": [],
   "source": [
    "path_qass = '/Volumes/Sandisk_SD/Work/IZFP/Laser/05_2023_iHub/02_QASS'\n",
    "path_png = '/Volumes/Sandisk_SD/Work/IZFP/Laser/05_2023_iHub/05_Evaluation/catalog/figures/plots/400kHz'\n",
    "path_delay = '/Volumes/Sandisk_SD/Work/IZFP/Laser/05_2023_iHub/04_Delays'"
   ]
  },
  {
   "cell_type": "code",
   "execution_count": 222,
   "id": "5cc11b0c-6503-43ce-826b-e416b680989c",
   "metadata": {},
   "outputs": [
    {
     "name": "stdout",
     "output_type": "stream",
     "text": [
      "iter = 0, trialNo = 20_0_3_Spalt_pneu\n",
      "delay = 27.87ms\n",
      "t_start_qass = 222.93ms\n",
      "t_end_qass = 1029.13ms\n",
      "Saved!\n",
      "execution time = 4.369s\n",
      "#==================#\n",
      "Complete = 0.073min\n"
     ]
    }
   ],
   "source": [
    "start = time.time()\n",
    "\n",
    "# Instantiate the interactor\n",
    "interactor = LaserDataInteractor()\n",
    "interactor.df = metadf\n",
    "\n",
    "for idx, trialNo in enumerate(['20_0_3_Spalt_pneu']):#enumerate(metadf['DEWETRON'][5:]):\n",
    "    start_iter = time.time()\n",
    "    print(f'iter = {idx}, trialNo = {trialNo}')\n",
    "    save_plots_single_trial(interactor, trialNo, path_qass, path_png, path_delay)\n",
    "    \n",
    "    print(f'execution time = {round(time.time()-start_iter, 3)}s')\n",
    "    print('#==================#')\n",
    "\n",
    "end = time.time()\n",
    "print(f'Complete = {round((end - start)/60, 3)}min')"
   ]
  },
  {
   "cell_type": "code",
   "execution_count": 121,
   "id": "852d9e57-0ac0-4e49-bcc2-ab61f9447294",
   "metadata": {},
   "outputs": [
    {
     "ename": "SystemExit",
     "evalue": "",
     "output_type": "error",
     "traceback": [
      "An exception has occurred, use %tb to see the full traceback.\n",
      "\u001b[0;31mSystemExit\u001b[0m\n"
     ]
    },
    {
     "name": "stderr",
     "output_type": "stream",
     "text": [
      "/Users/sayakokodera/miniforge3/envs/insigna/lib/python3.10/site-packages/IPython/core/interactiveshell.py:3513: UserWarning: To exit: use 'exit', 'quit', or Ctrl-D.\n",
      "  warn(\"To exit: use 'exit', 'quit', or Ctrl-D.\", stacklevel=1)\n"
     ]
    }
   ],
   "source": [
    "import sys\n",
    "sys.exit()"
   ]
  },
  {
   "cell_type": "code",
   "execution_count": null,
   "id": "ba5c6680-b666-4ff5-af06-6a984313f9c0",
   "metadata": {},
   "outputs": [],
   "source": [
    "print(df['Versuchs-\\nNr.'].sort_values)"
   ]
  },
  {
   "cell_type": "markdown",
   "id": "15b3ac2e-7ad2-4640-9738-004e9b11cb09",
   "metadata": {},
   "source": [
    "## Generate the tex files"
   ]
  },
  {
   "cell_type": "code",
   "execution_count": null,
   "id": "645a7b29-284b-4c25-8525-3161b59ceb0d",
   "metadata": {},
   "outputs": [],
   "source": [
    "# List of the start of each scenarios\n",
    "breakpoints = ['0_1', '1_1', '7_1', '21_1']\n"
   ]
  },
  {
   "cell_type": "code",
   "execution_count": null,
   "id": "087c9726-b533-4fe6-aeaf-1978e74cfdba",
   "metadata": {},
   "outputs": [],
   "source": [
    "'%left'"
   ]
  },
  {
   "cell_type": "code",
   "execution_count": null,
   "id": "d5f4d8bb-087e-4fa8-ab17-abc969c3cfb3",
   "metadata": {},
   "outputs": [],
   "source": [
    "\"\"\"\n",
    "Example tex file for each page using the command visualizesingletrial:\n",
    "    \n",
    "    % left = 1_2\n",
    "    \\subsection*{Trial 1\\textunderscore2}\n",
    "    \\begin{figure}[h!]\n",
    "    \\visualizesingletrial{{figures/plots/1_2_ch1.png}}{{figures/plots/1_2_ch2.png}}{{figures/plots/1_2_ch3.png}}{{figures/plots/1_2_ch4.png}}\n",
    "    \\end{figure}\n",
    "    %\n",
    "    % right = 1_3\n",
    "    \\subsection*{Trial 1\\textunderscore3}\n",
    "    \\begin{figure}[h!]\n",
    "        \\visualizesingletrial{{figures/plots/1_3_ch1.png}}{{figures/plots/1_3_ch2.png}}{{figures/plots/1_3_ch3.png}}{{figures/plots/1_3_ch4.png}}\n",
    "    \\end{figure}\n",
    "    \\clearpage\n",
    "\"\"\"\n",
    "\n",
    "# For saving files\n",
    "path_tex = '/Users/sayakokodera/Work/IZFP/Laser/Tex/campaign1/catalog/figures'\n",
    "\n",
    "\n",
    "def tex_text_single_trial(trialNo):\n",
    "    text = (r\"\"\"\\subsection*{{Trial {}\\textunderscore{}}}\"\"\".format(trialNo.split('_')[0], trialNo.split('_')[1]) +\n",
    "            '\\n' +\n",
    "            r\"\"\"\\begin{figure}[h!]\"\"\" + '\\n' +\n",
    "            r\"\"\"\\visualizesingletrial{{figures/plots/{}_ch1.png}}\"\"\".format(trialNo) + \n",
    "            r\"\"\"{{figures/plots/{}_ch2.png}}\"\"\".format(trialNo) + \n",
    "            r\"\"\"{{figures/plots/{}_ch3.png}}\"\"\".format(trialNo) + \n",
    "            r\"\"\"{{figures/plots/{}_ch4.png}}\"\"\".format(trialNo) + \n",
    "            '\\n' +\n",
    "            r\"\"\"\\end{figure}\"\"\"\n",
    "            )\n",
    "    return text\n",
    "    \n",
    "\n",
    "\n",
    "def tex_files_single_page(trial_left, trial_right, path_tex, scenarioNo, pageNo):\n",
    "    \"\"\"\n",
    "    Parameters\n",
    "    ----------\n",
    "        trial_left: str\n",
    "            Trial No. of the left figure\n",
    "        trial_right: str\n",
    "            Trial No. of the right figure\n",
    "    \"\"\"\n",
    "    print(f'*** New page!: left = {trial_left}, right = {trial_right}')\n",
    "    \n",
    "    text_left = tex_text_single_trial(trial_left)\n",
    "    text_right = tex_text_single_trial(trial_right)\n",
    "\n",
    "    # Generate a tex file\n",
    "    text = (f'% left = {trial_left}' + '\\n' +\n",
    "            text_left + '\\n' +\n",
    "            '%' + '\\n' + \n",
    "            f'% right = {trial_right}' + '\\n' +\n",
    "            text_right + '\\n' +\n",
    "            r\"\"\"\\clearpage\"\"\")\n",
    "\n",
    "    # Save\n",
    "    \n",
    "    fname = f'{path_tex}/figures/scenario_{scenarioNo}_page_{pageNo}.tex'\n",
    "    f = open(fname, 'w')\n",
    "    f.write(text)\n",
    "    f.close() \n",
    "\n",
    "    print(f'Scenario {scenarioNo}, page {pageNo}: data saved! as')\n",
    "    print(fname)\n",
    "    print('+==================================+')\n",
    "    "
   ]
  },
  {
   "cell_type": "code",
   "execution_count": null,
   "id": "de93d389-82ed-4989-8cdc-f16a691390b6",
   "metadata": {},
   "outputs": [],
   "source": [
    "path_tex = '/Users/sayakokodera/Work/IZFP/Laser/Tex/campaign1/catalog'\n",
    "\n",
    "tex_files_single_page(df['Versuchs-\\nNr.'][0], df['Versuchs-\\nNr.'][1], path_tex, 0, 1)"
   ]
  },
  {
   "cell_type": "code",
   "execution_count": null,
   "id": "2b047eb3-e648-4f7c-873e-1ad92c6c4f04",
   "metadata": {
    "tags": []
   },
   "outputs": [],
   "source": [
    "path_tex = '/Users/sayakokodera/Work/IZFP/Laser/Tex/campaign1/catalog'\n",
    "\n",
    "# List of the start of each scenarios\n",
    "breaksets = ['0', '1', '7', '21']\n",
    "\n",
    "\n",
    "# Initialize\n",
    "scenarioNo = 0\n",
    "pageNo = 1\n",
    "\n",
    "# Iterate over every 2(!!!) trials\n",
    "for (trial_left, trial_right) in zip(np.array(df['Versuchs-\\nNr.'])[0::2], np.array(df['Versuchs-\\nNr.'])[1::2]):\n",
    "    # scenarioNo\n",
    "    setNo = trial_left.split('_')[0]\n",
    "    # Increase the scenarioNo at an breakpoint\n",
    "    # If scenarionNo == 3 -> no more change\n",
    "    if scenarioNo < len(breaksets) - 1: \n",
    "        # Check if the current left trial is one of the breakpoints\n",
    "        # If True, change increase the scenarioNo & initialize the pageNo\n",
    "        if int(setNo) >= int(breaksets[scenarioNo+1]):\n",
    "            scenarioNo += 1\n",
    "            pageNo = 1\n",
    "    \n",
    "    # Generate the tex file\n",
    "    tex_files_single_page(trial_left, trial_right, path_tex, scenarioNo, pageNo)\n",
    "    \n",
    "    \n",
    "    # Increase the pageNo\n",
    "    pageNo += 1"
   ]
  },
  {
   "cell_type": "code",
   "execution_count": null,
   "id": "8d291af7-0f28-427d-a8ae-063f4d86eb50",
   "metadata": {},
   "outputs": [],
   "source": []
  }
 ],
 "metadata": {
  "kernelspec": {
   "display_name": "Python 3 (ipykernel)",
   "language": "python",
   "name": "python3"
  },
  "language_info": {
   "codemirror_mode": {
    "name": "ipython",
    "version": 3
   },
   "file_extension": ".py",
   "mimetype": "text/x-python",
   "name": "python",
   "nbconvert_exporter": "python",
   "pygments_lexer": "ipython3",
   "version": "3.10.10"
  }
 },
 "nbformat": 4,
 "nbformat_minor": 5
}
