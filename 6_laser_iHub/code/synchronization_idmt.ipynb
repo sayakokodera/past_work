{
 "cells": [
  {
   "cell_type": "code",
   "execution_count": 1,
   "id": "164d213e-e73e-40f5-8475-533edb53b76d",
   "metadata": {},
   "outputs": [],
   "source": [
    "import numpy as np\n",
    "import matplotlib.pyplot as plt\n",
    "import pandas as pd\n",
    "import polars as pl\n",
    "import os\n",
    "import h5py  # for loading the IDMT data"
   ]
  },
  {
   "cell_type": "code",
   "execution_count": 2,
   "id": "5623c433-e748-4c89-b5b3-7146c14ebb30",
   "metadata": {},
   "outputs": [],
   "source": [
    "from sklearn.decomposition import FastICA\n",
    "import scipy\n",
    "import scipy.signal as scsig"
   ]
  },
  {
   "cell_type": "code",
   "execution_count": 3,
   "id": "b027c9f5-56eb-407d-81cc-7ef985812d02",
   "metadata": {},
   "outputs": [],
   "source": [
    "from synchronization import Synchronizer"
   ]
  },
  {
   "cell_type": "markdown",
   "id": "94594b3c-1146-4cfb-aac3-7f89ce2254b9",
   "metadata": {},
   "source": [
    "## Steps for synchronization\n",
    "- (0) Load the metadata (Versuchstabelle) -> to identify the file names (soundbook, QASS)\n",
    "- (1) Load the synchro signals \n",
    "    - Dewetron\n",
    "    - IDMT data, ch3 \n",
    "- (2) Interpolate the Dewetron signal (to compensate the different sampling rate)\n",
    "    - (2-0) ICA to increase the SNR\n",
    "    - (2-1) Linear interpolation\n",
    "- (3) Cross-correlate the interpolated Dewetron signal and the IDMT data\n",
    "- (4) Identify the delay (i.e. peak)"
   ]
  },
  {
   "cell_type": "markdown",
   "id": "96ba441f-f0e7-44c2-b8a8-b1412327e2c1",
   "metadata": {},
   "source": [
    "## (0) Load the meta data (Versuchstabelle) -> for file names"
   ]
  },
  {
   "cell_type": "code",
   "execution_count": 4,
   "id": "f8858507-9d12-4e48-9305-ce28aa731a26",
   "metadata": {},
   "outputs": [],
   "source": [
    "path_meta = '/Volumes/Sandisk_SD/Work/IZFP/Laser/2023_iHub/00_Versuchsplan_iHub.xlsx'\n",
    "metadf = pd.read_excel(\n",
    "    path_meta,\n",
    "    sheet_name=1,\n",
    "    usecols=\"B:F\",\n",
    "    nrows=71\n",
    ")"
   ]
  },
  {
   "cell_type": "markdown",
   "id": "1e3e8c98-3975-4f76-bc29-3f010d52ad05",
   "metadata": {},
   "source": [
    "## Get the delay for all trials\n",
    "**info**:<br>\n",
    "* 27, 28, 29 -> no pre and post in the dewetron!"
   ]
  },
  {
   "cell_type": "code",
   "execution_count": 21,
   "id": "0c39ba20-bbe5-4289-a22b-a2658cdd7f3d",
   "metadata": {},
   "outputs": [
    {
     "name": "stdout",
     "output_type": "stream",
     "text": [
      "dataID = 27, name = 27_0_1_Spalt_pneu\n",
      "dataID = 28, name = 28_0_1_Spalt_pneu\n",
      "dataID = 29, name = 29_0_1_Spalt_pneu\n"
     ]
    }
   ],
   "source": [
    "# Path to the data\n",
    "path_dew = '/Volumes/Sandisk_SD/Work/IZFP/Laser/2023_iHub/01_DEWETRON_csv'\n",
    "path_idmt = '/Volumes/Sandisk_SD/Work/IZFP/Laser/2023_iHub/03_Soundbook'\n",
    "# Base\n",
    "info_dict = {\n",
    "    'dataID' : [],\n",
    "    'DEWETRON': [],\n",
    "    'SoundBook': [],\n",
    "    'delay[s]': []\n",
    "}\n",
    "\n",
    "for row in np.arange(29, len(metadf)):\n",
    "    #---- Specify the name\n",
    "    dataID = row + 1\n",
    "    fname_dew = metadf['DEWETRON'][row]\n",
    "    fname_idmt = metadf['SoundBook'][row]\n",
    "    fname_izfp = metadf['QASS'][row]\n",
    "    print(f'dataID = {dataID}, name = {fname_dew}')\n",
    "    \n",
    "    #---- Synchronize\n",
    "    synch = Synchronizer()\n",
    "    # IDMT data\n",
    "    t_idmt, s_idmt = synch.load_hd5(path_idmt, fname_idmt)\n",
    "    # Load and process the Dewetron data (denoising + interpoltaion)\n",
    "    t_dew, s_dew = synch.load_and_process_dew(path_dew, fname_dew, t_idmt, synch.fs_idmt)\n",
    "    # Identify the delay\n",
    "    delay, N_offset = synch.identify_delay(s_dew, s_idmt, synch.fs_idmt)\n",
    "    \n",
    "    #-------------\n",
    "    # -> for the trials without pre- and post-triger (27, 28, 29) => use noisy dewetron signal\n",
    "    # Dewetron data\n",
    "    # t_dew, s_dew = synch.load_dew(path_dew, fname_dew)\n",
    "    # # Zero-mean and normalize\n",
    "    # s_dew = s_dew - np.mean(s_dew)\n",
    "    # s_dew = s_dew/np.abs(s_dew).max()\n",
    "    # s_ica = s_dew[:synch.N+1]\n",
    "    # t_interp, s_interp = synch.interpolate(t_dew, s_ica, t_idmt[int(1.0*synch.fs_idmt)+1:], synch.fs_idmt)\n",
    "    # # Identify the delay\n",
    "    # delay, N_offset = synch.identify_delay(s_interp, s_idmt, synch.fs_idmt)\n",
    "    #-------------\n",
    "    \n",
    "    #---- Update the info dictionary\n",
    "    info_dict['dataID'].append(dataID)\n",
    "    info_dict['DEWETRON'].append(fname_dew)\n",
    "    info_dict['SoundBook'].append(fname_idmt)\n",
    "    info_dict['delay[s]'].append(delay)\n",
    "    "
   ]
  },
  {
   "cell_type": "code",
   "execution_count": 22,
   "id": "db56a847-ff53-4b37-a233-b9496978d5c0",
   "metadata": {},
   "outputs": [
    {
     "data": {
      "text/html": [
       "<div>\n",
       "<style scoped>\n",
       "    .dataframe tbody tr th:only-of-type {\n",
       "        vertical-align: middle;\n",
       "    }\n",
       "\n",
       "    .dataframe tbody tr th {\n",
       "        vertical-align: top;\n",
       "    }\n",
       "\n",
       "    .dataframe thead th {\n",
       "        text-align: right;\n",
       "    }\n",
       "</style>\n",
       "<table border=\"1\" class=\"dataframe\">\n",
       "  <thead>\n",
       "    <tr style=\"text-align: right;\">\n",
       "      <th></th>\n",
       "      <th>dataID</th>\n",
       "      <th>DEWETRON</th>\n",
       "      <th>SoundBook</th>\n",
       "      <th>delay[s]</th>\n",
       "    </tr>\n",
       "  </thead>\n",
       "  <tbody>\n",
       "    <tr>\n",
       "      <th>0</th>\n",
       "      <td>27</td>\n",
       "      <td>27_0_1_Spalt_pneu</td>\n",
       "      <td>iHub2023_030</td>\n",
       "      <td>0.026277</td>\n",
       "    </tr>\n",
       "    <tr>\n",
       "      <th>1</th>\n",
       "      <td>28</td>\n",
       "      <td>28_0_1_Spalt_pneu</td>\n",
       "      <td>iHub2023_031</td>\n",
       "      <td>0.026243</td>\n",
       "    </tr>\n",
       "    <tr>\n",
       "      <th>2</th>\n",
       "      <td>29</td>\n",
       "      <td>29_0_1_Spalt_pneu</td>\n",
       "      <td>iHub2023_032</td>\n",
       "      <td>0.025291</td>\n",
       "    </tr>\n",
       "  </tbody>\n",
       "</table>\n",
       "</div>"
      ],
      "text/plain": [
       "   dataID           DEWETRON     SoundBook  delay[s]\n",
       "0      27  27_0_1_Spalt_pneu  iHub2023_030  0.026277\n",
       "1      28  28_0_1_Spalt_pneu  iHub2023_031  0.026243\n",
       "2      29  29_0_1_Spalt_pneu  iHub2023_032  0.025291"
      ]
     },
     "execution_count": 22,
     "metadata": {},
     "output_type": "execute_result"
    }
   ],
   "source": [
    "# Convert the dictionary to a dataframe\n",
    "info_df = pd.DataFrame.from_dict(info_dict, orient='columns')\n",
    "# Print\n",
    "info_df"
   ]
  },
  {
   "cell_type": "code",
   "execution_count": 23,
   "id": "0ee71a74-ceea-4b1d-b563-2af5d88d7a12",
   "metadata": {},
   "outputs": [],
   "source": [
    "# Save the dataframe as csv\n",
    "path2save = '/Volumes/Sandisk_SD/Work/IZFP/Laser/2023_iHub/04_Delays'\n",
    "info_df.to_csv(f'{path2save}/delays_SoundBook.csv', index=False)\n"
   ]
  },
  {
   "cell_type": "code",
   "execution_count": null,
   "id": "95be703e-b53c-47c0-af05-4b6365c0b5d7",
   "metadata": {},
   "outputs": [],
   "source": []
  }
 ],
 "metadata": {
  "kernelspec": {
   "display_name": "Python 3 (ipykernel)",
   "language": "python",
   "name": "python3"
  },
  "language_info": {
   "codemirror_mode": {
    "name": "ipython",
    "version": 3
   },
   "file_extension": ".py",
   "mimetype": "text/x-python",
   "name": "python",
   "nbconvert_exporter": "python",
   "pygments_lexer": "ipython3",
   "version": "3.10.10"
  }
 },
 "nbformat": 4,
 "nbformat_minor": 5
}
