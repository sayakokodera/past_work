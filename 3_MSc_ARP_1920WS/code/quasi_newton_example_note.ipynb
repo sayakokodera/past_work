{
 "cells": [
  {
   "cell_type": "markdown",
   "metadata": {},
   "source": [
    "# Runtest for Quasi-Newton method"
   ]
  },
  {
   "cell_type": "code",
   "execution_count": 1,
   "metadata": {},
   "outputs": [],
   "source": [
    "import numpy as np\n",
    "import scipy.optimize as sco"
   ]
  },
  {
   "cell_type": "code",
   "execution_count": 11,
   "metadata": {},
   "outputs": [],
   "source": [
    "# Cost fct from the system optimization Chapter 5\n",
    "def fx(x):\n",
    "    \"\"\"\n",
    "    x : ndarray, w/ size = 2x1, [x1, x2]\n",
    "    f(x) = 3* x1^2 + 2* x1* x2 + 1.5* x2^2\n",
    "    \"\"\"\n",
    "    return 3*x[0]**2 + 2*x[0]*x[1] + 1.5*x[1]**2\n",
    "\n",
    "def grad_fx(x):\n",
    "    return np.array([6*x[0] + 2*x[1], 2*x[0] + 3*x[1]])\n",
    "\n",
    "\n",
    "def quasi_Newton(fx, grad_fx, x0, epsilon, Niteration):\n",
    "    \"\"\" Solve a minimization problem via quasi Newton method (BFGS algorithm).\n",
    "    \n",
    "    Parameters\n",
    "    ----------\n",
    "    fx : callable function\n",
    "        Objective function\n",
    "    grad_fx : callable function\n",
    "        Gradient of the objective function\n",
    "    x0 : ndarray\n",
    "        Initial guess\n",
    "    epsilon : float\n",
    "        Target value (for break condition)\n",
    "    Niteration : int\n",
    "        Break condition \n",
    "        \n",
    "    Return\n",
    "    ------\n",
    "    x_star : ndarray\n",
    "        Solution for the objective function\n",
    "        \n",
    "    Notes\n",
    "    -----\n",
    "    This is based on the BFGS algorithm of the quasi Newton method.\n",
    "    See Wright and Nocedal, 'Numerical Optimization', 1999, pg. 140-141.\n",
    "    \"\"\"\n",
    "    # Call sco.BFGS\n",
    "    bfgs = sco.BFGS()\n",
    "    bfgs.initialize(x0.shape[0], 'hess')\n",
    "    \n",
    "    # Values based on the initial guess x0\n",
    "    gradf = grad_fx(x0)\n",
    "    H = np.identity(x0.shape[0])\n",
    "    x = x0\n",
    "    \n",
    "    for curr_iter in range(Niteration):\n",
    "        print('Iteration No. {}'.format(curr_iter))\n",
    "        p = -np.dot(H, gradf)\n",
    "        alpha = sco.line_search(fx, grad_fx, x, p)[0]\n",
    "        x_star = x + alpha* p\n",
    "        # The break condition is not satisfied -> update\n",
    "        if fx(x_star) > epsilon:   \n",
    "            gradf_star = grad_fx(x_star)\n",
    "            bfgs.update(x_star - x, gradf_star - gradf)\n",
    "            H = bfgs.get_matrix()\n",
    "            x = x_star\n",
    "            gradf = gradf_star\n",
    "        # The break condition is satisfied\n",
    "        else:\n",
    "            break\n",
    "    return x_star\n",
    "        "
   ]
  },
  {
   "cell_type": "code",
   "execution_count": null,
   "metadata": {},
   "outputs": [],
   "source": [
    "if __name__ == '__main__':\n",
    "    \n",
    "    def fx(x):\n",
    "        return 3*x[0]**2 + 2*x[0]*x[1] + 1.5*x[1]**2\n",
    "    \n",
    "    def grad_fx(x):\n",
    "        return np.array([6*x[0] + 2*x[1], 2*x[0] + 3*x[1]])\n",
    "    \n",
    "    x0 = np.array([1, 1])\n",
    "    epsilon = 10**-6\n",
    "    Niteration = 15\n",
    "    print(fx(x0))\n",
    "    x_opt = quasi_Newton(fx, grad_fx, x0, epsilon, Niteration)\n",
    "    print(fx(x_opt))"
   ]
  },
  {
   "cell_type": "code",
   "execution_count": 3,
   "metadata": {},
   "outputs": [
    {
     "name": "stdout",
     "output_type": "stream",
     "text": [
      "6.5\n"
     ]
    }
   ],
   "source": [
    "# Initial guess\n",
    "x0 = np.array([1, 1])\n",
    "print(fx(x0))\n",
    "gradf0 = grad_fx(x0)\n",
    "H0 = np.identity(x0.shape[0])\n",
    "epsilon = 10**-6\n",
    "# Call sco.BFGS\n",
    "bfgs = sco.BFGS()\n",
    "bfgs.initialize(x0.shape[0], 'hess')"
   ]
  },
  {
   "cell_type": "code",
   "execution_count": 4,
   "metadata": {},
   "outputs": [
    {
     "name": "stdout",
     "output_type": "stream",
     "text": [
      "0.10177705977382874\n"
     ]
    }
   ],
   "source": [
    "# 0th iteration\n",
    "p0 = -np.dot(H0, gradf0)\n",
    "alpha0 = sco.line_search(fx, grad_fx, x0, p0)[0]\n",
    "x1 = x0 + alpha0* p0\n",
    "print(fx(x1))\n",
    "gradf1 = grad_fx(x1)\n",
    "bfgs.update(x1 - x0, gradf1 - gradf0)\n",
    "H1 = bfgs.get_matrix()"
   ]
  },
  {
   "cell_type": "code",
   "execution_count": 5,
   "metadata": {},
   "outputs": [
    {
     "name": "stdout",
     "output_type": "stream",
     "text": [
      "0.006036367698925253\n"
     ]
    }
   ],
   "source": [
    "# 1st iteration\n",
    "p1 = -np.dot(H1, gradf1)\n",
    "alpha1 = sco.line_search(fx, grad_fx, x1, p1)[0]\n",
    "x2 = x1 + alpha1* p1\n",
    "print(fx(x2))"
   ]
  },
  {
   "cell_type": "code",
   "execution_count": 6,
   "metadata": {},
   "outputs": [
    {
     "data": {
      "text/plain": [
       "True"
      ]
     },
     "execution_count": 6,
     "metadata": {},
     "output_type": "execute_result"
    }
   ],
   "source": [
    "a = 0.5\n",
    "a <= 0.5"
   ]
  },
  {
   "cell_type": "code",
   "execution_count": 12,
   "metadata": {},
   "outputs": [
    {
     "name": "stdout",
     "output_type": "stream",
     "text": [
      "6.5\n",
      "Iteration No. 0\n",
      "Iteration No. 1\n",
      "Iteration No. 2\n",
      "Iteration No. 3\n",
      "Iteration No. 4\n",
      "Iteration No. 5\n",
      "2.6563390683190167e-07\n"
     ]
    }
   ],
   "source": [
    "x0 = np.array([1, 1])\n",
    "epsilon = 10**-6\n",
    "Niteration = 15\n",
    "print(fx(x0))\n",
    "x_opt = quasi_Newton(fx, grad_fx, x0, epsilon, Niteration)\n",
    "print(fx(x_opt))"
   ]
  },
  {
   "cell_type": "code",
   "execution_count": null,
   "metadata": {},
   "outputs": [],
   "source": []
  }
 ],
 "metadata": {
  "kernelspec": {
   "display_name": "Python 3",
   "language": "python",
   "name": "python3"
  },
  "language_info": {
   "codemirror_mode": {
    "name": "ipython",
    "version": 3
   },
   "file_extension": ".py",
   "mimetype": "text/x-python",
   "name": "python",
   "nbconvert_exporter": "python",
   "pygments_lexer": "ipython3",
   "version": "3.6.7"
  }
 },
 "nbformat": 4,
 "nbformat_minor": 2
}
