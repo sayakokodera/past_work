{
 "cells": [
  {
   "cell_type": "markdown",
   "metadata": {},
   "source": [
    "# Dictionary formation"
   ]
  },
  {
   "cell_type": "code",
   "execution_count": 1,
   "metadata": {},
   "outputs": [],
   "source": [
    "import numpy as np\n",
    "import matplotlib.pyplot as plt\n",
    "import tof_calculator \n",
    "import pulse_former \n",
    "import defect_map_handling "
   ]
  },
  {
   "cell_type": "code",
   "execution_count": 2,
   "metadata": {},
   "outputs": [],
   "source": [
    "# Parameters\n",
    "Nx = 20 # limited due to the opening angle\n",
    "Nz = 200\n",
    "Nt = Nz\n",
    "c0 = 6300 #[m/S]\n",
    "fS = 80*10**6 #[Hz] \n",
    "fC = 5*10**6 #[Hz] \n",
    "alpha = 20*10**12 #[Hz]**2\n",
    "dx = 0.5*10**-3 #[m]\n",
    "dz = 0.5* c0/(fS)\n",
    "wavelength = 1.26* 10**-3 # [m]\n",
    "# defect position: p_defect\n",
    "p_def_idx = np.array([10, 91])\n",
    "p_def = np.array([p_def_idx[0]*dx, p_def_idx[1]*dz])\n",
    "# defect map: defmap\n",
    "dmh = defect_map_handling.DefectMapSingleDefect2D(p_def, Nx, Nz, dx, dz)\n",
    "dmh.generate_defect_map()\n",
    "defmap_true = dmh.get_defect_map()"
   ]
  },
  {
   "cell_type": "markdown",
   "metadata": {},
   "source": [
    "## ToF calculation"
   ]
  },
  {
   "cell_type": "code",
   "execution_count": 3,
   "metadata": {},
   "outputs": [],
   "source": [
    "p_scan = np.array([[2.7*dx, 0*dz], [5.1*dx, 0*dz]])\n",
    "tofcalc = tof_calculator.ToFforDictionary2D(c0, Nx, Nz, dx, dz, p_scan)\n",
    "tofcalc.calculate_tof(calc_grad = True)\n",
    "tof = tofcalc.get_tof()    \n",
    "grad_tof = tofcalc.get_grad_tof()"
   ]
  },
  {
   "cell_type": "markdown",
   "metadata": {},
   "source": [
    "## Dictionary formation"
   ]
  },
  {
   "cell_type": "code",
   "execution_count": null,
   "metadata": {},
   "outputs": [],
   "source": [
    "# Dictionary formation\n",
    "pformer = pulse_former.PulseFormerGabor(Nt, fS, fC, alpha)\n",
    "K = p_scan.shape[0]\n",
    "L = Nx*Nz\n",
    "H = np.zeros((K*Nt, L)) # Base of SAFT matrix\n",
    "J = np.array(H) # Base of Jacobian matrix\n",
    "for k in range(K):\n",
    "    for l in range(L):\n",
    "        tau = tof[k, l]\n",
    "        grad_tau = grad_tof[k, l]\n",
    "        pformer.calculate_ip_pulse(tau)\n",
    "        pformer.calculate_grad_ip(grad_tau)\n",
    "        # Allocate pulses to the dictionaries\n",
    "        H[k*Nt:(k+1)*Nt, l] = pformer.get_ip_pulse()\n",
    "        J[k*Nt:(k+1)*Nt, l] = pformer.get_grad_ip()"
   ]
  },
  {
   "cell_type": "code",
   "execution_count": 4,
   "metadata": {},
   "outputs": [],
   "source": [
    "class DictionaryFormer():\n",
    "    def __init__(self, Nt, fS, fC, alpha):\n",
    "        self.pformer = pulse_former.PulseFormerGabor(Nt, fS, fC, alpha)\n",
    "        self.Nt = int(Nt)\n",
    "        self.H = None # Base of the SAFT matrix\n",
    "        self.J = None # Base of the Jacobian matrix\n",
    "    \n",
    "            \n",
    "    def generate_dictionary(self, tof, grad_tof = None):\n",
    "        M = self.Nt\n",
    "        K = tof.shape[0]\n",
    "        L = tof.shape[1]\n",
    "        self.H = np.zeros((K*M, L))\n",
    "        self.J = np.array(self.H)\n",
    "        for k in range(K):\n",
    "            for l in range(L):\n",
    "                # SAFT matrix\n",
    "                tau = tof[k, l]\n",
    "                self.pformer.calculate_ip_pulse(tau)\n",
    "                self.H[k*M:(k+1)*M, l] = self.pformer.get_ip_pulse()\n",
    "                # Jacobian matrix\n",
    "                if grad_tof is not None:\n",
    "                    grad_tau = grad_tof[k, l]\n",
    "                    self.pformer.calculate_grad_ip(grad_tau)\n",
    "                    self.J[k*M:(k+1)*M, l] = self.pformer.get_grad_ip()\n",
    "\n",
    "    \n",
    "    def get_SAFT_matrix(self):\n",
    "        return self.H\n",
    "    \n",
    "    def get_Jacobian_matrix(self):\n",
    "        return self.J\n",
    "        \n",
    "        "
   ]
  },
  {
   "cell_type": "code",
   "execution_count": 5,
   "metadata": {},
   "outputs": [],
   "source": [
    "dformer = DictionaryFormer(Nt, fS, fC, alpha)\n",
    "dformer.generate_dictionary(tof, grad_tof)\n",
    "H = dformer.get_SAFT_matrix()\n",
    "J = dformer.get_Jacobian_matrix()"
   ]
  },
  {
   "cell_type": "markdown",
   "metadata": {},
   "source": [
    "## Check the dictionary w/ A-Scans"
   ]
  },
  {
   "cell_type": "code",
   "execution_count": 6,
   "metadata": {},
   "outputs": [],
   "source": [
    "ascans = np.dot(H, defmap_true)"
   ]
  },
  {
   "cell_type": "code",
   "execution_count": 7,
   "metadata": {},
   "outputs": [
    {
     "data": {
      "text/plain": [
       "[<matplotlib.lines.Line2D at 0x1189fa198>]"
      ]
     },
     "execution_count": 7,
     "metadata": {},
     "output_type": "execute_result"
    },
    {
     "data": {
      "image/png": "[encoded data removed]",
      "text/plain": [
       "<Figure size 432x288 with 1 Axes>"
      ]
     },
     "metadata": {},
     "output_type": "display_data"
    }
   ],
   "source": [
    "plt.plot(ascans)"
   ]
  },
  {
   "cell_type": "code",
   "execution_count": 8,
   "metadata": {},
   "outputs": [],
   "source": [
    "grad_ascans = np.dot(J, defmap_true)"
   ]
  },
  {
   "cell_type": "code",
   "execution_count": 9,
   "metadata": {},
   "outputs": [
    {
     "data": {
      "text/plain": [
       "[<matplotlib.lines.Line2D at 0x118afdfd0>]"
      ]
     },
     "execution_count": 9,
     "metadata": {},
     "output_type": "execute_result"
    },
    {
     "data": {
      "image/png": "[encoded data removed]",
      "text/plain": [
       "<Figure size 432x288 with 1 Axes>"
      ]
     },
     "metadata": {},
     "output_type": "display_data"
    }
   ],
   "source": [
    "plt.plot(grad_ascans)"
   ]
  },
  {
   "cell_type": "code",
   "execution_count": null,
   "metadata": {},
   "outputs": [],
   "source": []
  }
 ],
 "metadata": {
  "kernelspec": {
   "display_name": "Python 3",
   "language": "python",
   "name": "python3"
  },
  "language_info": {
   "codemirror_mode": {
    "name": "ipython",
    "version": 3
   },
   "file_extension": ".py",
   "mimetype": "text/x-python",
   "name": "python",
   "nbconvert_exporter": "python",
   "pygments_lexer": "ipython3",
   "version": "3.6.7"
  }
 },
 "nbformat": 4,
 "nbformat_minor": 2
}
