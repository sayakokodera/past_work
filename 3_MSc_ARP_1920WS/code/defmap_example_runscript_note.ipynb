{
 "cells": [
  {
   "cell_type": "markdown",
   "metadata": {},
   "source": [
    "# Defect map example "
   ]
  },
  {
   "cell_type": "code",
   "execution_count": 1,
   "metadata": {},
   "outputs": [],
   "source": [
    "import numpy as np"
   ]
  },
  {
   "cell_type": "code",
   "execution_count": 2,
   "metadata": {},
   "outputs": [
    {
     "name": "stdout",
     "output_type": "stream",
     "text": [
      "[2.1   2.675]\n",
      "[2. 3.]\n"
     ]
    }
   ],
   "source": [
    "Nx = 10\n",
    "Nz = 20\n",
    "dx = 0.5 #[mm]\n",
    "dz = 0.25 #[mm]\n",
    "p_def = np.array([4.2*dx, 10.7*dz])\n",
    "p_def_hat = np.around(p_def)\n",
    "print(p_def)\n",
    "print(p_def_hat)"
   ]
  },
  {
   "cell_type": "code",
   "execution_count": 7,
   "metadata": {},
   "outputs": [
    {
     "name": "stdout",
     "output_type": "stream",
     "text": [
      "[ 4. 10.]\n",
      "[ 5. 11.]\n"
     ]
    }
   ],
   "source": [
    "print(np.floor(p_def/np.array([dx, dz])))\n",
    "print(np.ceil(p_def/np.array([dx, dz])))"
   ]
  },
  {
   "cell_type": "code",
   "execution_count": 8,
   "metadata": {},
   "outputs": [
    {
     "name": "stdout",
     "output_type": "stream",
     "text": [
      "4\n",
      "10\n"
     ]
    }
   ],
   "source": [
    "\"\"\"\n",
    "p_def is somewhere within p1, p2, p3 and p4\n",
    "p1 = (n, m), p2 = (n, m+1), p3 = (n+1, m), p4 = (n+1, m+1)\n",
    "\"\"\"\n",
    "p_floored = np.floor(p_def/np.array([dx, dz])).astype(int)\n",
    "n = p_floored[0]\n",
    "m = p_floored[1]\n",
    "print(n)\n",
    "print(m)"
   ]
  },
  {
   "cell_type": "code",
   "execution_count": 5,
   "metadata": {},
   "outputs": [
    {
     "data": {
      "text/plain": [
       "array([0.28016261, 0.45174864, 0.12933526, 0.13875349])"
      ]
     },
     "execution_count": 5,
     "metadata": {},
     "output_type": "execute_result"
    }
   ],
   "source": [
    "def get_distance(p_def, p):\n",
    "    return np.sqrt((p_def[0] - p[0])**2 + (p_def[1] - p[1])**2)\n",
    "\n",
    "# 2D case\n",
    "neighbors_idx = np.array([[n, m], [n, m+1], [n+1, m], [n+1, m+1]])\n",
    "neighbors = neighbors_idx.astype(float)\n",
    "neighbors[:, 0] = neighbors[:, 0]* dx\n",
    "neighbors[:, 1] = neighbors[:, 1]* dz\n",
    "distance = np.zeros(neighbors.shape[0])\n",
    "\n",
    "for idx in range(4):\n",
    "    distance[idx] = get_distance(p_def, neighbors[idx])\n",
    "# Normalize teh distance w/ the total distance\n",
    "distance_norm = distance/ np.sum(distance)\n",
    "energy_scaled = 1/distance_norm\n",
    "# Normalize the energy\n",
    "energy = energy_scaled/np.sum(energy_scaled)\n",
    "energy"
   ]
  },
  {
   "cell_type": "code",
   "execution_count": 6,
   "metadata": {},
   "outputs": [
    {
     "name": "stdout",
     "output_type": "stream",
     "text": [
      "[ True  True  True  True]\n"
     ]
    },
    {
     "data": {
      "text/plain": [
       "array([0.28016261, 0.45174864, 0.12933526, 0.13875349])"
      ]
     },
     "execution_count": 6,
     "metadata": {},
     "output_type": "execute_result"
    }
   ],
   "source": [
    "def_map = np.zeros(Nx*Nz)\n",
    "# Allocate the corresponding energy to the neighboring points\n",
    "for count, p in enumerate(neighbors_idx):\n",
    "    # Convert 2D -> 1D \n",
    "    idx = p[0]*Nx + p[1]\n",
    "    def_map[idx] = energy[count]\n",
    "nz = np.nonzero(def_map)[0]\n",
    "print(def_map[nz] == energy)"
   ]
  },
  {
   "cell_type": "code",
   "execution_count": 3,
   "metadata": {},
   "outputs": [],
   "source": [
    "class DefectMapSingleDefect():\n",
    "    \"\"\" Class to generate a defect map for FWM. \n",
    "    When a defect is located not exactly on a measurement grid point, rather between grid points, we usually round \n",
    "    the defect position to the nearest grid point to obtaine an \"binary\" defect map\", where the quantization error is \n",
    "    inevitable. \n",
    "    This class aims to minimize such quantization error by representing the defect map with the \"energy\" \n",
    "    of the position. The energy is inversely proportional to the distance b/w the defect and a neighboring grid point.\n",
    "    \n",
    "    (***) Up to now, this class considers only a single defect case. When there are multiple defects in a test object,\n",
    "    iterate over the defect position and the resulting defect map is the sum of all defect maps. \n",
    "    \n",
    "    TODO: write a unittest\n",
    "    \n",
    "    \"\"\"\n",
    "    \n",
    "    def __init__(self):\n",
    "        self.def_map = None\n",
    "        self.energy = None\n",
    "        self.p_def = None\n",
    "    \n",
    "    def calculate_distance(self, p):\n",
    "        return np.sqrt((self.p_def[0] - p[0])**2 + (self.p_def[1] - p[1])**2)\n",
    "    \n",
    "    def get_defect_map(self):\n",
    "        return self.def_map\n",
    "    \n",
    "    def test_def_map(self):\n",
    "        nz = np.nonzero(self.def_map)[0]\n",
    "        print(self.def_map[nz] == self.energy)\n",
    " \n",
    "\n",
    "class DefectMapSingleDefect2D(DefectMapSingleDefect):\n",
    "    \n",
    "    def __init__(self, p_def, Nx, Nz, dx, dz):\n",
    "        self.p_def = np.array(p_def)\n",
    "        self.Nx = int(Nx)\n",
    "        self.Nz = int(Nz)\n",
    "        self.dx = float(dx)\n",
    "        self.dz = float(dz)\n",
    "        \n",
    "    def find_neighbors(self):\n",
    "        # Index for the neighbors\n",
    "        p_floored = np.floor(p_def/np.array([dx, dz])).astype(int)\n",
    "        n = p_floored[0]\n",
    "        m = p_floored[1]\n",
    "        self.neighbors_idx = np.array([[n, m], [n, m+1], [n+1, m], [n+1, m+1]])\n",
    "        # Correct position of the neighbors\n",
    "        self.neighbors = self.neighbors_idx.astype(float)\n",
    "        self.neighbors[:, 0] = self.neighbors[:, 0]* self.dx\n",
    "        self.neighbors[:, 1] = self.neighbors[:, 1]* self.dz\n",
    "        \n",
    "    def calculate_energy(self): \n",
    "        \"\"\" Allocate the \"energy\" of the defect according to the distance b/w the defect and each neighboring point \n",
    "        \"\"\"\n",
    "        distance = np.zeros(self.neighbors.shape[0])\n",
    "        for idx in range(4):\n",
    "            distance[idx] = self.calculate_distance(self.neighbors[idx])\n",
    "        # Normalize teh distance w/ the total distance\n",
    "        distance_norm = distance/ np.sum(distance)\n",
    "        energy_scaled = 1/distance_norm\n",
    "        # Normalize the energy\n",
    "        self.energy = energy_scaled/np.sum(energy_scaled)\n",
    "        \n",
    "    def generate_defect_map(self):\n",
    "        \"\"\"\n",
    "        Test\n",
    "        ----\n",
    "        nz = np.nonzero(self.def_map)[0]\n",
    "        print(self.def_map[nz] == self.energy)\n",
    "        \"\"\"\n",
    "        self.find_neighbors()\n",
    "        self.calculate_energy()\n",
    "        self.def_map = np.zeros(Nx*Nz)\n",
    "        # Allocate the corresponding energy to the neighboring points\n",
    "        for count, p in enumerate(self.neighbors_idx):\n",
    "            # Convert 2D -> 1D \n",
    "            idx = p[0]* self.Nx + p[1]\n",
    "            self.def_map[idx] = self.energy[count]      \n",
    "    "
   ]
  },
  {
   "cell_type": "code",
   "execution_count": 4,
   "metadata": {},
   "outputs": [
    {
     "name": "stdout",
     "output_type": "stream",
     "text": [
      "[ True  True  True  True]\n",
      "[0.28016261 0.45174864 0.12933526 0.13875349]\n"
     ]
    }
   ],
   "source": [
    "dm2d = DefectMapSingleDefect2D(p_def, Nx, Nz, dx, dz)\n",
    "dm2d.generate_defect_map()\n",
    "def_map2 = dm2d.get_defect_map()\n",
    "dm2d.test_def_map()\n",
    "nz2 = np.nonzero(def_map2)[0]\n",
    "print(def_map2[nz2])"
   ]
  },
  {
   "cell_type": "code",
   "execution_count": null,
   "metadata": {},
   "outputs": [],
   "source": []
  }
 ],
 "metadata": {
  "kernelspec": {
   "display_name": "Python 3",
   "language": "python",
   "name": "python3"
  },
  "language_info": {
   "codemirror_mode": {
    "name": "ipython",
    "version": 3
   },
   "file_extension": ".py",
   "mimetype": "text/x-python",
   "name": "python",
   "nbconvert_exporter": "python",
   "pygments_lexer": "ipython3",
   "version": "3.6.7"
  }
 },
 "nbformat": 4,
 "nbformat_minor": 2
}
