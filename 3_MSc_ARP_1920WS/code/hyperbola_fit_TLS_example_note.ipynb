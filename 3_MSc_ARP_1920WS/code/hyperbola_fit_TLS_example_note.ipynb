{
 "cells": [
  {
   "cell_type": "markdown",
   "metadata": {},
   "source": [
    "# TLS example run"
   ]
  },
  {
   "cell_type": "code",
   "execution_count": 11,
   "metadata": {},
   "outputs": [],
   "source": [
    "import numpy as np\n",
    "import matplotlib.pyplot as plt\n",
    "import defect_map_handling\n",
    "import tof_calculator\n",
    "import dictionary_former"
   ]
  },
  {
   "cell_type": "code",
   "execution_count": 12,
   "metadata": {},
   "outputs": [],
   "source": [
    "class HyperbolaFitTLS():\n",
    "    def __init__(self):\n",
    "        self.defmap = None # Base of the defect map\n",
    "        \n",
    "    def find_peaks(self, data, dz):\n",
    "        # Copy the input data\n",
    "        if data.ndim == 1:\n",
    "            ascans = np.array([data])\n",
    "        else:\n",
    "            ascans = np.array(data)\n",
    "            \n",
    "        self.z_peak = np.zeros(ascans.shape[1])\n",
    "        for idx in range(ascans.shape[1]):\n",
    "            curr_ascan = ascans[:, idx]\n",
    "            self.z_peak[idx] = np.where(curr_ascan==abs(curr_ascan).max())[0][0]*dz\n",
    "        \n",
    "    def get_defect_map(self):\n",
    "        return self.defmap\n",
    "\n",
    "\n",
    "class HyperbolaFitTLS2D(HyperbolaFitTLS):\n",
    "    \"\"\" Estimate a defect position by fitting the hyperbola to the measurement data. \n",
    "    In this class, the coefficients of the hyperbola polynomial is to be determined from the \n",
    "    available scan position, x, and the peak position of the measurement data, z_peak. \n",
    "    \n",
    "    z = [z_peak_1**2, z_peak_2**2, z_peak_3**2, etc]\n",
    "    X = coefficient matrix containing 1, xi and xi**2 as its row\n",
    "      = [[1, x1, x1**2], [1, x2, x2**2], [1, x3, x3**2], etc...]\n",
    "    w = the LS/TLS solution to find\n",
    "      = [w0, w1, w2]\n",
    "      where\n",
    "          w2 = (z_def/curveture)**2\n",
    "          w1 = -2* x_def* u2\n",
    "          w0 = u2* (u1**2/ (4*u2**2) + curveture**2)\n",
    "      -> this leads to \n",
    "          x_def = - w1/ (2* w2)\n",
    "          z_def = np.sqrt(w0 - w1**2/ (4* w2))\n",
    "          curvature = np.sqrt(u0 - u1**2/(4*u2**2))\n",
    "    \"\"\"\n",
    "    def __init__(self):\n",
    "        self.z_peak = None\n",
    "        self.x_def = None\n",
    "        self.z_def = None\n",
    "            \n",
    "\n",
    "    def solve_TLS(self, x_track):\n",
    "        \"\"\"      \n",
    "        z \\approx X* w --- correction ---> z + dz = (X + dX)* w\n",
    "            => [X+dX z+dz]* [w^T -1]^T = zeros(K) w/ K = # of measurement data\n",
    "            => [w^T -1]^T lies in the nullspace of [X+dX z+dz]\n",
    "\n",
    "        [Xz] = U* S* Vh = [U1 u2]* diag(S1, s2)* [V1 v2]^T w/ full rank = 4\n",
    "        -> Correction of the matrix [Xz] according to the TLS\n",
    "        [X+dX z+dz] = U1* S1* V1h w/ the rank = 3 \n",
    "            => v2 is in the nullspace of [X+dX z+dz]\n",
    "            => [w^T -1]^T = alpha* V2h => w = -1/Vh[-1, -1]* Vh[-1, :-1] \n",
    "        \"\"\"\n",
    "        X = np.zeros((len(x_track), 3))\n",
    "        X[:, 0] = 1\n",
    "        for idx in range(len(x_track)):\n",
    "            X[idx, 1] = x_track[idx]\n",
    "            X[idx, 2] = x_track[idx]**2\n",
    "        # Setting for z\n",
    "        z = self.z_peak**2\n",
    "        # Concatenate [Xz]\n",
    "        Xz = np.concatenate((X, np.array([z]).T), axis = 1)\n",
    "        # SVD of Xz\n",
    "        U, S, Vh = np.linalg.svd(Xz, full_matrices = True)\n",
    "        # Determine the w\n",
    "        w = -1/Vh[-1, -1]* Vh[-1, :-1]\n",
    "        # Calculate xdef, zdef\n",
    "        self.x_def = - w[1]/ (2* w[2])\n",
    "        self.z_def = np.sqrt(w[0] - w[1]**2/(4* w[2]))\n",
    "    \n",
    "    def convert_to_defect_map(self, Nx, Nz, dx, dz):\n",
    "        p_def = np.array([self.x_def, self.z_def])\n",
    "        dmh = defect_map_handling.DefectMapSingleDefect2D(p_def, Nx, Nz, dx, dz)\n",
    "        dmh.generate_defect_map()\n",
    "        self.defmap = dmh.get_defect_map()\n",
    "     \n",
    "    def estimate_defect_position(self, x_track, Nx, Nz, dx, dz):\n",
    "        self.solve_TLS(x_track)\n",
    "        self.convert_to_defect_map(Nx, Nz, dx, dz)"
   ]
  },
  {
   "cell_type": "markdown",
   "metadata": {},
   "source": [
    "### Parameter setting"
   ]
  },
  {
   "cell_type": "code",
   "execution_count": 13,
   "metadata": {},
   "outputs": [],
   "source": [
    "# Parameters\n",
    "Nx = 20 # limited due to the opening angle\n",
    "Nz = 200\n",
    "Nt = Nz\n",
    "c0 = 6300 #[m/S]\n",
    "fS = 80*10**6 #[Hz] \n",
    "fC = 5*10**6 #[Hz] \n",
    "alpha = 20*10**12 #[Hz]**2\n",
    "dx = 0.5*10**-3 #[m]\n",
    "dz = 0.5* c0/(fS)\n",
    "wavelength = 1.26* 10**-3 # [m]\n",
    "# defect position: p_defect\n",
    "p_def_idx = np.array([10, 91])\n",
    "p_def = np.array([p_def_idx[0]*dx, p_def_idx[1]*dz])\n",
    "# defect map: defmap\n",
    "dmh = defect_map_handling.DefectMapSingleDefect2D(p_def, Nx, Nz, dx, dz)\n",
    "dmh.generate_defect_map()\n",
    "defmap_true = dmh.get_defect_map()"
   ]
  },
  {
   "cell_type": "markdown",
   "metadata": {},
   "source": [
    "### ToF calculation"
   ]
  },
  {
   "cell_type": "code",
   "execution_count": 14,
   "metadata": {},
   "outputs": [],
   "source": [
    "p_scan = np.zeros((Nx, 2))\n",
    "p_scan[:, 0] = np.arange(Nx)*dx\n",
    "tofcalc = tof_calculator.ToFforDictionary2D(c0, Nx, Nz, dx, dz, p_scan)\n",
    "tofcalc.calculate_tof(calc_grad = False)\n",
    "tof = tofcalc.get_tof()\n",
    "# grad_tof = tofcalc.get_grad_tof()"
   ]
  },
  {
   "cell_type": "markdown",
   "metadata": {},
   "source": [
    "### Data generation"
   ]
  },
  {
   "cell_type": "code",
   "execution_count": 15,
   "metadata": {},
   "outputs": [],
   "source": [
    "dformer = dictionary_former.DictionaryFormer(Nt, fS, fC, alpha)\n",
    "dformer.generate_dictionary(tof)\n",
    "H = dformer.get_SAFT_matrix()\n",
    "a_true = np.dot(H, defmap_true)\n",
    "A_true = np.reshape(a_true, (Nt, p_scan.shape[0]), 'F')"
   ]
  },
  {
   "cell_type": "markdown",
   "metadata": {},
   "source": [
    "### Position manipulation"
   ]
  },
  {
   "cell_type": "code",
   "execution_count": 16,
   "metadata": {},
   "outputs": [],
   "source": [
    "mu, sigma = 0, 1.0\n",
    "seed = 0\n",
    "# Initialization of np.random\n",
    "np.random.seed(seed)\n",
    "# Tracking error w/ the normal distribution\n",
    "e_track = wavelength* np.random.normal(mu, sigma, p_scan.shape[0])\n",
    "p_track = p_scan + np.array([e_track, 0])"
   ]
  },
  {
   "cell_type": "code",
   "execution_count": 17,
   "metadata": {},
   "outputs": [],
   "source": [
    "x_track = p_track[:, 0]\n",
    "hypfit = HyperbolaFitTLS2D()\n",
    "hypfit.find_peaks(A_true, dz)\n",
    "hypfit.estimate_defect_position(p_scan[:, 0], Nx, Nz, dx, dz)\n",
    "defmap_est = hypfit.get_defect_map()"
   ]
  },
  {
   "cell_type": "code",
   "execution_count": null,
   "metadata": {},
   "outputs": [],
   "source": [
    "np.array([hypfit.x_def, hypfit.z_def])"
   ]
  },
  {
   "cell_type": "code",
   "execution_count": 18,
   "metadata": {},
   "outputs": [],
   "source": [
    "a_track = np.dot(H, defmap_true)\n",
    "A_track = np.reshape(a_true, (Nt, p_scan.shape[0]), 'F')"
   ]
  },
  {
   "cell_type": "code",
   "execution_count": 19,
   "metadata": {},
   "outputs": [
    {
     "data": {
      "text/plain": [
       "<matplotlib.image.AxesImage at 0x10cb8cb70>"
      ]
     },
     "execution_count": 19,
     "metadata": {},
     "output_type": "execute_result"
    },
    {
     "data": {
      "image/png": "[encoded data removed]",
      "text/plain": [
       "<Figure size 432x288 with 1 Axes>"
      ]
     },
     "metadata": {},
     "output_type": "display_data"
    }
   ],
   "source": [
    "plt.imshow(A_track)"
   ]
  },
  {
   "cell_type": "code",
   "execution_count": null,
   "metadata": {},
   "outputs": [],
   "source": []
  }
 ],
 "metadata": {
  "kernelspec": {
   "display_name": "Python 3",
   "language": "python",
   "name": "python3"
  },
  "language_info": {
   "codemirror_mode": {
    "name": "ipython",
    "version": 3
   },
   "file_extension": ".py",
   "mimetype": "text/x-python",
   "name": "python",
   "nbconvert_exporter": "python",
   "pygments_lexer": "ipython3",
   "version": "3.6.7"
  }
 },
 "nbformat": 4,
 "nbformat_minor": 2
}
