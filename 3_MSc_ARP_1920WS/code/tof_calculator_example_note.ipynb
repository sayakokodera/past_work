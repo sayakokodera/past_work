{
 "cells": [
  {
   "cell_type": "code",
   "execution_count": 1,
   "metadata": {},
   "outputs": [],
   "source": [
    "import numpy as np\n",
    "import matplotlib.pyplot as plt"
   ]
  },
  {
   "cell_type": "code",
   "execution_count": 56,
   "metadata": {},
   "outputs": [],
   "source": [
    "class ToFCalculator():\n",
    "    \"\"\" ToF calculator for a single defect and single scan position. \n",
    "    \"\"\"\n",
    "    def __init__(self):\n",
    "        self.c0 = None\n",
    "        self.tof = None\n",
    "        self.grad_tof = None\n",
    "        \n",
    "    def get_angle(self, p_def, p_scan):\n",
    "        origin = p_scan\n",
    "        vec1 = np.array([0.0, 1.0])\n",
    "        vec2 = p_def - origin\n",
    "        # angle b/w two vectors\n",
    "        num = np.dot(vec1, vec2)\n",
    "        den = np.linalg.norm(vec2)\n",
    "        if den == 0:\n",
    "            angle = 0\n",
    "        else:\n",
    "            angle = np.rad2deg(np.arccos(num/den))\n",
    "        return angle\n",
    "        \n",
    "    \n",
    "    def get_tau(self, p_def, p_scan):\n",
    "        return 2*np.linalg.norm(p_def - p_scan)/ self.c0 #[S], unitless\n",
    "    \n",
    "    def get_grad_tau(self, x_def, x_scan, tau):\n",
    "        if tau == 0.0:\n",
    "            return 0.0\n",
    "        else:\n",
    "            return 4* (x_def - x_scan)/ (tau* self.c0**2) # multiply by \"-\"??? -> check!! (19.12.21)\n",
    "    \n",
    "    def get_tof(self):\n",
    "        return self.tof\n",
    "    \n",
    "    def get_grad_tof(self):\n",
    "        return self.grad_tof\n",
    "\n",
    "    \n",
    "class ToFforDictionary2D(ToFCalculator):\n",
    "    \"\"\" ToF calculator for a dictionary formation. \n",
    "    \"\"\"\n",
    "    def __init__(self, c0, Nx, Nz, dx, dz, p_scan_all):\n",
    "        self.c0 = float(c0)\n",
    "        self.Nx = int(Nx)\n",
    "        self.Nz = int(Nz)\n",
    "        self.dx = float(dx)\n",
    "        self.dz = float(dz)\n",
    "        if p_scan_all.ndim == 1:\n",
    "            self.p_scan_all = np.array([p_scan_all]) # otherwise x and z are handled separately\n",
    "        else:\n",
    "            self.p_scan_all = np.array(p_scan_all)\n",
    "        \n",
    "    def calculate_tof(self, calc_grad = False, opening_angle = 180):\n",
    "        \"\"\"\n",
    "        Parameter\n",
    "        ---------\n",
    "        calc_grad: boolean\n",
    "            True, if gradient (derivative) of tau should be calculated\n",
    "        opening_angle: int, float in [deg]\n",
    "            To restrict the region to consider, default value is 180 [deg]\n",
    "            \n",
    "        Test\n",
    "        ----\n",
    "        0.5* tau* c0 = np.linalg.norm(p_def - p_scan)\n",
    "        \"\"\"\n",
    "        # Base of tof and grad_tof\n",
    "        self.tof = np.zeros((self.Nx* self.Nz, self.p_scan_all.shape[0]))\n",
    "        if calc_grad == True:\n",
    "            self.grad_tof = np.array(self.tof)\n",
    "            \n",
    "        for k, p_scan in enumerate(self.p_scan_all):\n",
    "            for x_idx in range(self.Nx):\n",
    "                for z_idx in range(self.Nz):\n",
    "                    l = x_idx* self.Nz + z_idx\n",
    "                    p_def = np.array([x_idx*self.dx, z_idx*self.dz])\n",
    "                    # Constraint: opening angle\n",
    "                    # -> Consider the region only within the opening angle\n",
    "                    angle = self.get_angle(p_def, p_scan)\n",
    "                    if angle <= 0.5* opening_angle:\n",
    "                        tau = self.get_tau(p_def, p_scan)\n",
    "                    else:\n",
    "                        tau = 0\n",
    "                    self.tof[l, k] = tau\n",
    "                    if calc_grad == True:\n",
    "                        self.grad_tof[l, k] = self.get_grad_tau(p_def[0], p_scan[0], tau)"
   ]
  },
  {
   "cell_type": "code",
   "execution_count": 48,
   "metadata": {},
   "outputs": [],
   "source": [
    "Nx = 10 # limited due to the opening angle\n",
    "Nz = 200\n",
    "Nt = Nz\n",
    "c0 = 6300 #[m/S]\n",
    "fS = 80*10**6 #[Hz] \n",
    "fC = 5*10**6 #[Hz] \n",
    "alpha = 20*10**12 #[Hz]**2\n",
    "dx = 0.5*10**-3 #[m]\n",
    "dz = 0.5* c0/(fS)\n",
    "wavelength = 1.26* 10**-3 # [m]\n",
    "# defect position: p_defect\n",
    "p_def_idx = np.array([10, 91])\n",
    "p_def = np.array([p_def_idx[0]*dx, p_def_idx[1]*dz])"
   ]
  },
  {
   "cell_type": "code",
   "execution_count": 29,
   "metadata": {},
   "outputs": [
    {
     "name": "stdout",
     "output_type": "stream",
     "text": [
      "12.537914135413951\n",
      "[0. 0.]\n"
     ]
    }
   ],
   "source": [
    "# Reflecting the OA to the rof calculator\n",
    "p_scan = np.array([[0*dx, 0*dz], [5*dx, 0*dz]])\n",
    "origin = p_scan[0]\n",
    "vec1 = np.array([0.0, 1.0])\n",
    "vec2 = p_def - origin\n",
    "# angle b/w two vectors\n",
    "num = np.dot(vec1, vec2)\n",
    "den = np.linalg.norm(vec2)\n",
    "angle = np.rad2deg(np.arccos(num/den))\n",
    "print(angle)\n",
    "print(origin)"
   ]
  },
  {
   "cell_type": "code",
   "execution_count": 57,
   "metadata": {},
   "outputs": [],
   "source": [
    "tofcalc = ToFforDictionary2D(c0, Nx, Nz, dx, dz, np.array([[4*dx, 0*dz], [3*dx, 0*dz]]))\n",
    "tofcalc.calculate_tof(calc_grad = True)\n",
    "tof = tofcalc.get_tof()\n",
    "grad_tof = tofcalc.get_grad_tof()"
   ]
  },
  {
   "cell_type": "code",
   "execution_count": 58,
   "metadata": {},
   "outputs": [
    {
     "data": {
      "text/plain": [
       "array([6.34920635e-07, 4.76190476e-07])"
      ]
     },
     "execution_count": 58,
     "metadata": {},
     "output_type": "execute_result"
    }
   ],
   "source": [
    "tof[0]"
   ]
  },
  {
   "cell_type": "code",
   "execution_count": 59,
   "metadata": {},
   "outputs": [],
   "source": [
    "opening_angle = 25 #[degree]\n",
    "tofcalc = ToFforDictionary2D(c0, Nx, Nz, dx, dz, np.array([[4*dx, 0*dz], [3*dx, 0*dz]]))\n",
    "tofcalc.calculate_tof(calc_grad = True, opening_angle = 25)\n",
    "tof = tofcalc.get_tof()\n",
    "grad_tof = tofcalc.get_grad_tof()"
   ]
  },
  {
   "cell_type": "code",
   "execution_count": 60,
   "metadata": {},
   "outputs": [
    {
     "data": {
      "text/plain": [
       "array([0., 0.])"
      ]
     },
     "execution_count": 60,
     "metadata": {},
     "output_type": "execute_result"
    }
   ],
   "source": [
    "tof[0]"
   ]
  }
 ],
 "metadata": {
  "kernelspec": {
   "display_name": "Python 3",
   "language": "python",
   "name": "python3"
  },
  "language_info": {
   "codemirror_mode": {
    "name": "ipython",
    "version": 3
   },
   "file_extension": ".py",
   "mimetype": "text/x-python",
   "name": "python",
   "nbconvert_exporter": "python",
   "pygments_lexer": "ipython3",
   "version": "3.6.7"
  }
 },
 "nbformat": 4,
 "nbformat_minor": 2
}
