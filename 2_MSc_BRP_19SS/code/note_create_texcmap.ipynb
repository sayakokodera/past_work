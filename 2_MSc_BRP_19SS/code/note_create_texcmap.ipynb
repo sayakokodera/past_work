{
 "cells": [
  {
   "cell_type": "code",
   "execution_count": 1,
   "metadata": {},
   "outputs": [],
   "source": [
    "import numpy as np\n",
    "\n",
    "import tools.tex_2D_visualization as pgf2d"
   ]
  },
  {
   "cell_type": "code",
   "execution_count": 2,
   "metadata": {},
   "outputs": [],
   "source": [
    "# labels and co\n",
    "x_label = 'x'\n",
    "y_label = 'y'\n",
    "label_size = 'LARGE'\n",
    "tick_size = 'LARGE'\n",
    "colors = ['TUI_blue_dark', 'TUI_blue_light', 'TUI_white', 'TUI_orange_light', 'TUI_orange_dark']\n",
    "boundaries = np.array([0.00, 0.43, 0.50, 0.57, 1.00])\n",
    "jsonFile = 'tools/TUI_FRI_colors.json'"
   ]
  },
  {
   "cell_type": "code",
   "execution_count": 3,
   "metadata": {},
   "outputs": [
    {
     "data": {
      "text/plain": [
       "'{mymap}{rgb(0.0pt) = (0, 0.22, 0.39) ; rgb(0.43pt) = (0.91, 0.93, 0.96) ; rgb(0.5pt) = (0.97, 0.97, 0.98) ; rgb(0.57pt) = (0.99, 0.93, 0.87) ; rgb(1.0pt) = (0.94, 0.49, 0) ; }'"
      ]
     },
     "execution_count": 3,
     "metadata": {},
     "output_type": "execute_result"
    }
   ],
   "source": [
    "# Get texcmap\n",
    "pgf2d.TeXcmap(colors, boundaries, jsonFile)"
   ]
  },
  {
   "cell_type": "code",
   "execution_count": null,
   "metadata": {},
   "outputs": [],
   "source": []
  }
 ],
 "metadata": {
  "kernelspec": {
   "display_name": "Python 3",
   "language": "python",
   "name": "python3"
  },
  "language_info": {
   "codemirror_mode": {
    "name": "ipython",
    "version": 3
   },
   "file_extension": ".py",
   "mimetype": "text/x-python",
   "name": "python",
   "nbconvert_exporter": "python",
   "pygments_lexer": "ipython3",
   "version": "3.6.7"
  }
 },
 "nbformat": 4,
 "nbformat_minor": 2
}
