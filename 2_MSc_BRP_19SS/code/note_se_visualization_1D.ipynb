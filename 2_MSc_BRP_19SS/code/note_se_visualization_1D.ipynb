{
 "cells": [
  {
   "cell_type": "code",
   "execution_count": 1,
   "metadata": {},
   "outputs": [],
   "source": [
    "import numpy as np\n",
    "import matplotlib.pyplot as plt\n",
    "\n",
    "import tools.tex_1D_visualization as vis"
   ]
  },
  {
   "cell_type": "code",
   "execution_count": 2,
   "metadata": {},
   "outputs": [],
   "source": [
    "#TeX settings\n",
    "fname_json = 'tools/TUI_FRI_colors.json'\n",
    "xlabel = '$\\ppdelta$ / $\\lambda$'\n",
    "ylabel = '$\\norm{ \\ascanvec (\\pp) -  \\ascanvechat (\\pphat) }_{2}$'\n",
    "x_y_reverse = False\n",
    "\n",
    "# fname setting for loading data\n",
    "fnpy_path = 'npy_data/mse'\n",
    "#ftex_path = '/Users/sayakokodera/Uni/Master/RP/19SS/Slides/figures/pytikz/1D/coordinates'\n",
    "ftex_path = '/Users/sayakokodera/Uni/Master/RP/19SS/Paper/figures/pytikz/1D/coordinates'"
   ]
  },
  {
   "cell_type": "code",
   "execution_count": 13,
   "metadata": {},
   "outputs": [
    {
     "name": "stdout",
     "output_type": "stream",
     "text": [
      "0\n",
      "1\n",
      "2\n"
     ]
    }
   ],
   "source": [
    "# Generate tex files\n",
    "r\"\"\"\n",
    "(1) Iterate over fnames\n",
    "(2) Set all fnames (fnpy_offset, fnpy_approx, ftex_offset, ftex_approx)\n",
    "(3) Load data\n",
    "(4) Set x values\n",
    "(5) Call vis.generate_coordinates(x_values_input, file_name, x_y_reverse, *args)\n",
    "\n",
    "fnpy:\n",
    "0mm_away = 20190806_15h01m01s\n",
    "halflambda_away = 20190731_21h03m52s\n",
    "1mm_away = 20190731_21h09m13s\n",
    "2.5mm_away = 20190806_15h04m56s\n",
    "5mm_away = 20190805_16h43m24s\n",
    "\"\"\"\n",
    "# fanems: for 0mm away, half lambda away, 1mm away, 2.5mm away, 5mm away\n",
    "fnpy_list = ['20190806_15h01m01s', '20190806_15h04m56s', '20190805_16h43m24s']\n",
    "#['20190731_21h03m52s', '20190731_21h09m13s', '20190731_21h15m53s'] #['20190805_16h43m24s'] \n",
    "ftex_list = ['0mm_away', '2_5mm_away', '5mm_away']\n",
    "# TeX setting\n",
    "colors = ['fri_gray_dark', 'tui_red', 'fri_green'] # blue = offset, orange = approx\n",
    "mark = ['']\n",
    "linestyles = ['line width = 1pt']\n",
    "\n",
    "for idx in range(len(fnpy_list)):\n",
    "    # Current fnpy & ftex\n",
    "    curr_fnpy = fnpy_list[idx]\n",
    "    curr_ftex = ftex_list[idx]\n",
    "    # (2) \n",
    "    fnpy_offset = '{}/SE_offset_{}.npy'.format(fnpy_path, curr_fnpy)\n",
    "    #fnpy_approx = '{}/SE_approx_x_{}.npy'.format(fnpy_path, curr_fnpy)\n",
    "    ftex_offset = '{}/se_offset/se_offset_{}.tex'.format(ftex_path, curr_ftex)\n",
    "    #ftex_approx = '{}/se_approx_{}.tex'.format(ftex_path, curr_ftex)\n",
    "\n",
    "    # (3)\n",
    "    se_offset = np.load(fnpy_offset)\n",
    "    #se_approx = np.load(fnpy_approx)\n",
    "    \n",
    "    # (4)\n",
    "    x_value = se_offset[:, 0] # normalized w/ lambda! \n",
    "    \n",
    "    # (5)\n",
    "    # offset\n",
    "    vis.generate_coordinates_for_addplot(x_value, ftex_offset, x_y_reverse, [colors[idx]], [linestyles[0]], \n",
    "                                         se_offset[:, 1])\n",
    "    # approx\n",
    "    #vis.generate_coordinates_for_addplot(x_value, ftex_approx, x_y_reverse, [colors[1]],[linestyles[1]], \n",
    "    #                                     se_approx[:, 1])\n",
    "    "
   ]
  },
  {
   "cell_type": "code",
   "execution_count": 5,
   "metadata": {},
   "outputs": [],
   "source": [
    "# Generate TeX files for GD and PosErr\n",
    "r\"\"\"\n",
    "(1) Load data\n",
    "(2) Concatenare data into one matrix, shape data int othe correct shape\n",
    "(3) x_value setting\n",
    "(4) TeX setup\n",
    "(5) Iterate over data.shape[1]\n",
    "(6) name seting for tex file \n",
    "(7) Export data into tex file\n",
    "\"\"\"\n",
    "# npy data access\n",
    "#data_date = '20190805_13h05m44s' # err_max = 2* wavelength\n",
    "#str_errmax = \"errmax_2lambda\"\n",
    "data_date = '20190805_14h12m05s' # err_max = 5* wavelength\n",
    "str_errmax = \"errmax_5lambda\"\n",
    "\n",
    "# (1)\n",
    "# 7.5mm away, 5mm away, 2,5mm away, 1mm away, halflambda away\n",
    "gd_se_rawdata = np.load('{}/GD_SE_{}.npy'.format(fnpy_path, data_date))\n",
    "gd_pe_rawdata = np.load('{}/GD_PosErr_{}.npy'.format(fnpy_path, data_date))\n",
    "\n",
    "# (2) \n",
    "# Remove the first row(= x_values)\n",
    "gd_se = np.array(gd_se_rawdata)\n",
    "gd_se = np.delete(gd_se, 0, axis = 1)\n",
    "gd_pe = np.array(gd_pe_rawdata)\n",
    "gd_pe = np.delete(gd_pe, 0, axis = 1)\n",
    "# Reverse the column order (so that the 1st column = half lambda away)\n",
    "gd_se = np.flip(gd_se, axis = 1)\n",
    "gd_pe = np.flip(gd_pe, axis = 1)\n",
    "\n",
    "# (3)\n",
    "x_value = gd_se_rawdata[:, 0]\n",
    "\n",
    "# (4)\n",
    "# Set up the list for ftex\n",
    "ftex_list = ['halflambda_away', '1mm_away', '2_5mm_away', '5mm_away', '7_5mm_away']\n",
    "# Other TeX setup\n",
    "colors = ['tui_blue', 'tui_orange', 'tui_red', 'fri_green', 'fri_gray_dark']\n",
    "# for slides\n",
    "linestyles = ['line width = 2pt', 'line width = 2pt', 'line width = 2pt', 'line width = 2pt', \n",
    "              'line width = 2pt, dashed']\n",
    "# for paper\n",
    "linestyles = ['line width = 1pt', 'line width = 1pt', 'line width = 1pt', 'line width = 1pt', \n",
    "              'line width = 1pt, dashed']\n",
    "\n",
    "\n",
    "# (5)\n",
    "for idx in range(len(ftex_list)):\n",
    "    # (6)\n",
    "    ftex_gd_se = '{}/{}/gd_se_{}.tex'.format(ftex_path, str_errmax, ftex_list[idx])\n",
    "    ftex_gd_pe = '{}/{}/gd_pe_{}.tex'.format(ftex_path, str_errmax, ftex_list[idx])\n",
    "    \n",
    "    # (7)\n",
    "    # gd_se\n",
    "    vis.generate_coordinates_for_addplot(x_value, ftex_gd_se, x_y_reverse, [colors[idx]], [linestyles[idx]], \n",
    "                                         gd_se[:, idx])\n",
    "    # gd_pe\n",
    "    vis.generate_coordinates_for_addplot(x_value, ftex_gd_pe, x_y_reverse, [colors[idx]], [linestyles[idx]], \n",
    "                                         gd_pe[:, idx])"
   ]
  },
  {
   "cell_type": "code",
   "execution_count": 4,
   "metadata": {},
   "outputs": [
    {
     "data": {
      "text/plain": [
       "(101, 5)"
      ]
     },
     "execution_count": 4,
     "metadata": {},
     "output_type": "execute_result"
    }
   ],
   "source": [
    "# Concatenation of different data\n",
    "se_gd = np.array([se_gd_20190731_20h08m04s[:, 1]])\n",
    "pe_gd = np.array([pe_gd_20190731_20h08m04s[:, 1]])\n",
    "for idx in range(se_gd_20190612_20h39m29s.shape[1] - 1):\n",
    "    col_idx = se_gd_20190612_20h39m29s.shape[1] - 1 - idx # reverse the order\n",
    "    # SE\n",
    "    curr_se = np.array([se_gd_20190612_20h39m29s[:, col_idx]])\n",
    "    se_gd = np.append(se_gd, curr_se, axis = 0)\n",
    "    # PosErr\n",
    "    curr_pe = np.array([pe_gd_20190612_20h39m29s[:, col_idx]])\n",
    "    pe_gd = np.append(pe_gd, curr_pe, axis = 0)  \n",
    "# Transpose se_gd and pe_gd\n",
    "se_gd = se_gd.T\n",
    "pe_gd = pe_gd.T"
   ]
  },
  {
   "cell_type": "code",
   "execution_count": 3,
   "metadata": {},
   "outputs": [],
   "source": [
    "# fname for txt data\n",
    "ftxt = 'txtdata/meas_signals.txt'\n",
    "data = np.loadtxt(ftxt)"
   ]
  },
  {
   "cell_type": "code",
   "execution_count": 5,
   "metadata": {},
   "outputs": [
    {
     "data": {
      "text/plain": [
       "(101, 11)"
      ]
     },
     "execution_count": 5,
     "metadata": {},
     "output_type": "execute_result"
    }
   ],
   "source": [
    "data.shape"
   ]
  },
  {
   "cell_type": "code",
   "execution_count": 11,
   "metadata": {},
   "outputs": [
    {
     "data": {
      "text/plain": [
       "[<matplotlib.lines.Line2D at 0x11bca9240>]"
      ]
     },
     "execution_count": 11,
     "metadata": {},
     "output_type": "execute_result"
    },
    {
     "data": {
      "image/png": "[encoded data removed]",
      "text/plain": [
       "<Figure size 432x288 with 1 Axes>"
      ]
     },
     "metadata": {},
     "output_type": "display_data"
    }
   ],
   "source": [
    "pulse0 = data[:, 1]\n",
    "pulse0 = pulse0 + 1\n",
    "plt.plot(pulse0)"
   ]
  },
  {
   "cell_type": "code",
   "execution_count": 23,
   "metadata": {},
   "outputs": [],
   "source": [
    "# convert the data into tex coordinate files\n",
    "# Set up the fnames\n",
    "ftexpath = '/Users/sayakokodera/Uni/Master/RP/19SS/Slides/figures/pytikz/1D/coordinates/pulse'\n",
    "# TeX setup\n",
    "colors = ['tui_blue', 'fri_green', 'tui_red', 'tui_orange', 'fri_gray_dark']\n",
    "# for slides\n",
    "linestyles = ['line width = 2pt']\n",
    "# reverse\n",
    "x_y_reverse = True\n",
    "# x_value\n",
    "x_value = data[:, 0]\n",
    "# pulse columns\n",
    "pulse_col = [0, 1, 2, 3, 4, 6, 7, 8, 9]\n",
    "\n",
    "# for the 1-4 columns in data\n",
    "for idx in range(4):\n",
    "    # Select the proper index\n",
    "    left_idx = idx + 1\n",
    "    right_idx_tex = 9 - idx\n",
    "    right_idx_data = 10 - idx\n",
    "    # Choose the proper pulse\n",
    "    pulse_left = data[:, left_idx] + (left_idx)\n",
    "    pulse_right = data[:, right_idx_data] + right_idx_tex\n",
    "    # Set up ftex\n",
    "    ftex_left = '{}/pulse_{}_blue.tex'.format(ftexpath, left_idx)\n",
    "    ftex_right = '{}/pulse_{}_blue.tex'.format(ftexpath, right_idx_tex)\n",
    "    # convert the pulse into tex: left\n",
    "    vis.generate_coordinates_for_addplot(x_value, ftex_left, x_y_reverse, [colors[0]], [linestyles[0]], \n",
    "                                         pulse_left)\n",
    "    # convert the pulse into tex: right\n",
    "    vis.generate_coordinates_for_addplot(x_value, ftex_right, x_y_reverse, [colors[0]], [linestyles[0]], \n",
    "                                         pulse_right)\n",
    "    \n",
    "# for the 5th column in data\n",
    "pulse = data[:, 5] + 5\n",
    "ftex5 = '{}/pulse_{}_blue.tex'.format(ftexpath, 5)\n",
    "vis.generate_coordinates_for_addplot(x_value, ftex5, x_y_reverse, [colors[0]], [linestyles[0]], \n",
    "                                         pulse)\n",
    "# for highlighting \n",
    "highlight_cols = [0, 2, 3]\n",
    "for idx, col in enumerate(highlight_cols):\n",
    "    pulse = data[:, col+1] + (col+1)\n",
    "    # Set up ftex\n",
    "    ftex = '{}/pulse_{}_highlight.tex'.format(ftexpath, col+1)\n",
    "    # convert the pulse into tex\n",
    "    vis.generate_coordinates_for_addplot(x_value, ftex, x_y_reverse, [colors[idx + 1]], [linestyles[0]], \n",
    "                                         pulse)"
   ]
  },
  {
   "cell_type": "code",
   "execution_count": null,
   "metadata": {},
   "outputs": [],
   "source": []
  }
 ],
 "metadata": {
  "kernelspec": {
   "display_name": "Python 3",
   "language": "python",
   "name": "python3"
  },
  "language_info": {
   "codemirror_mode": {
    "name": "ipython",
    "version": 3
   },
   "file_extension": ".py",
   "mimetype": "text/x-python",
   "name": "python",
   "nbconvert_exporter": "python",
   "pygments_lexer": "ipython3",
   "version": "3.6.7"
  }
 },
 "nbformat": 4,
 "nbformat_minor": 2
}
