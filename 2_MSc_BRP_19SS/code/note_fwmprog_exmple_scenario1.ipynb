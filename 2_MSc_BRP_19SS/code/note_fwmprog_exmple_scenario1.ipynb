{
 "cells": [
  {
   "cell_type": "markdown",
   "metadata": {},
   "source": [
    "# Example Scenario for Progressive FWM"
   ]
  },
  {
   "cell_type": "code",
   "execution_count": 2,
   "metadata": {
    "collapsed": false
   },
   "outputs": [],
   "source": [
    "import numpy as np\n",
    "import matplotlib.pyplot as plt"
   ]
  },
  {
   "cell_type": "code",
   "execution_count": 5,
   "metadata": {
    "collapsed": false
   },
   "outputs": [
    {
     "ename": "AttributeError",
     "evalue": "'module' object has no attribute 'flip'",
     "output_type": "error",
     "traceback": [
      "\u001b[1;31m---------------------------------------------------------------------------\u001b[0m",
      "\u001b[1;31mAttributeError\u001b[0m                            Traceback (most recent call last)",
      "\u001b[1;32m<ipython-input-5-bef0388df0f8>\u001b[0m in \u001b[0;36m<module>\u001b[1;34m()\u001b[0m\n\u001b[0;32m     17\u001b[0m \u001b[0mpagrad_neg\u001b[0m \u001b[1;33m=\u001b[0m \u001b[0mnp\u001b[0m\u001b[1;33m.\u001b[0m\u001b[0mload\u001b[0m\u001b[1;33m(\u001b[0m\u001b[1;34m'npy_data/mse/{}.npy'\u001b[0m\u001b[1;33m.\u001b[0m\u001b[0mformat\u001b[0m\u001b[1;33m(\u001b[0m\u001b[0mfpagrad_neg\u001b[0m\u001b[1;33m)\u001b[0m\u001b[1;33m)\u001b[0m\u001b[1;33m\u001b[0m\u001b[0m\n\u001b[0;32m     18\u001b[0m \u001b[1;31m# Flip the array w.r.t. error\u001b[0m\u001b[1;33m\u001b[0m\u001b[1;33m\u001b[0m\u001b[0m\n\u001b[1;32m---> 19\u001b[1;33m \u001b[0mpo_neg\u001b[0m \u001b[1;33m=\u001b[0m \u001b[0mnp\u001b[0m\u001b[1;33m.\u001b[0m\u001b[0mflip\u001b[0m\u001b[1;33m(\u001b[0m\u001b[0mpo_neg\u001b[0m\u001b[1;33m,\u001b[0m \u001b[1;36m0\u001b[0m\u001b[1;33m)\u001b[0m\u001b[1;33m\u001b[0m\u001b[0m\n\u001b[0m\u001b[0;32m     20\u001b[0m \u001b[0mpa_neg\u001b[0m \u001b[1;33m=\u001b[0m \u001b[0mnp\u001b[0m\u001b[1;33m.\u001b[0m\u001b[0mflip\u001b[0m\u001b[1;33m(\u001b[0m\u001b[0mpa_neg\u001b[0m\u001b[1;33m,\u001b[0m \u001b[1;36m0\u001b[0m\u001b[1;33m)\u001b[0m\u001b[1;33m\u001b[0m\u001b[0m\n\u001b[0;32m     21\u001b[0m \u001b[0mpagrad_neg\u001b[0m \u001b[1;33m=\u001b[0m \u001b[0mnp\u001b[0m\u001b[1;33m.\u001b[0m\u001b[0mflip\u001b[0m\u001b[1;33m(\u001b[0m\u001b[0mpagrad_neg\u001b[0m\u001b[1;33m,\u001b[0m \u001b[1;36m0\u001b[0m\u001b[1;33m)\u001b[0m\u001b[1;33m\u001b[0m\u001b[0m\n",
      "\u001b[1;31mAttributeError\u001b[0m: 'module' object has no attribute 'flip'"
     ]
    }
   ],
   "source": [
    "#### MSE ###\n",
    "fpo_pos = 'mse2D_PropOffsetPos_20190510_22h15m44s'\n",
    "fpa_pos = 'mse2D_PropApproxPos_20190513_19h17m21s'\n",
    "fpagrad_pos = 'mse2D_PropApproxPos_20190510_22h15m44s'\n",
    "fpo_neg = 'mse2D_PropOffsetNeg_20190511_09h04m54s'\n",
    "fpa_neg = 'mse2D_PropApproxNeg_20190513_19h11m47s'\n",
    "fpagrad_neg = 'mse2D_PropApproxNeg_20190511_09h04m54s'\n",
    "\n",
    "### load data\n",
    "## Positive error\n",
    "po_pos = np.load('npy_data/mse/{}.npy'.format(fpo_pos))\n",
    "pa_pos = np.load('npy_data/mse/{}.npy'.format(fpa_pos))\n",
    "pagrad_pos = np.load('npy_data/mse/{}.npy'.format(fpagrad_pos))\n",
    "## Negative error\n",
    "po_neg = np.load('npy_data/mse/{}.npy'.format(fpo_neg))\n",
    "pa_neg = np.load('npy_data/mse/{}.npy'.format(fpa_neg))\n",
    "pagrad_neg = np.load('npy_data/mse/{}.npy'.format(fpagrad_neg))\n",
    "# Flip the array w.r.t. error\n",
    "po_neg = np.flip(po_neg, 0)\n",
    "pa_neg = np.flip(pa_neg, 0)\n",
    "pagrad_neg = np.flip(pagrad_neg, 0)\n",
    "# Remove the ErrFree part\n",
    "po_neg = np.delete(po_neg, -1, 0)\n",
    "pa_neg = np.delete(pa_neg, -1, 0)\n",
    "pagrad_neg = np.delete(pagrad_neg, -1, 0)\n",
    "\n",
    "### Combine positive and negative error\n",
    "mse_po = np.concatenate((po_neg, po_pos), axis = 0)\n",
    "mse_pa = np.concatenate((pa_neg, pa_pos), axis = 0)\n",
    "mse_pagrad = np.concatenate((pagrad_neg, pagrad_pos), axis = 0)"
   ]
  },
  {
   "cell_type": "code",
   "execution_count": 12,
   "metadata": {
    "collapsed": false
   },
   "outputs": [
    {
     "data": {
      "text/plain": [
       "(array([34, 35, 68, 69, 70, 71]),)"
      ]
     },
     "execution_count": 12,
     "metadata": {},
     "output_type": "execute_result"
    }
   ],
   "source": [
    "np.where(np.logical_and(mse_po[:, 1] >= 0.71, mse_po[:, 1] < 0.72))"
   ]
  },
  {
   "cell_type": "code",
   "execution_count": 14,
   "metadata": {
    "collapsed": false
   },
   "outputs": [
    {
     "data": {
      "text/plain": [
       "[-1.26, -1.2000000000000002, 0.4, 0.45, 0.5, 0.6000000000000001]"
      ]
     },
     "execution_count": 14,
     "metadata": {},
     "output_type": "execute_result"
    }
   ],
   "source": [
    "# All possible error combinations\n",
    "errors = [mse_po[i, 0] for i in [34, 35, 68, 69, 70, 71]]\n",
    "errors # in [mm]"
   ]
  },
  {
   "cell_type": "code",
   "execution_count": 15,
   "metadata": {
    "collapsed": false
   },
   "outputs": [
    {
     "data": {
      "text/plain": [
       "array([-1.26, -1.2 ,  0.4 ,  0.45,  0.5 ,  0.6 ])"
      ]
     },
     "execution_count": 15,
     "metadata": {},
     "output_type": "execute_result"
    }
   ],
   "source": [
    "np.around(errors, 2)"
   ]
  },
  {
   "cell_type": "code",
   "execution_count": null,
   "metadata": {
    "collapsed": true
   },
   "outputs": [],
   "source": [
    "r\"\"\"\n",
    "#============= Simulation Scenario =============#\n",
    "(1) An A-Scan a_true taken at the scan position p_true\n",
    "(2) The tracked position p_track is -1.22mm away from the true scan position p_true\n",
    "(3) Calculate a_track = np.dot(H(p_track), defect_vec)\n",
    "(4) Calculate se_track = the squared error of a_true and a_track = 0.71...\n",
    "(5) Lookup the pre-calculated MSE table to find all possible error delta_p(= np.array)\n",
    "(6) Assume p_opt = p_track - delta_p[0]\n",
    "(7) Calculate a_opt using\n",
    "        H(p_opt)\n",
    "        dH(p_opt)/dp_opt\n",
    "        delta_p\n",
    "(8) Calculate se_opt = the squared error of a_true and a_opt\n",
    "(9) Compare se_opt and se_approx[delta_p[0]] which is pre-calculated\n",
    "-> Question: how big the difference b/w these two ses?\n",
    "\"\"\""
   ]
  }
 ],
 "metadata": {
  "kernelspec": {
   "display_name": "Python 2",
   "language": "python",
   "name": "python2"
  },
  "language_info": {
   "codemirror_mode": {
    "name": "ipython",
    "version": 2
   },
   "file_extension": ".py",
   "mimetype": "text/x-python",
   "name": "python",
   "nbconvert_exporter": "python",
   "pygments_lexer": "ipython2",
   "version": "2.7.10"
  }
 },
 "nbformat": 4,
 "nbformat_minor": 2
}
