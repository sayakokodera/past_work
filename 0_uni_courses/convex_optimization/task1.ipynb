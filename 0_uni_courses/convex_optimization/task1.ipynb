{
 "cells": [
  {
   "cell_type": "code",
   "execution_count": 72,
   "metadata": {},
   "outputs": [],
   "source": [
    "import numpy as np\n",
    "import matplotlib.pyplot as plt"
   ]
  },
  {
   "cell_type": "code",
   "execution_count": 122,
   "metadata": {},
   "outputs": [],
   "source": [
    "def calculate_power(mu, sigma, alpha):\n",
    "    r\"\"\"\n",
    "    Parameters:\n",
    "    -----------\n",
    "        mu : int, float\n",
    "            Water-level for power allocation (i.e. Lagrange multiplier coefficient)\n",
    "        sigma: int, float\n",
    "            Noise power\n",
    "        alpha: np.ndarray with the same size as the number of channel\n",
    "            Channel gain \n",
    "    Return\n",
    "    ------\n",
    "        p: np.ndarray with the size of alpha.shape\n",
    "            Allocated power for each channel\n",
    "    \"\"\"\n",
    "    p = 1/mu - sigma/alpha\n",
    "    # Constraint: p_i >= 0\n",
    "    for idx, element in enumerate(p):\n",
    "        if element < 0:\n",
    "            p[idx] = 0\n",
    "    return p\n",
    "\n",
    "\n",
    "# Functions for bisection method\n",
    "def bisection_method(fx, xmin_init, xmax_init, target):\n",
    "    r\"\"\" Finding the closest solution, xopt, for the function f(x) = 0 by reducing the range between xmin and xmax \n",
    "    which corresponds to f(xmin) <= 0 and f(xmax) >= 0\n",
    "    Parameters\n",
    "    ----------\n",
    "        fx: function\n",
    "        xmin_init: int, float\n",
    "            Initial guess for xmin, make sure f(xmin) <= 0\n",
    "        xmax_init: int, float\n",
    "            Initial guess for xmax, make sure f(xmax) >= 0\n",
    "        target: float\n",
    "            Operation breaks, when abs(f(xopt)) <= target\n",
    "    Return\n",
    "    ------\n",
    "        xopt: float\n",
    "            Closest solution for f(x) = 0\n",
    "    \"\"\"\n",
    "    xmin = xmin_init\n",
    "    xmax = xmax_init\n",
    "    print('Initial xmin = {}, xmax = {}'.format(xmin, xmax))\n",
    "    if fx(xmin)*fx(xmax) > 0:\n",
    "        raise AttributeError('Error in fx(xmin)*fx(xmax) > 0')\n",
    "        \n",
    "    # Initial error\n",
    "    error = target + 1\n",
    "    while np.abs(error) > target:\n",
    "        xopt = (xmin + xmax)/2 # Calculate the middle point of xmax and xmin\n",
    "        error = fx(xopt)\n",
    "        print('Error = {}'.format(error))\n",
    "        if np.abs(error) > target:\n",
    "            # Swapping the either extreme with xopt to reduce the range\n",
    "            if fx(xmin)* fx(xopt) > 0: \n",
    "                xmin = xopt\n",
    "            else: \n",
    "                xmax = xopt\n",
    "            print('Optimized xmin = {}, xmax = {}'.format(xmin, xmax))\n",
    "        else:\n",
    "            print('#======= Target reached!=======#')\n",
    "            break\n",
    "    return xopt\n",
    "    "
   ]
  },
  {
   "cell_type": "code",
   "execution_count": 108,
   "metadata": {},
   "outputs": [],
   "source": [
    "sigma = 1 # noise power\n",
    "alpha = np.array([4, 3, 2, 1]) # Channel gains for four channels\n",
    "pmax_all = np.array([0.1, 5]) # Total avialble power\n",
    "target = 10**(-3)"
   ]
  },
  {
   "cell_type": "code",
   "execution_count": 114,
   "metadata": {},
   "outputs": [
    {
     "name": "stdout",
     "output_type": "stream",
     "text": [
      "Initial xmin = 0.001, xmax = 100\n",
      "Error = -0.1\n",
      "Optimized xmin = 0.001, xmax = 50.0005\n",
      "Error = -0.1\n",
      "Optimized xmin = 0.001, xmax = 25.00075\n",
      "Error = -0.1\n",
      "Optimized xmin = 0.001, xmax = 12.500875\n",
      "Error = -0.1\n",
      "Optimized xmin = 0.001, xmax = 6.2509375\n",
      "Error = -0.030099169257530173\n",
      "Optimized xmin = 0.001, xmax = 3.12596875\n",
      "Error = 0.7354578282348788\n",
      "Optimized xmin = 1.563484375, xmax = 3.12596875\n",
      "Error = 0.16964459253088995\n",
      "Optimized xmin = 2.3447265625, xmax = 3.12596875\n",
      "Error = 0.047835151020089534\n",
      "Optimized xmin = 2.73534765625, xmax = 3.12596875\n",
      "Error = -0.0008927819693519135\n",
      "#======= Target reached!=======#\n",
      "Initial xmin = 0.001, xmax = 100\n",
      "Error = -5.0\n",
      "Optimized xmin = 0.001, xmax = 50.0005\n",
      "Error = -5.0\n",
      "Optimized xmin = 0.001, xmax = 25.00075\n",
      "Error = -5.0\n",
      "Optimized xmin = 0.001, xmax = 12.500875\n",
      "Error = -5.0\n",
      "Optimized xmin = 0.001, xmax = 6.2509375\n",
      "Error = -4.93009916925753\n",
      "Optimized xmin = 0.001, xmax = 3.12596875\n",
      "Error = -4.164542171765121\n",
      "Optimized xmin = 0.001, xmax = 1.563484375\n",
      "Error = -1.969827485759751\n",
      "Optimized xmin = 0.001, xmax = 0.7822421875\n",
      "Error = 3.130621082905259\n",
      "Optimized xmin = 0.39162109375, xmax = 0.7822421875\n",
      "Error = -0.26822962595684974\n",
      "Optimized xmin = 0.39162109375, xmax = 0.586931640625\n",
      "Error = 1.0920053264779703\n",
      "Optimized xmin = 0.4892763671875, xmax = 0.586931640625\n",
      "Error = 0.3501738901083469\n",
      "Optimized xmin = 0.53810400390625, xmax = 0.586931640625\n",
      "Error = 0.02755247627426094\n",
      "Optimized xmin = 0.5625178222656251, xmax = 0.586931640625\n",
      "Error = -0.12347971794978108\n",
      "Optimized xmin = 0.5625178222656251, xmax = 0.5747247314453126\n",
      "Error = -0.04877419386463444\n",
      "Optimized xmin = 0.5625178222656251, xmax = 0.5686212768554688\n",
      "Error = -0.01081678234850969\n",
      "Optimized xmin = 0.5625178222656251, xmax = 0.565569549560547\n",
      "Error = 0.008315948272779927\n",
      "Optimized xmin = 0.564043685913086, xmax = 0.565569549560547\n",
      "Error = -0.0012633391324436971\n",
      "Optimized xmin = 0.564043685913086, xmax = 0.5648066177368165\n",
      "Error = 0.0035230674964896735\n",
      "Optimized xmin = 0.5644251518249512, xmax = 0.5648066177368165\n",
      "Error = 0.0011290557337400031\n",
      "Optimized xmin = 0.5646158847808839, xmax = 0.5648066177368165\n",
      "Error = -6.734370902528042e-05\n",
      "#======= Target reached!=======#\n"
     ]
    }
   ],
   "source": [
    "# Calculate the water-level for different total power  \n",
    "mu_all = np.zeros(pmax_all.shape[0])\n",
    "p_all = np.zeros((alpha_all.shape[0], pmax_all.shape[0]))\n",
    "for idx, pmax in enumerate(pmax_all):\n",
    "    # Initial setting\n",
    "    mu_max = 100\n",
    "    mu_min = 10**(-3)\n",
    "    # Continuous funcion, we want to solve: p1 + p2 + p3 + p4 - pmax = 0\n",
    "    def fmu(mu):\n",
    "        p = calculate_power(mu, sigma, alpha)\n",
    "        return np.sum(p) - pmax\n",
    "    \n",
    "    # Find the closest solution mu via bisection method\n",
    "    mu_opt = bisection_method(fmu, mu_min, mu_max, target)\n",
    "    mu_all[idx] = mu_opt\n",
    "    p_all[:, idx] = calculate_power(mu_opt, sigma, alpha)\n",
    "    "
   ]
  },
  {
   "cell_type": "code",
   "execution_count": 115,
   "metadata": {},
   "outputs": [
    {
     "data": {
      "text/plain": [
       "array([[0.09122028, 1.5208165 ],\n",
       "       [0.00788694, 1.43748316],\n",
       "       [0.        , 1.2708165 ],\n",
       "       [0.        , 0.7708165 ]])"
      ]
     },
     "execution_count": 115,
     "metadata": {},
     "output_type": "execute_result"
    }
   ],
   "source": [
    "p_all"
   ]
  },
  {
   "cell_type": "code",
   "execution_count": 116,
   "metadata": {},
   "outputs": [
    {
     "data": {
      "text/plain": [
       "array([2.9306582 , 0.56471125])"
      ]
     },
     "execution_count": 116,
     "metadata": {},
     "output_type": "execute_result"
    }
   ],
   "source": [
    "mu_all"
   ]
  },
  {
   "cell_type": "code",
   "execution_count": 117,
   "metadata": {},
   "outputs": [
    {
     "data": {
      "text/plain": [
       "<matplotlib.legend.Legend at 0x116c71198>"
      ]
     },
     "execution_count": 117,
     "metadata": {},
     "output_type": "execute_result"
    },
    {
     "data": {
      "image/png": "[encoded data removed]",
      "text/plain": [
       "<Figure size 432x288 with 1 Axes>"
      ]
     },
     "metadata": {},
     "output_type": "display_data"
    }
   ],
   "source": [
    "plt.plot(alpha, p_all[:, 0], label = 'pmax = 0.1')\n",
    "plt.plot(alpha, p_all[:, 1], label = 'pmax = 10')\n",
    "plt.legend()"
   ]
  },
  {
   "cell_type": "code",
   "execution_count": null,
   "metadata": {},
   "outputs": [],
   "source": []
  }
 ],
 "metadata": {
  "kernelspec": {
   "display_name": "Python 3",
   "language": "python",
   "name": "python3"
  },
  "language_info": {
   "codemirror_mode": {
    "name": "ipython",
    "version": 3
   },
   "file_extension": ".py",
   "mimetype": "text/x-python",
   "name": "python",
   "nbconvert_exporter": "python",
   "pygments_lexer": "ipython3",
   "version": "3.6.7"
  }
 },
 "nbformat": 4,
 "nbformat_minor": 2
}
